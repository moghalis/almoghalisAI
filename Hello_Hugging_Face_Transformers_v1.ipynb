{
  "cells": [
    {
      "cell_type": "markdown",
      "metadata": {
        "id": "H7mAbi-JTcOL"
      },
      "source": [
        "#📚 Introduction to Hugging Face Transformers\n",
        "\n",
        "Welcome to this hands-on tutorial exploring the Hugging Face Transformers library!\n",
        "In this notebook, you will learn how to easily build powerful Natural Language Processing (NLP) applications using pre-trained models and the pipeline API.\n",
        "\n",
        "✨ What You’ll Learn\n",
        "- How to install and set up the Hugging Face Transformers library\n",
        "- Running NLP models with just a few lines of code\n",
        "- Using the pipeline abstraction for quick tasks like:\n",
        "\n",
        "1- Text Classification - Sentiment Analysis\n",
        "\n",
        "2- Named Entity Recognition (NER)\n",
        "\n",
        "3- Question Answering\n",
        "\n",
        "4- Summarization\n",
        "\n",
        "5- Translation\n",
        "\n",
        "6- Text Generation\n",
        "\n",
        "\n",
        "\n"
      ]
    },
    {
      "cell_type": "code",
      "source": [
        "#pip install transformers"
      ],
      "metadata": {
        "id": "DLBdpMjkc2MF"
      },
      "execution_count": null,
      "outputs": []
    },
    {
      "cell_type": "markdown",
      "metadata": {
        "id": "mKt0V4ZWTcOM"
      },
      "source": [
        "# Hello Hugging Face Transformers"
      ]
    },
    {
      "cell_type": "code",
      "execution_count": null,
      "metadata": {
        "id": "w_s1MllgTcON"
      },
      "outputs": [],
      "source": [
        "text = \"\"\"Dear Amazon,\n",
        "I am writing from Gotham City, New York, regarding a major disappointment. A few days ago, I ordered a premium Superman\\n\n",
        "collectible figure from your online store. When the box arrived at Wayne Manor, the packaging was crushed, and the figure inside\\n\n",
        "was in terrible condition — the shield emblem was chipped, and the left arm was broken.\\n\n",
        "I don’t tolerate failure in Gotham, and I certainly don’t expect it from a company of your reputation.\\n\n",
        "This was meant to be a tribute gift, and now it’s ruined. I demand either an immediate replacement in perfect condition\\n\n",
        "or a full refund. Photos of the damaged item and shipping labels are attached for your review.\\n\n",
        "You have 48 hours to respond before I escalate this complaint further.\\n\n",
        "— Batman (Bruce Wayne)\\n\n",
        "Wayne Manor, Gotham City, New York, USA\\n\n",
        "\"\"\""
      ]
    },
    {
      "cell_type": "markdown",
      "metadata": {
        "id": "iYggkGGsTcON"
      },
      "source": [
        "### 1- Sentiment Analysis (Text Classification)"
      ]
    },
    {
      "cell_type": "code",
      "source": [
        "from transformers import pipeline\n",
        "import pandas as pd\n",
        "\n",
        "classifier = pipeline(\"text-classification\")\n",
        "output= classifier(text)\n"
      ],
      "metadata": {
        "id": "WsdpE1VTUFZ7"
      },
      "execution_count": null,
      "outputs": []
    },
    {
      "cell_type": "code",
      "source": [
        "output"
      ],
      "metadata": {
        "id": "JJ-NGKRq2_-4"
      },
      "execution_count": null,
      "outputs": []
    },
    {
      "cell_type": "code",
      "source": [
        "pd.DataFrame(output)"
      ],
      "metadata": {
        "id": "FgQQUm4A299e"
      },
      "execution_count": null,
      "outputs": []
    },
    {
      "cell_type": "markdown",
      "metadata": {
        "id": "6hWfCCu5TcOQ"
      },
      "source": [
        "### 2- Named Entity Recognition (NER)"
      ]
    },
    {
      "cell_type": "code",
      "source": [
        "ner_tagger = pipeline(\"ner\", aggregation_strategy=\"simple\")\n",
        "outputs = ner_tagger(text)\n"
      ],
      "metadata": {
        "id": "20-7johfUdcL"
      },
      "execution_count": null,
      "outputs": []
    },
    {
      "cell_type": "code",
      "source": [
        "outputs"
      ],
      "metadata": {
        "id": "oU63-1qM3bET"
      },
      "execution_count": null,
      "outputs": []
    },
    {
      "cell_type": "code",
      "source": [
        "pd.DataFrame(outputs)"
      ],
      "metadata": {
        "id": "Lug_fPs03gHy"
      },
      "execution_count": null,
      "outputs": []
    },
    {
      "cell_type": "markdown",
      "metadata": {
        "id": "kHaKJ8kcTcOR"
      },
      "source": [
        "### 3- Question Answering"
      ]
    },
    {
      "cell_type": "code",
      "source": [
        "reader = pipeline(\"question-answering\")\n",
        "question = \"What does the customer want?\"\n",
        "outputs = reader(question=question, context=text)\n"
      ],
      "metadata": {
        "id": "XLAbqFbkVEzt"
      },
      "execution_count": null,
      "outputs": []
    },
    {
      "cell_type": "code",
      "source": [
        "outputs"
      ],
      "metadata": {
        "id": "2FwRGX1d3s34"
      },
      "execution_count": null,
      "outputs": []
    },
    {
      "cell_type": "code",
      "source": [
        "pd.DataFrame([outputs])"
      ],
      "metadata": {
        "id": "EPHx9N-33rwK"
      },
      "execution_count": null,
      "outputs": []
    },
    {
      "cell_type": "markdown",
      "metadata": {
        "id": "VyKkFA3MTcOT"
      },
      "source": [
        "### 4- Summarization"
      ]
    },
    {
      "cell_type": "code",
      "source": [
        "summarizer = pipeline(\"summarization\")\n",
        "outputs = summarizer(text, max_length=45, clean_up_tokenization_spaces=True)\n"
      ],
      "metadata": {
        "id": "PX8950v0VWmg"
      },
      "execution_count": null,
      "outputs": []
    },
    {
      "cell_type": "code",
      "source": [
        "outputs"
      ],
      "metadata": {
        "id": "EBwi3cWW37KG"
      },
      "execution_count": null,
      "outputs": []
    },
    {
      "cell_type": "code",
      "source": [
        "outputs[0]['summary_text']"
      ],
      "metadata": {
        "id": "ko7u6Fxj38U0"
      },
      "execution_count": null,
      "outputs": []
    },
    {
      "cell_type": "markdown",
      "metadata": {
        "id": "1pIlccFuTcOU"
      },
      "source": [
        "### 5- Translation"
      ]
    },
    {
      "cell_type": "code",
      "source": [
        "translator = pipeline(\"translation_en_to_de\", model = \"Helsinki-NLP/opus-mt-en-de\")\n",
        "outputs = translator(text, clean_up_tokenization_spaces=True, min_length=100)\n"
      ],
      "metadata": {
        "id": "gc7VgS8oV2v7"
      },
      "execution_count": null,
      "outputs": []
    },
    {
      "cell_type": "code",
      "source": [
        "outputs"
      ],
      "metadata": {
        "id": "Gcje3bZ_4PHQ"
      },
      "execution_count": null,
      "outputs": []
    },
    {
      "cell_type": "code",
      "source": [
        "print(outputs[0]['translation_text'])"
      ],
      "metadata": {
        "id": "UaRtg1gO4Qyx"
      },
      "execution_count": null,
      "outputs": []
    },
    {
      "cell_type": "markdown",
      "metadata": {
        "id": "FRr8wm6xTcOW"
      },
      "source": [
        "### 6- Text Generation"
      ]
    },
    {
      "cell_type": "code",
      "source": [
        "from transformers import set_seed\n",
        "set_seed(42)\n",
        "\n",
        "generator = pipeline(\"text-generation\") #default model : openai-community/gpt2\n",
        "response = \"Dear Batman, We are sorry to hear that your order \"\n",
        "prompt = text +\"\\n\\nCustomer service response:\\n\"+ response\n",
        "print(prompt)\n",
        "outputs = generator(prompt, max_length=500)\n"
      ],
      "metadata": {
        "id": "L3QR1pVXWXjn"
      },
      "execution_count": null,
      "outputs": []
    },
    {
      "cell_type": "code",
      "source": [
        "outputs"
      ],
      "metadata": {
        "id": "R6uY7TJv4dC-"
      },
      "execution_count": null,
      "outputs": []
    },
    {
      "cell_type": "code",
      "source": [
        "print(outputs[0]['generated_text'])"
      ],
      "metadata": {
        "id": "xcvtGHOQ4ghG"
      },
      "execution_count": null,
      "outputs": []
    },
    {
      "cell_type": "code",
      "source": [],
      "metadata": {
        "id": "mkqYHeZh5jq7"
      },
      "execution_count": null,
      "outputs": []
    }
  ],
  "metadata": {
    "kernelspec": {
      "display_name": "Python 3 (ipykernel)",
      "language": "python",
      "name": "python3"
    },
    "colab": {
      "provenance": []
    }
  },
  "nbformat": 4,
  "nbformat_minor": 0
}