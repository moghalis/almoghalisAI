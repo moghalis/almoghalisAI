{
  "cells": [
    {
      "cell_type": "markdown",
      "metadata": {
        "id": "H7mAbi-JTcOL"
      },
      "source": [
        "#📚 Introduction to Hugging Face Transformers\n",
        "\n",
        "Welcome to this hands-on tutorial exploring the Hugging Face Transformers library!\n",
        "In this notebook, you will learn how to easily build powerful Natural Language Processing (NLP) applications using pre-trained models and the pipeline API.\n",
        "\n",
        "✨ What You’ll Learn\n",
        "- How to install and set up the Hugging Face Transformers library\n",
        "- Running NLP models with just a few lines of code\n",
        "- Using the pipeline abstraction for quick tasks like:\n",
        "\n",
        "1- Text Classification - Sentiment Analysis\n",
        "\n",
        "2- Named Entity Recognition (NER)\n",
        "\n",
        "3- Question Answering\n",
        "\n",
        "4- Summarization\n",
        "\n",
        "5- Translation\n",
        "\n",
        "6- Text Generation\n",
        "\n",
        "\n",
        "\n"
      ]
    },
    {
      "cell_type": "code",
      "source": [
        "#pip install transformers"
      ],
      "metadata": {
        "id": "DLBdpMjkc2MF"
      },
      "execution_count": 21,
      "outputs": []
    },
    {
      "cell_type": "markdown",
      "metadata": {
        "id": "mKt0V4ZWTcOM"
      },
      "source": [
        "# Hello Hugging Face Transformers"
      ]
    },
    {
      "cell_type": "code",
      "execution_count": 22,
      "metadata": {
        "id": "w_s1MllgTcON"
      },
      "outputs": [],
      "source": [
        "text = \"\"\"Dear Amazon,\n",
        "I am writing from Gotham City, New York, regarding a major disappointment. A few days ago, I ordered a premium Superman\\n\n",
        "collectible figure from your online store. When the box arrived at Wayne Manor, the packaging was crushed, and the figure inside\\n\n",
        "was in terrible condition — the shield emblem was chipped, and the left arm was broken.\\n\n",
        "I don’t tolerate failure in Gotham, and I certainly don’t expect it from a company of your reputation.\\n\n",
        "This was meant to be a tribute gift, and now it’s ruined. I demand either an immediate replacement in perfect condition\\n\n",
        "or a full refund. Photos of the damaged item and shipping labels are attached for your review.\\n\n",
        "You have 48 hours to respond before I escalate this complaint further.\\n\n",
        "— Batman (Bruce Wayne)\\n\n",
        "Wayne Manor, Gotham City, New York, USA\\n\n",
        "\"\"\""
      ]
    },
    {
      "cell_type": "markdown",
      "metadata": {
        "id": "iYggkGGsTcON"
      },
      "source": [
        "### 1- Sentiment Analysis (Text Classification)"
      ]
    },
    {
      "cell_type": "code",
      "source": [
        "from transformers import pipeline\n",
        "import pandas as pd\n",
        "\n",
        "classifier = pipeline(\"text-classification\")\n",
        "output= classifier(text)\n"
      ],
      "metadata": {
        "colab": {
          "base_uri": "https://localhost:8080/"
        },
        "id": "WsdpE1VTUFZ7",
        "outputId": "87647f09-85c1-4282-8527-7da2eaa54d38"
      },
      "execution_count": 23,
      "outputs": [
        {
          "output_type": "stream",
          "name": "stderr",
          "text": [
            "No model was supplied, defaulted to distilbert/distilbert-base-uncased-finetuned-sst-2-english and revision 714eb0f (https://huggingface.co/distilbert/distilbert-base-uncased-finetuned-sst-2-english).\n",
            "Using a pipeline without specifying a model name and revision in production is not recommended.\n",
            "Device set to use cpu\n"
          ]
        }
      ]
    },
    {
      "cell_type": "code",
      "source": [
        "output"
      ],
      "metadata": {
        "colab": {
          "base_uri": "https://localhost:8080/"
        },
        "id": "JJ-NGKRq2_-4",
        "outputId": "9977a4cd-98d5-41c6-a993-eea6deb581b2"
      },
      "execution_count": 24,
      "outputs": [
        {
          "output_type": "execute_result",
          "data": {
            "text/plain": [
              "[{'label': 'NEGATIVE', 'score': 0.9996312856674194}]"
            ]
          },
          "metadata": {},
          "execution_count": 24
        }
      ]
    },
    {
      "cell_type": "code",
      "source": [
        "pd.DataFrame(output)"
      ],
      "metadata": {
        "colab": {
          "base_uri": "https://localhost:8080/",
          "height": 81
        },
        "id": "FgQQUm4A299e",
        "outputId": "64d5da5c-5652-47a4-cc7a-f26cee5c91ac"
      },
      "execution_count": 25,
      "outputs": [
        {
          "output_type": "execute_result",
          "data": {
            "text/plain": [
              "      label     score\n",
              "0  NEGATIVE  0.999631"
            ],
            "text/html": [
              "\n",
              "  <div id=\"df-56b94e79-7a48-4c80-a3f0-fd331d11c201\" class=\"colab-df-container\">\n",
              "    <div>\n",
              "<style scoped>\n",
              "    .dataframe tbody tr th:only-of-type {\n",
              "        vertical-align: middle;\n",
              "    }\n",
              "\n",
              "    .dataframe tbody tr th {\n",
              "        vertical-align: top;\n",
              "    }\n",
              "\n",
              "    .dataframe thead th {\n",
              "        text-align: right;\n",
              "    }\n",
              "</style>\n",
              "<table border=\"1\" class=\"dataframe\">\n",
              "  <thead>\n",
              "    <tr style=\"text-align: right;\">\n",
              "      <th></th>\n",
              "      <th>label</th>\n",
              "      <th>score</th>\n",
              "    </tr>\n",
              "  </thead>\n",
              "  <tbody>\n",
              "    <tr>\n",
              "      <th>0</th>\n",
              "      <td>NEGATIVE</td>\n",
              "      <td>0.999631</td>\n",
              "    </tr>\n",
              "  </tbody>\n",
              "</table>\n",
              "</div>\n",
              "    <div class=\"colab-df-buttons\">\n",
              "\n",
              "  <div class=\"colab-df-container\">\n",
              "    <button class=\"colab-df-convert\" onclick=\"convertToInteractive('df-56b94e79-7a48-4c80-a3f0-fd331d11c201')\"\n",
              "            title=\"Convert this dataframe to an interactive table.\"\n",
              "            style=\"display:none;\">\n",
              "\n",
              "  <svg xmlns=\"http://www.w3.org/2000/svg\" height=\"24px\" viewBox=\"0 -960 960 960\">\n",
              "    <path d=\"M120-120v-720h720v720H120Zm60-500h600v-160H180v160Zm220 220h160v-160H400v160Zm0 220h160v-160H400v160ZM180-400h160v-160H180v160Zm440 0h160v-160H620v160ZM180-180h160v-160H180v160Zm440 0h160v-160H620v160Z\"/>\n",
              "  </svg>\n",
              "    </button>\n",
              "\n",
              "  <style>\n",
              "    .colab-df-container {\n",
              "      display:flex;\n",
              "      gap: 12px;\n",
              "    }\n",
              "\n",
              "    .colab-df-convert {\n",
              "      background-color: #E8F0FE;\n",
              "      border: none;\n",
              "      border-radius: 50%;\n",
              "      cursor: pointer;\n",
              "      display: none;\n",
              "      fill: #1967D2;\n",
              "      height: 32px;\n",
              "      padding: 0 0 0 0;\n",
              "      width: 32px;\n",
              "    }\n",
              "\n",
              "    .colab-df-convert:hover {\n",
              "      background-color: #E2EBFA;\n",
              "      box-shadow: 0px 1px 2px rgba(60, 64, 67, 0.3), 0px 1px 3px 1px rgba(60, 64, 67, 0.15);\n",
              "      fill: #174EA6;\n",
              "    }\n",
              "\n",
              "    .colab-df-buttons div {\n",
              "      margin-bottom: 4px;\n",
              "    }\n",
              "\n",
              "    [theme=dark] .colab-df-convert {\n",
              "      background-color: #3B4455;\n",
              "      fill: #D2E3FC;\n",
              "    }\n",
              "\n",
              "    [theme=dark] .colab-df-convert:hover {\n",
              "      background-color: #434B5C;\n",
              "      box-shadow: 0px 1px 3px 1px rgba(0, 0, 0, 0.15);\n",
              "      filter: drop-shadow(0px 1px 2px rgba(0, 0, 0, 0.3));\n",
              "      fill: #FFFFFF;\n",
              "    }\n",
              "  </style>\n",
              "\n",
              "    <script>\n",
              "      const buttonEl =\n",
              "        document.querySelector('#df-56b94e79-7a48-4c80-a3f0-fd331d11c201 button.colab-df-convert');\n",
              "      buttonEl.style.display =\n",
              "        google.colab.kernel.accessAllowed ? 'block' : 'none';\n",
              "\n",
              "      async function convertToInteractive(key) {\n",
              "        const element = document.querySelector('#df-56b94e79-7a48-4c80-a3f0-fd331d11c201');\n",
              "        const dataTable =\n",
              "          await google.colab.kernel.invokeFunction('convertToInteractive',\n",
              "                                                    [key], {});\n",
              "        if (!dataTable) return;\n",
              "\n",
              "        const docLinkHtml = 'Like what you see? Visit the ' +\n",
              "          '<a target=\"_blank\" href=https://colab.research.google.com/notebooks/data_table.ipynb>data table notebook</a>'\n",
              "          + ' to learn more about interactive tables.';\n",
              "        element.innerHTML = '';\n",
              "        dataTable['output_type'] = 'display_data';\n",
              "        await google.colab.output.renderOutput(dataTable, element);\n",
              "        const docLink = document.createElement('div');\n",
              "        docLink.innerHTML = docLinkHtml;\n",
              "        element.appendChild(docLink);\n",
              "      }\n",
              "    </script>\n",
              "  </div>\n",
              "\n",
              "\n",
              "    </div>\n",
              "  </div>\n"
            ],
            "application/vnd.google.colaboratory.intrinsic+json": {
              "type": "dataframe",
              "summary": "{\n  \"name\": \"pd\",\n  \"rows\": 1,\n  \"fields\": [\n    {\n      \"column\": \"label\",\n      \"properties\": {\n        \"dtype\": \"string\",\n        \"num_unique_values\": 1,\n        \"samples\": [\n          \"NEGATIVE\"\n        ],\n        \"semantic_type\": \"\",\n        \"description\": \"\"\n      }\n    },\n    {\n      \"column\": \"score\",\n      \"properties\": {\n        \"dtype\": \"number\",\n        \"std\": null,\n        \"min\": 0.9996312856674194,\n        \"max\": 0.9996312856674194,\n        \"num_unique_values\": 1,\n        \"samples\": [\n          0.9996312856674194\n        ],\n        \"semantic_type\": \"\",\n        \"description\": \"\"\n      }\n    }\n  ]\n}"
            }
          },
          "metadata": {},
          "execution_count": 25
        }
      ]
    },
    {
      "cell_type": "markdown",
      "metadata": {
        "id": "6hWfCCu5TcOQ"
      },
      "source": [
        "### 2- Named Entity Recognition (NER)"
      ]
    },
    {
      "cell_type": "code",
      "source": [
        "ner_tagger = pipeline(\"ner\", aggregation_strategy=\"simple\")\n",
        "outputs = ner_tagger(text)\n"
      ],
      "metadata": {
        "colab": {
          "base_uri": "https://localhost:8080/"
        },
        "id": "20-7johfUdcL",
        "outputId": "94c51858-a338-4ec2-a49d-64114e6ef7c5"
      },
      "execution_count": 26,
      "outputs": [
        {
          "output_type": "stream",
          "name": "stderr",
          "text": [
            "No model was supplied, defaulted to dbmdz/bert-large-cased-finetuned-conll03-english and revision 4c53496 (https://huggingface.co/dbmdz/bert-large-cased-finetuned-conll03-english).\n",
            "Using a pipeline without specifying a model name and revision in production is not recommended.\n",
            "Some weights of the model checkpoint at dbmdz/bert-large-cased-finetuned-conll03-english were not used when initializing BertForTokenClassification: ['bert.pooler.dense.bias', 'bert.pooler.dense.weight']\n",
            "- This IS expected if you are initializing BertForTokenClassification from the checkpoint of a model trained on another task or with another architecture (e.g. initializing a BertForSequenceClassification model from a BertForPreTraining model).\n",
            "- This IS NOT expected if you are initializing BertForTokenClassification from the checkpoint of a model that you expect to be exactly identical (initializing a BertForSequenceClassification model from a BertForSequenceClassification model).\n",
            "Device set to use cpu\n"
          ]
        }
      ]
    },
    {
      "cell_type": "code",
      "source": [
        "outputs"
      ],
      "metadata": {
        "colab": {
          "base_uri": "https://localhost:8080/"
        },
        "id": "oU63-1qM3bET",
        "outputId": "e328c51f-76b5-4783-f558-b297122bdaa2"
      },
      "execution_count": 27,
      "outputs": [
        {
          "output_type": "execute_result",
          "data": {
            "text/plain": [
              "[{'entity_group': 'ORG',\n",
              "  'score': np.float32(0.9559783),\n",
              "  'word': 'Amazon',\n",
              "  'start': 5,\n",
              "  'end': 11},\n",
              " {'entity_group': 'LOC',\n",
              "  'score': np.float32(0.9985744),\n",
              "  'word': 'Gotham City',\n",
              "  'start': 31,\n",
              "  'end': 42},\n",
              " {'entity_group': 'LOC',\n",
              "  'score': np.float32(0.9993133),\n",
              "  'word': 'New York',\n",
              "  'start': 44,\n",
              "  'end': 52},\n",
              " {'entity_group': 'MISC',\n",
              "  'score': np.float32(0.5419842),\n",
              "  'word': 'Superman',\n",
              "  'start': 124,\n",
              "  'end': 132},\n",
              " {'entity_group': 'LOC',\n",
              "  'score': np.float32(0.8741362),\n",
              "  'word': 'Wayne Manor',\n",
              "  'start': 201,\n",
              "  'end': 212},\n",
              " {'entity_group': 'LOC',\n",
              "  'score': np.float32(0.9963251),\n",
              "  'word': 'Gotham',\n",
              "  'start': 381,\n",
              "  'end': 387},\n",
              " {'entity_group': 'ORG',\n",
              "  'score': np.float32(0.69862854),\n",
              "  'word': 'Batman',\n",
              "  'start': 748,\n",
              "  'end': 754},\n",
              " {'entity_group': 'PER',\n",
              "  'score': np.float32(0.7941628),\n",
              "  'word': 'Bruce Wayne',\n",
              "  'start': 756,\n",
              "  'end': 767},\n",
              " {'entity_group': 'ORG',\n",
              "  'score': np.float32(0.6171477),\n",
              "  'word': 'Wayne',\n",
              "  'start': 770,\n",
              "  'end': 775},\n",
              " {'entity_group': 'LOC',\n",
              "  'score': np.float32(0.89081246),\n",
              "  'word': 'Manor',\n",
              "  'start': 776,\n",
              "  'end': 781},\n",
              " {'entity_group': 'LOC',\n",
              "  'score': np.float32(0.9978316),\n",
              "  'word': 'Gotham City',\n",
              "  'start': 783,\n",
              "  'end': 794},\n",
              " {'entity_group': 'LOC',\n",
              "  'score': np.float32(0.99807394),\n",
              "  'word': 'New York',\n",
              "  'start': 796,\n",
              "  'end': 804},\n",
              " {'entity_group': 'LOC',\n",
              "  'score': np.float32(0.9961223),\n",
              "  'word': 'USA',\n",
              "  'start': 806,\n",
              "  'end': 809}]"
            ]
          },
          "metadata": {},
          "execution_count": 27
        }
      ]
    },
    {
      "cell_type": "code",
      "source": [
        "pd.DataFrame(outputs)"
      ],
      "metadata": {
        "colab": {
          "base_uri": "https://localhost:8080/",
          "height": 457
        },
        "id": "Lug_fPs03gHy",
        "outputId": "fd454da1-c44a-4f6a-b884-be4650baf815"
      },
      "execution_count": 28,
      "outputs": [
        {
          "output_type": "execute_result",
          "data": {
            "text/plain": [
              "   entity_group     score         word  start  end\n",
              "0           ORG  0.955978       Amazon      5   11\n",
              "1           LOC  0.998574  Gotham City     31   42\n",
              "2           LOC  0.999313     New York     44   52\n",
              "3          MISC  0.541984     Superman    124  132\n",
              "4           LOC  0.874136  Wayne Manor    201  212\n",
              "5           LOC  0.996325       Gotham    381  387\n",
              "6           ORG  0.698629       Batman    748  754\n",
              "7           PER  0.794163  Bruce Wayne    756  767\n",
              "8           ORG  0.617148        Wayne    770  775\n",
              "9           LOC  0.890812        Manor    776  781\n",
              "10          LOC  0.997832  Gotham City    783  794\n",
              "11          LOC  0.998074     New York    796  804\n",
              "12          LOC  0.996122          USA    806  809"
            ],
            "text/html": [
              "\n",
              "  <div id=\"df-1b66d09d-ee23-4b77-b815-6c4022c136d1\" class=\"colab-df-container\">\n",
              "    <div>\n",
              "<style scoped>\n",
              "    .dataframe tbody tr th:only-of-type {\n",
              "        vertical-align: middle;\n",
              "    }\n",
              "\n",
              "    .dataframe tbody tr th {\n",
              "        vertical-align: top;\n",
              "    }\n",
              "\n",
              "    .dataframe thead th {\n",
              "        text-align: right;\n",
              "    }\n",
              "</style>\n",
              "<table border=\"1\" class=\"dataframe\">\n",
              "  <thead>\n",
              "    <tr style=\"text-align: right;\">\n",
              "      <th></th>\n",
              "      <th>entity_group</th>\n",
              "      <th>score</th>\n",
              "      <th>word</th>\n",
              "      <th>start</th>\n",
              "      <th>end</th>\n",
              "    </tr>\n",
              "  </thead>\n",
              "  <tbody>\n",
              "    <tr>\n",
              "      <th>0</th>\n",
              "      <td>ORG</td>\n",
              "      <td>0.955978</td>\n",
              "      <td>Amazon</td>\n",
              "      <td>5</td>\n",
              "      <td>11</td>\n",
              "    </tr>\n",
              "    <tr>\n",
              "      <th>1</th>\n",
              "      <td>LOC</td>\n",
              "      <td>0.998574</td>\n",
              "      <td>Gotham City</td>\n",
              "      <td>31</td>\n",
              "      <td>42</td>\n",
              "    </tr>\n",
              "    <tr>\n",
              "      <th>2</th>\n",
              "      <td>LOC</td>\n",
              "      <td>0.999313</td>\n",
              "      <td>New York</td>\n",
              "      <td>44</td>\n",
              "      <td>52</td>\n",
              "    </tr>\n",
              "    <tr>\n",
              "      <th>3</th>\n",
              "      <td>MISC</td>\n",
              "      <td>0.541984</td>\n",
              "      <td>Superman</td>\n",
              "      <td>124</td>\n",
              "      <td>132</td>\n",
              "    </tr>\n",
              "    <tr>\n",
              "      <th>4</th>\n",
              "      <td>LOC</td>\n",
              "      <td>0.874136</td>\n",
              "      <td>Wayne Manor</td>\n",
              "      <td>201</td>\n",
              "      <td>212</td>\n",
              "    </tr>\n",
              "    <tr>\n",
              "      <th>5</th>\n",
              "      <td>LOC</td>\n",
              "      <td>0.996325</td>\n",
              "      <td>Gotham</td>\n",
              "      <td>381</td>\n",
              "      <td>387</td>\n",
              "    </tr>\n",
              "    <tr>\n",
              "      <th>6</th>\n",
              "      <td>ORG</td>\n",
              "      <td>0.698629</td>\n",
              "      <td>Batman</td>\n",
              "      <td>748</td>\n",
              "      <td>754</td>\n",
              "    </tr>\n",
              "    <tr>\n",
              "      <th>7</th>\n",
              "      <td>PER</td>\n",
              "      <td>0.794163</td>\n",
              "      <td>Bruce Wayne</td>\n",
              "      <td>756</td>\n",
              "      <td>767</td>\n",
              "    </tr>\n",
              "    <tr>\n",
              "      <th>8</th>\n",
              "      <td>ORG</td>\n",
              "      <td>0.617148</td>\n",
              "      <td>Wayne</td>\n",
              "      <td>770</td>\n",
              "      <td>775</td>\n",
              "    </tr>\n",
              "    <tr>\n",
              "      <th>9</th>\n",
              "      <td>LOC</td>\n",
              "      <td>0.890812</td>\n",
              "      <td>Manor</td>\n",
              "      <td>776</td>\n",
              "      <td>781</td>\n",
              "    </tr>\n",
              "    <tr>\n",
              "      <th>10</th>\n",
              "      <td>LOC</td>\n",
              "      <td>0.997832</td>\n",
              "      <td>Gotham City</td>\n",
              "      <td>783</td>\n",
              "      <td>794</td>\n",
              "    </tr>\n",
              "    <tr>\n",
              "      <th>11</th>\n",
              "      <td>LOC</td>\n",
              "      <td>0.998074</td>\n",
              "      <td>New York</td>\n",
              "      <td>796</td>\n",
              "      <td>804</td>\n",
              "    </tr>\n",
              "    <tr>\n",
              "      <th>12</th>\n",
              "      <td>LOC</td>\n",
              "      <td>0.996122</td>\n",
              "      <td>USA</td>\n",
              "      <td>806</td>\n",
              "      <td>809</td>\n",
              "    </tr>\n",
              "  </tbody>\n",
              "</table>\n",
              "</div>\n",
              "    <div class=\"colab-df-buttons\">\n",
              "\n",
              "  <div class=\"colab-df-container\">\n",
              "    <button class=\"colab-df-convert\" onclick=\"convertToInteractive('df-1b66d09d-ee23-4b77-b815-6c4022c136d1')\"\n",
              "            title=\"Convert this dataframe to an interactive table.\"\n",
              "            style=\"display:none;\">\n",
              "\n",
              "  <svg xmlns=\"http://www.w3.org/2000/svg\" height=\"24px\" viewBox=\"0 -960 960 960\">\n",
              "    <path d=\"M120-120v-720h720v720H120Zm60-500h600v-160H180v160Zm220 220h160v-160H400v160Zm0 220h160v-160H400v160ZM180-400h160v-160H180v160Zm440 0h160v-160H620v160ZM180-180h160v-160H180v160Zm440 0h160v-160H620v160Z\"/>\n",
              "  </svg>\n",
              "    </button>\n",
              "\n",
              "  <style>\n",
              "    .colab-df-container {\n",
              "      display:flex;\n",
              "      gap: 12px;\n",
              "    }\n",
              "\n",
              "    .colab-df-convert {\n",
              "      background-color: #E8F0FE;\n",
              "      border: none;\n",
              "      border-radius: 50%;\n",
              "      cursor: pointer;\n",
              "      display: none;\n",
              "      fill: #1967D2;\n",
              "      height: 32px;\n",
              "      padding: 0 0 0 0;\n",
              "      width: 32px;\n",
              "    }\n",
              "\n",
              "    .colab-df-convert:hover {\n",
              "      background-color: #E2EBFA;\n",
              "      box-shadow: 0px 1px 2px rgba(60, 64, 67, 0.3), 0px 1px 3px 1px rgba(60, 64, 67, 0.15);\n",
              "      fill: #174EA6;\n",
              "    }\n",
              "\n",
              "    .colab-df-buttons div {\n",
              "      margin-bottom: 4px;\n",
              "    }\n",
              "\n",
              "    [theme=dark] .colab-df-convert {\n",
              "      background-color: #3B4455;\n",
              "      fill: #D2E3FC;\n",
              "    }\n",
              "\n",
              "    [theme=dark] .colab-df-convert:hover {\n",
              "      background-color: #434B5C;\n",
              "      box-shadow: 0px 1px 3px 1px rgba(0, 0, 0, 0.15);\n",
              "      filter: drop-shadow(0px 1px 2px rgba(0, 0, 0, 0.3));\n",
              "      fill: #FFFFFF;\n",
              "    }\n",
              "  </style>\n",
              "\n",
              "    <script>\n",
              "      const buttonEl =\n",
              "        document.querySelector('#df-1b66d09d-ee23-4b77-b815-6c4022c136d1 button.colab-df-convert');\n",
              "      buttonEl.style.display =\n",
              "        google.colab.kernel.accessAllowed ? 'block' : 'none';\n",
              "\n",
              "      async function convertToInteractive(key) {\n",
              "        const element = document.querySelector('#df-1b66d09d-ee23-4b77-b815-6c4022c136d1');\n",
              "        const dataTable =\n",
              "          await google.colab.kernel.invokeFunction('convertToInteractive',\n",
              "                                                    [key], {});\n",
              "        if (!dataTable) return;\n",
              "\n",
              "        const docLinkHtml = 'Like what you see? Visit the ' +\n",
              "          '<a target=\"_blank\" href=https://colab.research.google.com/notebooks/data_table.ipynb>data table notebook</a>'\n",
              "          + ' to learn more about interactive tables.';\n",
              "        element.innerHTML = '';\n",
              "        dataTable['output_type'] = 'display_data';\n",
              "        await google.colab.output.renderOutput(dataTable, element);\n",
              "        const docLink = document.createElement('div');\n",
              "        docLink.innerHTML = docLinkHtml;\n",
              "        element.appendChild(docLink);\n",
              "      }\n",
              "    </script>\n",
              "  </div>\n",
              "\n",
              "\n",
              "    <div id=\"df-162e1074-46b2-4153-89d4-278331a52f43\">\n",
              "      <button class=\"colab-df-quickchart\" onclick=\"quickchart('df-162e1074-46b2-4153-89d4-278331a52f43')\"\n",
              "                title=\"Suggest charts\"\n",
              "                style=\"display:none;\">\n",
              "\n",
              "<svg xmlns=\"http://www.w3.org/2000/svg\" height=\"24px\"viewBox=\"0 0 24 24\"\n",
              "     width=\"24px\">\n",
              "    <g>\n",
              "        <path d=\"M19 3H5c-1.1 0-2 .9-2 2v14c0 1.1.9 2 2 2h14c1.1 0 2-.9 2-2V5c0-1.1-.9-2-2-2zM9 17H7v-7h2v7zm4 0h-2V7h2v10zm4 0h-2v-4h2v4z\"/>\n",
              "    </g>\n",
              "</svg>\n",
              "      </button>\n",
              "\n",
              "<style>\n",
              "  .colab-df-quickchart {\n",
              "      --bg-color: #E8F0FE;\n",
              "      --fill-color: #1967D2;\n",
              "      --hover-bg-color: #E2EBFA;\n",
              "      --hover-fill-color: #174EA6;\n",
              "      --disabled-fill-color: #AAA;\n",
              "      --disabled-bg-color: #DDD;\n",
              "  }\n",
              "\n",
              "  [theme=dark] .colab-df-quickchart {\n",
              "      --bg-color: #3B4455;\n",
              "      --fill-color: #D2E3FC;\n",
              "      --hover-bg-color: #434B5C;\n",
              "      --hover-fill-color: #FFFFFF;\n",
              "      --disabled-bg-color: #3B4455;\n",
              "      --disabled-fill-color: #666;\n",
              "  }\n",
              "\n",
              "  .colab-df-quickchart {\n",
              "    background-color: var(--bg-color);\n",
              "    border: none;\n",
              "    border-radius: 50%;\n",
              "    cursor: pointer;\n",
              "    display: none;\n",
              "    fill: var(--fill-color);\n",
              "    height: 32px;\n",
              "    padding: 0;\n",
              "    width: 32px;\n",
              "  }\n",
              "\n",
              "  .colab-df-quickchart:hover {\n",
              "    background-color: var(--hover-bg-color);\n",
              "    box-shadow: 0 1px 2px rgba(60, 64, 67, 0.3), 0 1px 3px 1px rgba(60, 64, 67, 0.15);\n",
              "    fill: var(--button-hover-fill-color);\n",
              "  }\n",
              "\n",
              "  .colab-df-quickchart-complete:disabled,\n",
              "  .colab-df-quickchart-complete:disabled:hover {\n",
              "    background-color: var(--disabled-bg-color);\n",
              "    fill: var(--disabled-fill-color);\n",
              "    box-shadow: none;\n",
              "  }\n",
              "\n",
              "  .colab-df-spinner {\n",
              "    border: 2px solid var(--fill-color);\n",
              "    border-color: transparent;\n",
              "    border-bottom-color: var(--fill-color);\n",
              "    animation:\n",
              "      spin 1s steps(1) infinite;\n",
              "  }\n",
              "\n",
              "  @keyframes spin {\n",
              "    0% {\n",
              "      border-color: transparent;\n",
              "      border-bottom-color: var(--fill-color);\n",
              "      border-left-color: var(--fill-color);\n",
              "    }\n",
              "    20% {\n",
              "      border-color: transparent;\n",
              "      border-left-color: var(--fill-color);\n",
              "      border-top-color: var(--fill-color);\n",
              "    }\n",
              "    30% {\n",
              "      border-color: transparent;\n",
              "      border-left-color: var(--fill-color);\n",
              "      border-top-color: var(--fill-color);\n",
              "      border-right-color: var(--fill-color);\n",
              "    }\n",
              "    40% {\n",
              "      border-color: transparent;\n",
              "      border-right-color: var(--fill-color);\n",
              "      border-top-color: var(--fill-color);\n",
              "    }\n",
              "    60% {\n",
              "      border-color: transparent;\n",
              "      border-right-color: var(--fill-color);\n",
              "    }\n",
              "    80% {\n",
              "      border-color: transparent;\n",
              "      border-right-color: var(--fill-color);\n",
              "      border-bottom-color: var(--fill-color);\n",
              "    }\n",
              "    90% {\n",
              "      border-color: transparent;\n",
              "      border-bottom-color: var(--fill-color);\n",
              "    }\n",
              "  }\n",
              "</style>\n",
              "\n",
              "      <script>\n",
              "        async function quickchart(key) {\n",
              "          const quickchartButtonEl =\n",
              "            document.querySelector('#' + key + ' button');\n",
              "          quickchartButtonEl.disabled = true;  // To prevent multiple clicks.\n",
              "          quickchartButtonEl.classList.add('colab-df-spinner');\n",
              "          try {\n",
              "            const charts = await google.colab.kernel.invokeFunction(\n",
              "                'suggestCharts', [key], {});\n",
              "          } catch (error) {\n",
              "            console.error('Error during call to suggestCharts:', error);\n",
              "          }\n",
              "          quickchartButtonEl.classList.remove('colab-df-spinner');\n",
              "          quickchartButtonEl.classList.add('colab-df-quickchart-complete');\n",
              "        }\n",
              "        (() => {\n",
              "          let quickchartButtonEl =\n",
              "            document.querySelector('#df-162e1074-46b2-4153-89d4-278331a52f43 button');\n",
              "          quickchartButtonEl.style.display =\n",
              "            google.colab.kernel.accessAllowed ? 'block' : 'none';\n",
              "        })();\n",
              "      </script>\n",
              "    </div>\n",
              "\n",
              "    </div>\n",
              "  </div>\n"
            ],
            "application/vnd.google.colaboratory.intrinsic+json": {
              "type": "dataframe",
              "summary": "{\n  \"name\": \"pd\",\n  \"rows\": 13,\n  \"fields\": [\n    {\n      \"column\": \"entity_group\",\n      \"properties\": {\n        \"dtype\": \"category\",\n        \"num_unique_values\": 4,\n        \"samples\": [\n          \"LOC\",\n          \"PER\",\n          \"ORG\"\n        ],\n        \"semantic_type\": \"\",\n        \"description\": \"\"\n      }\n    },\n    {\n      \"column\": \"score\",\n      \"properties\": {\n        \"dtype\": \"float32\",\n        \"num_unique_values\": 13,\n        \"samples\": [\n          0.998073935508728,\n          0.8908124566078186,\n          0.955978274345398\n        ],\n        \"semantic_type\": \"\",\n        \"description\": \"\"\n      }\n    },\n    {\n      \"column\": \"word\",\n      \"properties\": {\n        \"dtype\": \"string\",\n        \"num_unique_values\": 11,\n        \"samples\": [\n          \"Gotham\",\n          \"Amazon\",\n          \"Manor\"\n        ],\n        \"semantic_type\": \"\",\n        \"description\": \"\"\n      }\n    },\n    {\n      \"column\": \"start\",\n      \"properties\": {\n        \"dtype\": \"number\",\n        \"std\": 347,\n        \"min\": 5,\n        \"max\": 806,\n        \"num_unique_values\": 13,\n        \"samples\": [\n          796,\n          776,\n          5\n        ],\n        \"semantic_type\": \"\",\n        \"description\": \"\"\n      }\n    },\n    {\n      \"column\": \"end\",\n      \"properties\": {\n        \"dtype\": \"number\",\n        \"std\": 346,\n        \"min\": 11,\n        \"max\": 809,\n        \"num_unique_values\": 13,\n        \"samples\": [\n          804,\n          781,\n          11\n        ],\n        \"semantic_type\": \"\",\n        \"description\": \"\"\n      }\n    }\n  ]\n}"
            }
          },
          "metadata": {},
          "execution_count": 28
        }
      ]
    },
    {
      "cell_type": "markdown",
      "metadata": {
        "id": "kHaKJ8kcTcOR"
      },
      "source": [
        "### 3- Question Answering"
      ]
    },
    {
      "cell_type": "code",
      "source": [
        "reader = pipeline(\"question-answering\")\n",
        "question = \"What does the customer want?\"\n",
        "outputs = reader(question=question, context=text)\n"
      ],
      "metadata": {
        "id": "XLAbqFbkVEzt",
        "colab": {
          "base_uri": "https://localhost:8080/"
        },
        "outputId": "4a0186c1-a55f-4014-d7e8-6e9cef6ea2fe"
      },
      "execution_count": 29,
      "outputs": [
        {
          "output_type": "stream",
          "name": "stderr",
          "text": [
            "No model was supplied, defaulted to distilbert/distilbert-base-cased-distilled-squad and revision 564e9b5 (https://huggingface.co/distilbert/distilbert-base-cased-distilled-squad).\n",
            "Using a pipeline without specifying a model name and revision in production is not recommended.\n",
            "Device set to use cpu\n"
          ]
        }
      ]
    },
    {
      "cell_type": "code",
      "source": [
        "outputs"
      ],
      "metadata": {
        "id": "2FwRGX1d3s34",
        "colab": {
          "base_uri": "https://localhost:8080/"
        },
        "outputId": "7866c3f5-4f27-41f3-a30b-062af4f05f21"
      },
      "execution_count": 30,
      "outputs": [
        {
          "output_type": "execute_result",
          "data": {
            "text/plain": [
              "{'score': 0.22134383022785187,\n",
              " 'start': 531,\n",
              " 'end': 594,\n",
              " 'answer': 'an immediate replacement in perfect condition\\n\\nor a full refund'}"
            ]
          },
          "metadata": {},
          "execution_count": 30
        }
      ]
    },
    {
      "cell_type": "code",
      "source": [
        "pd.DataFrame([outputs])"
      ],
      "metadata": {
        "id": "EPHx9N-33rwK",
        "colab": {
          "base_uri": "https://localhost:8080/",
          "height": 81
        },
        "outputId": "d172c6db-f6bf-4e7c-eb57-ef5670a45fcf"
      },
      "execution_count": 31,
      "outputs": [
        {
          "output_type": "execute_result",
          "data": {
            "text/plain": [
              "      score  start  end                                             answer\n",
              "0  0.221344    531  594  an immediate replacement in perfect condition\\..."
            ],
            "text/html": [
              "\n",
              "  <div id=\"df-d04297ab-2d47-4e9c-adec-c74476b2e570\" class=\"colab-df-container\">\n",
              "    <div>\n",
              "<style scoped>\n",
              "    .dataframe tbody tr th:only-of-type {\n",
              "        vertical-align: middle;\n",
              "    }\n",
              "\n",
              "    .dataframe tbody tr th {\n",
              "        vertical-align: top;\n",
              "    }\n",
              "\n",
              "    .dataframe thead th {\n",
              "        text-align: right;\n",
              "    }\n",
              "</style>\n",
              "<table border=\"1\" class=\"dataframe\">\n",
              "  <thead>\n",
              "    <tr style=\"text-align: right;\">\n",
              "      <th></th>\n",
              "      <th>score</th>\n",
              "      <th>start</th>\n",
              "      <th>end</th>\n",
              "      <th>answer</th>\n",
              "    </tr>\n",
              "  </thead>\n",
              "  <tbody>\n",
              "    <tr>\n",
              "      <th>0</th>\n",
              "      <td>0.221344</td>\n",
              "      <td>531</td>\n",
              "      <td>594</td>\n",
              "      <td>an immediate replacement in perfect condition\\...</td>\n",
              "    </tr>\n",
              "  </tbody>\n",
              "</table>\n",
              "</div>\n",
              "    <div class=\"colab-df-buttons\">\n",
              "\n",
              "  <div class=\"colab-df-container\">\n",
              "    <button class=\"colab-df-convert\" onclick=\"convertToInteractive('df-d04297ab-2d47-4e9c-adec-c74476b2e570')\"\n",
              "            title=\"Convert this dataframe to an interactive table.\"\n",
              "            style=\"display:none;\">\n",
              "\n",
              "  <svg xmlns=\"http://www.w3.org/2000/svg\" height=\"24px\" viewBox=\"0 -960 960 960\">\n",
              "    <path d=\"M120-120v-720h720v720H120Zm60-500h600v-160H180v160Zm220 220h160v-160H400v160Zm0 220h160v-160H400v160ZM180-400h160v-160H180v160Zm440 0h160v-160H620v160ZM180-180h160v-160H180v160Zm440 0h160v-160H620v160Z\"/>\n",
              "  </svg>\n",
              "    </button>\n",
              "\n",
              "  <style>\n",
              "    .colab-df-container {\n",
              "      display:flex;\n",
              "      gap: 12px;\n",
              "    }\n",
              "\n",
              "    .colab-df-convert {\n",
              "      background-color: #E8F0FE;\n",
              "      border: none;\n",
              "      border-radius: 50%;\n",
              "      cursor: pointer;\n",
              "      display: none;\n",
              "      fill: #1967D2;\n",
              "      height: 32px;\n",
              "      padding: 0 0 0 0;\n",
              "      width: 32px;\n",
              "    }\n",
              "\n",
              "    .colab-df-convert:hover {\n",
              "      background-color: #E2EBFA;\n",
              "      box-shadow: 0px 1px 2px rgba(60, 64, 67, 0.3), 0px 1px 3px 1px rgba(60, 64, 67, 0.15);\n",
              "      fill: #174EA6;\n",
              "    }\n",
              "\n",
              "    .colab-df-buttons div {\n",
              "      margin-bottom: 4px;\n",
              "    }\n",
              "\n",
              "    [theme=dark] .colab-df-convert {\n",
              "      background-color: #3B4455;\n",
              "      fill: #D2E3FC;\n",
              "    }\n",
              "\n",
              "    [theme=dark] .colab-df-convert:hover {\n",
              "      background-color: #434B5C;\n",
              "      box-shadow: 0px 1px 3px 1px rgba(0, 0, 0, 0.15);\n",
              "      filter: drop-shadow(0px 1px 2px rgba(0, 0, 0, 0.3));\n",
              "      fill: #FFFFFF;\n",
              "    }\n",
              "  </style>\n",
              "\n",
              "    <script>\n",
              "      const buttonEl =\n",
              "        document.querySelector('#df-d04297ab-2d47-4e9c-adec-c74476b2e570 button.colab-df-convert');\n",
              "      buttonEl.style.display =\n",
              "        google.colab.kernel.accessAllowed ? 'block' : 'none';\n",
              "\n",
              "      async function convertToInteractive(key) {\n",
              "        const element = document.querySelector('#df-d04297ab-2d47-4e9c-adec-c74476b2e570');\n",
              "        const dataTable =\n",
              "          await google.colab.kernel.invokeFunction('convertToInteractive',\n",
              "                                                    [key], {});\n",
              "        if (!dataTable) return;\n",
              "\n",
              "        const docLinkHtml = 'Like what you see? Visit the ' +\n",
              "          '<a target=\"_blank\" href=https://colab.research.google.com/notebooks/data_table.ipynb>data table notebook</a>'\n",
              "          + ' to learn more about interactive tables.';\n",
              "        element.innerHTML = '';\n",
              "        dataTable['output_type'] = 'display_data';\n",
              "        await google.colab.output.renderOutput(dataTable, element);\n",
              "        const docLink = document.createElement('div');\n",
              "        docLink.innerHTML = docLinkHtml;\n",
              "        element.appendChild(docLink);\n",
              "      }\n",
              "    </script>\n",
              "  </div>\n",
              "\n",
              "\n",
              "    </div>\n",
              "  </div>\n"
            ],
            "application/vnd.google.colaboratory.intrinsic+json": {
              "type": "dataframe",
              "summary": "{\n  \"name\": \"pd\",\n  \"rows\": 1,\n  \"fields\": [\n    {\n      \"column\": \"score\",\n      \"properties\": {\n        \"dtype\": \"number\",\n        \"std\": null,\n        \"min\": 0.22134383022785187,\n        \"max\": 0.22134383022785187,\n        \"num_unique_values\": 1,\n        \"samples\": [\n          0.22134383022785187\n        ],\n        \"semantic_type\": \"\",\n        \"description\": \"\"\n      }\n    },\n    {\n      \"column\": \"start\",\n      \"properties\": {\n        \"dtype\": \"number\",\n        \"std\": null,\n        \"min\": 531,\n        \"max\": 531,\n        \"num_unique_values\": 1,\n        \"samples\": [\n          531\n        ],\n        \"semantic_type\": \"\",\n        \"description\": \"\"\n      }\n    },\n    {\n      \"column\": \"end\",\n      \"properties\": {\n        \"dtype\": \"number\",\n        \"std\": null,\n        \"min\": 594,\n        \"max\": 594,\n        \"num_unique_values\": 1,\n        \"samples\": [\n          594\n        ],\n        \"semantic_type\": \"\",\n        \"description\": \"\"\n      }\n    },\n    {\n      \"column\": \"answer\",\n      \"properties\": {\n        \"dtype\": \"string\",\n        \"num_unique_values\": 1,\n        \"samples\": [\n          \"an immediate replacement in perfect condition\\n\\nor a full refund\"\n        ],\n        \"semantic_type\": \"\",\n        \"description\": \"\"\n      }\n    }\n  ]\n}"
            }
          },
          "metadata": {},
          "execution_count": 31
        }
      ]
    },
    {
      "cell_type": "markdown",
      "metadata": {
        "id": "VyKkFA3MTcOT"
      },
      "source": [
        "### 4- Summarization"
      ]
    },
    {
      "cell_type": "code",
      "source": [
        "summarizer = pipeline(\"summarization\")\n",
        "outputs = summarizer(text, max_length=45, clean_up_tokenization_spaces=True)\n"
      ],
      "metadata": {
        "colab": {
          "base_uri": "https://localhost:8080/"
        },
        "id": "PX8950v0VWmg",
        "outputId": "e822da4d-7a92-4da9-bf04-19a4612ac293"
      },
      "execution_count": 32,
      "outputs": [
        {
          "output_type": "stream",
          "name": "stderr",
          "text": [
            "No model was supplied, defaulted to sshleifer/distilbart-cnn-12-6 and revision a4f8f3e (https://huggingface.co/sshleifer/distilbart-cnn-12-6).\n",
            "Using a pipeline without specifying a model name and revision in production is not recommended.\n",
            "Device set to use cpu\n",
            "Your min_length=56 must be inferior than your max_length=45.\n",
            "/usr/local/lib/python3.11/dist-packages/transformers/generation/utils.py:1570: UserWarning: Unfeasible length constraints: `min_length` (56) is larger than the maximum possible length (45). Generation will stop at the defined maximum length. You should decrease the minimum length and/or increase the maximum length.\n",
            "  warnings.warn(\n"
          ]
        }
      ]
    },
    {
      "cell_type": "code",
      "source": [
        "outputs"
      ],
      "metadata": {
        "colab": {
          "base_uri": "https://localhost:8080/"
        },
        "id": "EBwi3cWW37KG",
        "outputId": "b107f478-c2c1-4e29-e940-6415fd179569"
      },
      "execution_count": 33,
      "outputs": [
        {
          "output_type": "execute_result",
          "data": {
            "text/plain": [
              "[{'summary_text': \" The packaging was crushed, and the figure inside was in terrible condition. The shield emblem was chipped and the left arm was broken. The figure was meant to be a tribute gift, and now it's ruined\"}]"
            ]
          },
          "metadata": {},
          "execution_count": 33
        }
      ]
    },
    {
      "cell_type": "code",
      "source": [
        "outputs[0]['summary_text']"
      ],
      "metadata": {
        "colab": {
          "base_uri": "https://localhost:8080/",
          "height": 52
        },
        "id": "ko7u6Fxj38U0",
        "outputId": "b1e72850-331a-4adb-f1a8-51e54d99a323"
      },
      "execution_count": 34,
      "outputs": [
        {
          "output_type": "execute_result",
          "data": {
            "text/plain": [
              "\" The packaging was crushed, and the figure inside was in terrible condition. The shield emblem was chipped and the left arm was broken. The figure was meant to be a tribute gift, and now it's ruined\""
            ],
            "application/vnd.google.colaboratory.intrinsic+json": {
              "type": "string"
            }
          },
          "metadata": {},
          "execution_count": 34
        }
      ]
    },
    {
      "cell_type": "markdown",
      "metadata": {
        "id": "1pIlccFuTcOU"
      },
      "source": [
        "### 5- Translation"
      ]
    },
    {
      "cell_type": "code",
      "source": [
        "translator = pipeline(\"translation_en_to_de\", model = \"Helsinki-NLP/opus-mt-en-de\")\n",
        "outputs = translator(text, clean_up_tokenization_spaces=True, min_length=100)\n"
      ],
      "metadata": {
        "colab": {
          "base_uri": "https://localhost:8080/"
        },
        "id": "gc7VgS8oV2v7",
        "outputId": "6050b4f0-4a48-4618-82d0-866c9b48c98d"
      },
      "execution_count": 35,
      "outputs": [
        {
          "output_type": "stream",
          "name": "stderr",
          "text": [
            "/usr/local/lib/python3.11/dist-packages/transformers/models/marian/tokenization_marian.py:175: UserWarning: Recommended: pip install sacremoses.\n",
            "  warnings.warn(\"Recommended: pip install sacremoses.\")\n",
            "Device set to use cpu\n"
          ]
        }
      ]
    },
    {
      "cell_type": "code",
      "source": [
        "outputs"
      ],
      "metadata": {
        "colab": {
          "base_uri": "https://localhost:8080/"
        },
        "id": "Gcje3bZ_4PHQ",
        "outputId": "29eddf67-b00e-4a07-88d5-6d7823789c7f"
      },
      "execution_count": 36,
      "outputs": [
        {
          "output_type": "execute_result",
          "data": {
            "text/plain": [
              "[{'translation_text': 'Lieber Amazon, ich schreibe aus Gotham City, New York, in Bezug auf eine große Enttäuschung. Vor ein paar Tagen, bestellte ich eine Premium Superman Sammlerfigur aus Ihrem Online-Shop. Als die Box kam in Wayne Manor, die Verpackung wurde zerquetscht, und die Figur innen war in schrecklichem Zustand — das Schild Emblem wurde gechipt, und der linke Arm wurde gebrochen. Ich verträgt nicht Versagen in Gotham, und ich sicherlich nicht erwarten, dass es von einer Firma Ihres Rufs. Dies sollte ein Tribut Geschenk sein, und jetzt ist es ruiniert. Ich verlange entweder einen sofortigen Ersatz in perfektem Zustand oder eine volle Rückerstattung. Fotos der beschädigten Artikel und Versandetiketten sind für Ihre Bewertung. Sie haben 48 Stunden, um zu antworten, bevor ich diese Beschwerde weiter eskalieren. — Batman (Bruce Wayne) Wayne Manor, Gotham City, New York, USA'}]"
            ]
          },
          "metadata": {},
          "execution_count": 36
        }
      ]
    },
    {
      "cell_type": "code",
      "source": [
        "print(outputs[0]['translation_text'])"
      ],
      "metadata": {
        "colab": {
          "base_uri": "https://localhost:8080/"
        },
        "id": "UaRtg1gO4Qyx",
        "outputId": "9348db8a-b02a-459d-8f01-553632806546"
      },
      "execution_count": 37,
      "outputs": [
        {
          "output_type": "stream",
          "name": "stdout",
          "text": [
            "Lieber Amazon, ich schreibe aus Gotham City, New York, in Bezug auf eine große Enttäuschung. Vor ein paar Tagen, bestellte ich eine Premium Superman Sammlerfigur aus Ihrem Online-Shop. Als die Box kam in Wayne Manor, die Verpackung wurde zerquetscht, und die Figur innen war in schrecklichem Zustand — das Schild Emblem wurde gechipt, und der linke Arm wurde gebrochen. Ich verträgt nicht Versagen in Gotham, und ich sicherlich nicht erwarten, dass es von einer Firma Ihres Rufs. Dies sollte ein Tribut Geschenk sein, und jetzt ist es ruiniert. Ich verlange entweder einen sofortigen Ersatz in perfektem Zustand oder eine volle Rückerstattung. Fotos der beschädigten Artikel und Versandetiketten sind für Ihre Bewertung. Sie haben 48 Stunden, um zu antworten, bevor ich diese Beschwerde weiter eskalieren. — Batman (Bruce Wayne) Wayne Manor, Gotham City, New York, USA\n"
          ]
        }
      ]
    },
    {
      "cell_type": "markdown",
      "metadata": {
        "id": "FRr8wm6xTcOW"
      },
      "source": [
        "### 6- Text Generation"
      ]
    },
    {
      "cell_type": "code",
      "source": [
        "from transformers import set_seed\n",
        "set_seed(42)\n",
        "\n",
        "generator = pipeline(\"text-generation\") #default model : openai-community/gpt2\n",
        "response = \"Dear Batman, We are sorry to hear that your order \"\n",
        "prompt = text +\"\\n\\nCustomer service response:\\n\"+ response\n",
        "print(prompt)\n",
        "outputs = generator(prompt, max_length=500)\n"
      ],
      "metadata": {
        "colab": {
          "base_uri": "https://localhost:8080/"
        },
        "id": "L3QR1pVXWXjn",
        "outputId": "d39ba4e3-92f3-442c-f7d9-5407e5d60a89"
      },
      "execution_count": 38,
      "outputs": [
        {
          "output_type": "stream",
          "name": "stderr",
          "text": [
            "No model was supplied, defaulted to openai-community/gpt2 and revision 607a30d (https://huggingface.co/openai-community/gpt2).\n",
            "Using a pipeline without specifying a model name and revision in production is not recommended.\n",
            "Device set to use cpu\n",
            "Truncation was not explicitly activated but `max_length` is provided a specific value, please use `truncation=True` to explicitly truncate examples to max length. Defaulting to 'longest_first' truncation strategy. If you encode pairs of sequences (GLUE-style) with the tokenizer you can select this strategy more precisely by providing a specific strategy to `truncation`.\n",
            "Setting `pad_token_id` to `eos_token_id`:50256 for open-end generation.\n"
          ]
        },
        {
          "output_type": "stream",
          "name": "stdout",
          "text": [
            "Dear Amazon,\n",
            "I am writing from Gotham City, New York, regarding a major disappointment. A few days ago, I ordered a premium Superman\n",
            "\n",
            "collectible figure from your online store. When the box arrived at Wayne Manor, the packaging was crushed, and the figure inside\n",
            "\n",
            "was in terrible condition — the shield emblem was chipped, and the left arm was broken.\n",
            "\n",
            "I don’t tolerate failure in Gotham, and I certainly don’t expect it from a company of your reputation.\n",
            "\n",
            "This was meant to be a tribute gift, and now it’s ruined. I demand either an immediate replacement in perfect condition\n",
            "\n",
            "or a full refund. Photos of the damaged item and shipping labels are attached for your review.\n",
            "\n",
            "You have 48 hours to respond before I escalate this complaint further.\n",
            "\n",
            "— Batman (Bruce Wayne)\n",
            "\n",
            "Wayne Manor, Gotham City, New York, USA\n",
            "\n",
            "\n",
            "\n",
            "Customer service response:\n",
            "Dear Batman, We are sorry to hear that your order \n"
          ]
        }
      ]
    },
    {
      "cell_type": "code",
      "source": [
        "outputs"
      ],
      "metadata": {
        "id": "R6uY7TJv4dC-",
        "colab": {
          "base_uri": "https://localhost:8080/"
        },
        "outputId": "d7857478-5c5d-46cf-d3c6-2458f5056dce"
      },
      "execution_count": 39,
      "outputs": [
        {
          "output_type": "execute_result",
          "data": {
            "text/plain": [
              "[{'generated_text': 'Dear Amazon,\\nI am writing from Gotham City, New York, regarding a major disappointment. A few days ago, I ordered a premium Superman\\n\\ncollectible figure from your online store. When the box arrived at Wayne Manor, the packaging was crushed, and the figure inside\\n\\nwas in terrible condition — the shield emblem was chipped, and the left arm was broken.\\n\\nI don’t tolerate failure in Gotham, and I certainly don’t expect it from a company of your reputation.\\n\\nThis was meant to be a tribute gift, and now it’s ruined. I demand either an immediate replacement in perfect condition\\n\\nor a full refund. Photos of the damaged item and shipping labels are attached for your review.\\n\\nYou have 48 hours to respond before I escalate this complaint further.\\n\\n— Batman (Bruce Wayne)\\n\\nWayne Manor, Gotham City, New York, USA\\n\\n\\n\\nCustomer service response:\\nDear Batman, We are sorry to hear that your order ’had been accepted and arrived with no change. We believe that if you do not return us an item, we may send you an inquiry asking you to get your item back. This will also help your cause. The first thing to do is to get that item back. I hope you will not be disappointed in your purchase once you have received the order again by calling your local store. We\\'re sorry we couldn\\'t find information for you and all of our customers.\\n\\n-Batman (Bruce Wayne)\\n\\nDear Bruce,\\n\\nPlease find a local Walmart, I\\'m working right now on a new product and it was my only chance to bring it. Just wanted to inform you that I tried by email with a \"Do Not Order This Item\" message at checkout, but it was not returned. I have already ordered the Superman statue as well, I\\'m ready to move the action along when I get to make my next purchase!\\n\\n— Robin (Robin Diaries)\\n\\nDear Robin:\\n\\nAs of today, the Superman statue is in very bad condition and will not be available until Monday, September 4th. This means the figure has been damaged substantially. I can no longer send my Superman statue to you on Monday. On Monday, I will give you the opportunity to get the statue back for $80 and also send you an email with the following information:\\n\\nPlease send me your current address,'}]"
            ]
          },
          "metadata": {},
          "execution_count": 39
        }
      ]
    },
    {
      "cell_type": "code",
      "source": [
        "print(outputs[0]['generated_text'])"
      ],
      "metadata": {
        "id": "xcvtGHOQ4ghG",
        "colab": {
          "base_uri": "https://localhost:8080/"
        },
        "outputId": "fa00358f-6a9e-4a2f-85c4-bd32b0e89e82"
      },
      "execution_count": 40,
      "outputs": [
        {
          "output_type": "stream",
          "name": "stdout",
          "text": [
            "Dear Amazon,\n",
            "I am writing from Gotham City, New York, regarding a major disappointment. A few days ago, I ordered a premium Superman\n",
            "\n",
            "collectible figure from your online store. When the box arrived at Wayne Manor, the packaging was crushed, and the figure inside\n",
            "\n",
            "was in terrible condition — the shield emblem was chipped, and the left arm was broken.\n",
            "\n",
            "I don’t tolerate failure in Gotham, and I certainly don’t expect it from a company of your reputation.\n",
            "\n",
            "This was meant to be a tribute gift, and now it’s ruined. I demand either an immediate replacement in perfect condition\n",
            "\n",
            "or a full refund. Photos of the damaged item and shipping labels are attached for your review.\n",
            "\n",
            "You have 48 hours to respond before I escalate this complaint further.\n",
            "\n",
            "— Batman (Bruce Wayne)\n",
            "\n",
            "Wayne Manor, Gotham City, New York, USA\n",
            "\n",
            "\n",
            "\n",
            "Customer service response:\n",
            "Dear Batman, We are sorry to hear that your order ’had been accepted and arrived with no change. We believe that if you do not return us an item, we may send you an inquiry asking you to get your item back. This will also help your cause. The first thing to do is to get that item back. I hope you will not be disappointed in your purchase once you have received the order again by calling your local store. We're sorry we couldn't find information for you and all of our customers.\n",
            "\n",
            "-Batman (Bruce Wayne)\n",
            "\n",
            "Dear Bruce,\n",
            "\n",
            "Please find a local Walmart, I'm working right now on a new product and it was my only chance to bring it. Just wanted to inform you that I tried by email with a \"Do Not Order This Item\" message at checkout, but it was not returned. I have already ordered the Superman statue as well, I'm ready to move the action along when I get to make my next purchase!\n",
            "\n",
            "— Robin (Robin Diaries)\n",
            "\n",
            "Dear Robin:\n",
            "\n",
            "As of today, the Superman statue is in very bad condition and will not be available until Monday, September 4th. This means the figure has been damaged substantially. I can no longer send my Superman statue to you on Monday. On Monday, I will give you the opportunity to get the statue back for $80 and also send you an email with the following information:\n",
            "\n",
            "Please send me your current address,\n"
          ]
        }
      ]
    },
    {
      "cell_type": "code",
      "source": [],
      "metadata": {
        "id": "mkqYHeZh5jq7"
      },
      "execution_count": 40,
      "outputs": []
    }
  ],
  "metadata": {
    "kernelspec": {
      "display_name": "Python 3 (ipykernel)",
      "language": "python",
      "name": "python3"
    },
    "colab": {
      "provenance": []
    }
  },
  "nbformat": 4,
  "nbformat_minor": 0
}