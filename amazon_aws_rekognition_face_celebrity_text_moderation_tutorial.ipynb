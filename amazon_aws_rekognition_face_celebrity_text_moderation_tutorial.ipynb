{
 "cells": [
  {
   "cell_type": "markdown",
   "metadata": {
    "id": "bK87_2B054pq"
   },
   "source": [
    "# 🧠 Exploring Amazon Rekognition for Face, Celebrity, Content & Text Detection\n",
    "##  Amazon Rekognition Tutorial: Image & Video Intelligence with **No ML Required!** 🎥📸\n",
    "# 🤖 Amazon Rekognition Deep Dive with Python 🧠\n",
    "\n",
    "Welcome to this hands-on tutorial where we explore the powerful capabilities of **Amazon Rekognition**, AWS's cloud-based computer vision service!🚀🖼️🎥\n",
    "\n",
    "In this notebook, you'll learn how to:\n",
    "🔍 Detect **faces** and analyze facial attributes\n",
    "🌟 Recognize **celebrities** in images and videos\n",
    "🚫 **Content Moderation** – Flag unsafe, explicit, or violent content  \n",
    "📝 **Text Detection** – Extract text from images and video frames  \n",
    "🎯 **Object & Scene Detection** – Identify items and scenes in media  \n",
    "🎭 **Emotion & Attribute Analysis** – Understand facial expressions and characteristics  \n",
    "\n",
    "All examples use the official **Boto3 AWS SDK** and real use-case scenarios to help you build intelligent applications. This tutorial is perfect for developers, ML engineers, and data scientists who want to integrate cloud-based vision AI into their pipelines without training models from scratch. 🙌\n",
    "\n",
    "## 🛠️ Technologies Used:\n",
    "- Amazon Rekognition\n",
    "- Boto3 (AWS SDK for Python)\n",
    "- Jupyter Notebooks\n",
    "- AWS S3 (for image/video storage)\n",
    "\n",
    "✅ **What You’ll Practice**:\n",
    "- Uploading and analyzing images/videos from S3\n",
    "- Using Python SDK (`boto3`) to call Rekognition APIs\n",
    "- Real use cases for public safety, content moderation, identity verification, and media indexing\n",
    "\n",
    "👉 Ideal for developers, researchers, or businesses exploring scalable image/video analytics.\n",
    "\n",
    "Let’s turn your data into vision! 👁️💻✨\n",
    "\n",
    "---\n"
   ]
  },
  {
   "cell_type": "markdown",
   "metadata": {
    "id": "jMy98c5Q-3Xw"
   },
   "source": [
    "## 🚀 Environment Setup & Initialization\n",
    "\n",
    "In this section, we import necessary libraries, prepare directories, and set up sessions with Amazon services. This includes preparing SageMaker and making sure local storage is ready for temporary media processing.\n",
    "\n",
    "####  Importing Required Libraries\n",
    "We start by importing essential Python libraries 📦 such as `boto3` for accessing AWS services and interaction, SageMaker SDK, image display utilities, `PIL` for image processing, `matplotlib` for visualization, and `os` for file path operations.\n"
   ]
  },
  {
   "cell_type": "code",
   "execution_count": 1,
   "metadata": {
    "id": "5RTWX99_31uT",
    "outputId": "71992f02-a034-473a-ac4b-d54d48bbea6d"
   },
   "outputs": [
    {
     "name": "stdout",
     "output_type": "stream",
     "text": [
      "sagemaker.config INFO - Not applying SDK defaults from location: /etc/xdg/sagemaker/config.yaml\n",
      "sagemaker.config INFO - Not applying SDK defaults from location: /home/sagemaker-user/.config/sagemaker/config.yaml\n"
     ]
    }
   ],
   "source": [
    "import boto3\n",
    "import sagemaker\n",
    "from IPython.display import HTML, display, Image as IImage\n",
    "from PIL import Image, ImageDraw, ImageFont\n",
    "import time\n",
    "import os"
   ]
  },
  {
   "cell_type": "markdown",
   "metadata": {
    "id": "zGZA_dWwBmoI"
   },
   "source": [
    "#### 🤖 Initializing Rekognition Client\n",
    "\n",
    "Here we create a `boto3` client for Amazon Rekognition. This allows us to interact with Rekognition APIs to analyze images and videos stored in S3 or local files.\n",
    "Set up SageMaker session, get default role, bucket, and region. Create Rekognition and S3 clients."
   ]
  },
  {
   "cell_type": "code",
   "execution_count": 2,
   "metadata": {
    "id": "8A9fiA7Q31uV"
   },
   "outputs": [],
   "source": [
    "sagemaker_session = sagemaker.Session()\n",
    "role = sagemaker.get_execution_role()\n",
    "bucket = sagemaker_session.default_bucket()\n",
    "region = boto3.Session().region_name\n",
    "\n",
    "#Define client for Amazon Rekognition and S3\n",
    "rekognition = boto3.client(\"rekognition\")\n",
    "s3 = boto3.client(\"s3\")"
   ]
  },
  {
   "cell_type": "markdown",
   "metadata": {
    "id": "-og6w0TFB3tm"
   },
   "source": [
    "#### 🗂️ Creating Temporary Directory\n",
    "\n",
    "This command creates a local `./temp` folder where images and videos will be stored temporarily for processing with Amazon Rekognition."
   ]
  },
  {
   "cell_type": "code",
   "execution_count": 3,
   "metadata": {
    "id": "cmCsIxYr31uX"
   },
   "outputs": [],
   "source": [
    "!mkdir -p ./temp\n",
    "temp_folder = \"temp/\""
   ]
  },
  {
   "cell_type": "markdown",
   "metadata": {
    "id": "GZPMSHDE31ua"
   },
   "source": [
    "## 🖼️ Image Display Utilities\n",
    "\n",
    "Here we define helper function `drwBoundingBoxes` to display images and overlay bounding boxes. This function will be used to visualize detected faces, labels, and moderation outcomes returned by Rekognition. It draws bounding boxes around detected entities like faces or text using their coordinates.\n"
   ]
  },
  {
   "cell_type": "code",
   "execution_count": 4,
   "metadata": {
    "id": "Wy4OnDqS31ua"
   },
   "outputs": [],
   "source": [
    "def drwBoundingBoxes(imageFrame, boxes):\n",
    "    colorsTuples = ((255, 0, 0), (0, 255, 0), (0, 0, 255), (50, 190, 120))\n",
    "\n",
    "    # Let's store the image in the temporary local folder we created\n",
    "    imageDir = temp_folder + os.path.basename(imageFrame)\n",
    "    #doanload the image frame from S3\n",
    "    s3.download_file(bucket, imageFrame, imageDir)\n",
    "\n",
    "    # Draws Bounding Box on Image\n",
    "    boundedImage = Image.open(imageDir)\n",
    "    drw = ImageDraw.Draw(boundedImage)\n",
    "    w, h = boundedImage.size #get image width, height\n",
    "    color = 0\n",
    "    maxColor = len(colorsTuples)\n",
    "    boxLines = 3 # 4 lines: 0-3\n",
    "    #box coordinates (x1, y1) and (x2, y2)\n",
    "    for b in boxes:\n",
    "        x1 = int(b[1][\"Left\"] * w)\n",
    "        y1 = int(b[1][\"Top\"] * h)\n",
    "        x2 = int(b[1][\"Left\"] * w + b[1][\"Width\"] * w)\n",
    "        y2 = int(b[1][\"Top\"] * h + b[1][\"Height\"] * h)\n",
    "\n",
    "        drw.text((x1, y1), b[0], colorsTuples[color])\n",
    "        for line in range(boxLines):\n",
    "            drw.rectangle((x1 - line, y1 - line, x2 + line, y2 + line), outline=colorsTuples[color])\n",
    "        color = (color + 1) % maxColor\n",
    "\n",
    "    imgFormat = \"PNG\"\n",
    "    extension = imgFormat.lower()\n",
    "    if extension.endswith(\"jpg\") or extension.endswith(\"jpeg\"):\n",
    "        imgFormat = \"JPEG\"\n",
    "\n",
    "    boundedImage.save(imageDir, format=imgFormat)\n",
    "\n",
    "    display(boundedImage)"
   ]
  },
  {
   "cell_type": "markdown",
   "metadata": {
    "id": "maWU6WuN31uN"
   },
   "source": [
    "# Part 1: 👤 Face Detection & Analysis\n",
    "\n",
    "Amazon Rekognition can detect faces in images and analyze attributes like age range, emotions, and pose. In this section, we will send an image to the Amazon Rekognition API and extracts insights for us 🌟"
   ]
  },
  {
   "cell_type": "markdown",
   "metadata": {
    "id": "XglU5_xD31uX"
   },
   "source": [
    "# Recognize Celebrities in Images\n",
    "\n",
    "#### 🖼️ Loading and Displaying an Image\n",
    "\n",
    "We fetch an image stored on S3 using a presigned URL and display it to verify that it was retrieved successfully.\n"
   ]
  },
  {
   "cell_type": "code",
   "execution_count": 5,
   "metadata": {
    "id": "L4wxu0SK31uY",
    "outputId": "c9283af4-822a-48b7-cc2e-d5f7c890bc6a"
   },
   "outputs": [
    {
     "data": {
      "text/html": [
       "<img src=\"" width=\"350\" height=\"150\"/>"
      ],
      "text/plain": [
       "<IPython.core.display.Image object>"
      ]
     },
     "metadata": {},
     "output_type": "display_data"
    }
   ],
   "source": [
    "#import and view image from directory\n",
    "imageFileName = \"media/mi6.png\"\n",
    "display(IImage(url=s3.generate_presigned_url(\"get_object\", Params={\"Bucket\": bucket, \"Key\": imageFileName}), width=350, height=150))"
   ]
  },
  {
   "cell_type": "markdown",
   "metadata": {
    "id": "OpNYt8GQ31ua"
   },
   "source": [
    "#### 👁️ Detecting Faces in an Image\n",
    "\n",
    "This cell sends the image to the Rekognition `recognize_celebrities()` API from Amazon Rekognition to identify celebritie, facial landmarks and attributes such as emotions, age range, gender, and smile. This can be useful in media, entertainment, and archival use cases.\n",
    "\n",
    "What celebrities information returned inside JSON response:\n",
    "\n",
    "- Name\n",
    "- Id\n",
    "- Urls\n",
    "- Facial attributes"
   ]
  },
  {
   "cell_type": "code",
   "execution_count": 6,
   "metadata": {
    "id": "12J0fRwS31uZ",
    "outputId": "eda165b9-5676-4fb1-d27d-6f8b9e7c6d9f"
   },
   "outputs": [
    {
     "data": {
      "text/plain": [
       "{'CelebrityFaces': [{'Urls': ['www.wikidata.org/wiki/Q37079',\n",
       "    'www.imdb.com/name/nm0000129'],\n",
       "   'Name': 'Tom Cruise',\n",
       "   'Id': '2zs2cs8k',\n",
       "   'Face': {'BoundingBox': {'Width': 0.2653049826622009,\n",
       "     'Height': 0.38085633516311646,\n",
       "     'Left': 0.5444830656051636,\n",
       "     'Top': 0.14110559225082397},\n",
       "    'Confidence': 99.99972534179688,\n",
       "    'Landmarks': [{'Type': 'eyeRight',\n",
       "      'X': 0.7513101100921631,\n",
       "      'Y': 0.2833847105503082},\n",
       "     {'Type': 'eyeLeft', 'X': 0.6347073316574097, 'Y': 0.28749537467956543},\n",
       "     {'Type': 'mouthRight', 'X': 0.7486317753791809, 'Y': 0.4209804832935333},\n",
       "     {'Type': 'mouthLeft', 'X': 0.651661217212677, 'Y': 0.4247465133666992},\n",
       "     {'Type': 'nose', 'X': 0.71452397108078, 'Y': 0.349712073802948}],\n",
       "    'Pose': {'Roll': -0.904134213924408,\n",
       "     'Yaw': 11.223363876342773,\n",
       "     'Pitch': 4.4798455238342285},\n",
       "    'Quality': {'Brightness': 89.47183227539062,\n",
       "     'Sharpness': 89.85481262207031},\n",
       "    'Emotions': [{'Type': 'CALM', 'Confidence': 55.806644439697266},\n",
       "     {'Type': 'CONFUSED', 'Confidence': 20.88541603088379},\n",
       "     {'Type': 'SAD', 'Confidence': 0.3612518310546875},\n",
       "     {'Type': 'DISGUSTED', 'Confidence': 0.30059814453125},\n",
       "     {'Type': 'ANGRY', 'Confidence': 0.14772415161132812},\n",
       "     {'Type': 'SURPRISED', 'Confidence': 0.09649991989135742},\n",
       "     {'Type': 'HAPPY', 'Confidence': 0.020615261048078537},\n",
       "     {'Type': 'FEAR', 'Confidence': 0.0020712614059448242}],\n",
       "    'Smile': {'Value': False, 'Confidence': 99.45085144042969}},\n",
       "   'MatchConfidence': 99.99710083007812,\n",
       "   'KnownGender': {'Type': 'Male'}},\n",
       "  {'Urls': ['www.wikidata.org/wiki/Q4947838', 'www.imdb.com/name/nm0272581'],\n",
       "   'Name': 'Rebecca Ferguson',\n",
       "   'Id': '1ZW7tY0',\n",
       "   'Face': {'BoundingBox': {'Width': 0.16370798647403717,\n",
       "     'Height': 0.22013483941555023,\n",
       "     'Left': 0.1674325168132782,\n",
       "     'Top': 0.25622057914733887},\n",
       "    'Confidence': 99.99982452392578,\n",
       "    'Landmarks': [{'Type': 'eyeRight',\n",
       "      'X': 0.2758004069328308,\n",
       "      'Y': 0.34242862462997437},\n",
       "     {'Type': 'eyeLeft', 'X': 0.20707307755947113, 'Y': 0.35316112637519836},\n",
       "     {'Type': 'mouthRight',\n",
       "      'X': 0.28189459443092346,\n",
       "      'Y': 0.42111682891845703},\n",
       "     {'Type': 'mouthLeft', 'X': 0.2245333194732666, 'Y': 0.4300428032875061},\n",
       "     {'Type': 'nose', 'X': 0.24424739181995392, 'Y': 0.39340102672576904}],\n",
       "    'Pose': {'Roll': -9.936643600463867,\n",
       "     'Yaw': -3.7548768520355225,\n",
       "     'Pitch': -2.2029507160186768},\n",
       "    'Quality': {'Brightness': 89.19782257080078,\n",
       "     'Sharpness': 46.02980041503906},\n",
       "    'Emotions': [{'Type': 'CALM', 'Confidence': 98.46540069580078},\n",
       "     {'Type': 'ANGRY', 'Confidence': 0.479888916015625},\n",
       "     {'Type': 'CONFUSED', 'Confidence': 0.17754235863685608},\n",
       "     {'Type': 'SAD', 'Confidence': 0.164031982421875},\n",
       "     {'Type': 'HAPPY', 'Confidence': 0.044282279908657074},\n",
       "     {'Type': 'SURPRISED', 'Confidence': 0.03662705421447754},\n",
       "     {'Type': 'DISGUSTED', 'Confidence': 0.020766258239746094},\n",
       "     {'Type': 'FEAR', 'Confidence': 0.0018596649169921875}],\n",
       "    'Smile': {'Value': False, 'Confidence': 99.24685668945312}},\n",
       "   'MatchConfidence': 99.9996109008789,\n",
       "   'KnownGender': {'Type': 'Female'}}],\n",
       " 'UnrecognizedFaces': [],\n",
       " 'ResponseMetadata': {'RequestId': '943a9f98-ed47-4483-80d6-c57979f5b41f',\n",
       "  'HTTPStatusCode': 200,\n",
       "  'HTTPHeaders': {'x-amzn-requestid': '943a9f98-ed47-4483-80d6-c57979f5b41f',\n",
       "   'content-type': 'application/x-amz-json-1.1',\n",
       "   'content-length': '2682',\n",
       "   'date': 'Fri, 16 May 2025 15:15:08 GMT'},\n",
       "  'RetryAttempts': 0}}"
      ]
     },
     "metadata": {},
     "output_type": "display_data"
    }
   ],
   "source": [
    "#\n",
    "recognizedCelebsResponse = rekognition.recognize_celebrities(\n",
    "    Image={\n",
    "        \"S3Object\": {\n",
    "            \"Bucket\": bucket, #default_bucket\n",
    "            \"Name\": imageFileName, # MI6 movie shot\n",
    "        }\n",
    "    }\n",
    ")\n",
    "\n",
    "display(recognizedCelebsResponse)"
   ]
  },
  {
   "cell_type": "markdown",
   "metadata": {
    "id": "VbvncGWOZhzu"
   },
   "source": [
    "#### 📦 Parse and Visualize Recognized Celebrities  \n",
    "We extract celebrity names and their bounding box coordinates from the JSON output and visualize them on the original image using the helper function `drwBoundingBoxes` to draw bounding box around each face."
   ]
  },
  {
   "cell_type": "code",
   "execution_count": null,
   "metadata": {
    "id": "9xvLHZeB31ub",
    "outputId": "117ea24f-bc9c-44d1-851e-5fc0a2acaa17"
   },
   "outputs": [
    {
     "name": "stdout",
     "output_type": "stream",
     "text": [
      "Number of Celebrities found:  2\n"
     ]
    },
    {
     "data": {
      "image/png": "",
      "text/plain": [
       "<PIL.PngImagePlugin.PngImageFile image mode=RGBA size=1502x1487>"
      ]
     },
     "metadata": {},
     "output_type": "display_data"
    }
   ],
   "source": [
    "boundingBoxes = []\n",
    "allCelebrities = recognizedCelebsResponse[\"CelebrityFaces\"]\n",
    "for c in allCelebrities:\n",
    "    boundingBoxes.append((c[\"Name\"], c[\"Face\"][\"BoundingBox\"]))\n",
    "print(\"Number of Celebrities found: \", len(boundingBoxes))\n",
    "drwBoundingBoxes(imageFileName, boundingBoxes)"
   ]
  },
  {
   "cell_type": "markdown",
   "metadata": {
    "id": "8KAFNYV631ub"
   },
   "source": [
    "### 🎞️ Display Trailer Video  \n",
    "We generate and display a pre-signed S3 URL for a video to be used in video-based celebrity recognition tasks.\n"
   ]
  },
  {
   "cell_type": "code",
   "execution_count": 8,
   "metadata": {
    "id": "xhZBLVcQ31uc",
    "outputId": "efd6627a-7eeb-4247-dbe6-a5527006d00d"
   },
   "outputs": [
    {
     "data": {
      "text/html": [
       "<video controls='controls' width='640' height='360' name='Video' src=''></video>"
      ],
      "text/plain": [
       "<IPython.core.display.HTML object>"
      ]
     },
     "metadata": {},
     "output_type": "display_data"
    }
   ],
   "source": [
    "videoFileName = \"media/mi6Trailer.mp4\" # Our MI6 trimmed trailer 33 seconds\n",
    "\n",
    "videoS3URL=s3.generate_presigned_url(\"get_object\", Params={\"Bucket\": bucket, \"Key\": videoFileName})\n",
    "videoHTML = \"<video controls='controls' width='640' height='360' name='Video' src='{0}'></video>\".format(videoS3URL)\n",
    "display(HTML(videoHTML))"
   ]
  },
  {
   "cell_type": "markdown",
   "metadata": {
    "id": "Ph4Q_Omx31uc"
   },
   "source": [
    "### 🏁 Start Celebrity Recognition Job (Video)  \n",
    "Here we submit a video file for celebrity recognition via Rekognition’s asynchronous job API and retrieves the job ID using `start_celebrity_recognition`.\n"
   ]
  },
  {
   "cell_type": "code",
   "execution_count": 9,
   "metadata": {
    "id": "km4GTRGb31uc",
    "outputId": "b6320273-6d9f-4890-b8f8-4826c6e599d1"
   },
   "outputs": [
    {
     "name": "stdout",
     "output_type": "stream",
     "text": [
      "AWS Rekognition Job Id: ce737e921120816d616c5a12c3b406b9687a62570025b387c25ee4f16678b706\n"
     ]
    }
   ],
   "source": [
    "#add video word to the name\n",
    "rekognitionVideoCelebJob = rekognition.start_celebrity_recognition(\n",
    "    Video={\n",
    "        \"S3Object\": {\n",
    "            \"Bucket\": bucket,\n",
    "            \"Name\": videoFileName,\n",
    "        }\n",
    "    },\n",
    ")\n",
    "\n",
    "rekognitionVideoCelebJobID = rekognitionVideoCelebJob[\"JobId\"]\n",
    "print(\"AWS Rekognition Job Id: {0}\".format(rekognitionVideoCelebJobID))"
   ]
  },
  {
   "cell_type": "markdown",
   "metadata": {
    "id": "qMtzg-Fh31ud"
   },
   "source": [
    "#### ⏱️ Poll Rekognition Job Status (Celebrities)  \n",
    "We continuously poll the celebrity recognition job until the job is marked as `SUCCEEDED`. This is essential for async processing.\n"
   ]
  },
  {
   "cell_type": "code",
   "execution_count": 10,
   "metadata": {
    "id": "0-fjLHec31ud",
    "outputId": "06695e85-db33-419f-8e04-7007361ea949"
   },
   "outputs": [
    {
     "name": "stdout",
     "output_type": "stream",
     "text": [
      "************Detecting Celebrities in Video: SUCCEEDED\n",
      "CPU times: user 50.2 ms, sys: 0 ns, total: 50.2 ms\n",
      "Wall time: 1min\n"
     ]
    }
   ],
   "source": [
    "%%time\n",
    "\n",
    "getRecognitionCelebJob = rekognition.get_celebrity_recognition(JobId=rekognitionVideoCelebJobID, SortBy=\"TIMESTAMP\")\n",
    "\n",
    "while getRecognitionCelebJob[\"JobStatus\"] == \"IN_PROGRESS\":\n",
    "    time.sleep(5) # change time\n",
    "    print(\"*\", end=\"\")\n",
    "    getRecognitionCelebJob = rekognition.get_celebrity_recognition(JobId=rekognitionVideoCelebJobID, SortBy=\"TIMESTAMP\")\n",
    "\n",
    "print(\"Detecting Celebrities in Video: \"+ getRecognitionCelebJob[\"JobStatus\"])"
   ]
  },
  {
   "cell_type": "markdown",
   "metadata": {
    "id": "pObRbbpR31ud"
   },
   "source": [
    "### 📤 Let's Display and Examine Celebrity Detection Results  \n",
    "Here we display the raw JSON results returned after celebrity detection from the video file.\n"
   ]
  },
  {
   "cell_type": "code",
   "execution_count": 11,
   "metadata": {
    "id": "tIO8Adzu31ue",
    "outputId": "6dd64ec4-1eae-4fe7-a7a0-7071f104511b"
   },
   "outputs": [
    {
     "data": {
      "text/plain": [
       "{'JobStatus': 'SUCCEEDED',\n",
       " 'VideoMetadata': {'Codec': 'h264',\n",
       "  'DurationMillis': 32991,\n",
       "  'Format': 'QuickTime / MOV',\n",
       "  'FrameRate': 24.00633430480957,\n",
       "  'FrameHeight': 800,\n",
       "  'FrameWidth': 1920,\n",
       "  'ColorRange': 'LIMITED'},\n",
       " 'Celebrities': [{'Timestamp': 0,\n",
       "   'Celebrity': {'Urls': ['www.wikidata.org/wiki/Q65054865'],\n",
       "    'Name': 'Rebekah Graf',\n",
       "    'Id': 'f52984',\n",
       "    'Confidence': 99.88365173339844,\n",
       "    'Face': {'BoundingBox': {'Width': 0.4063573181629181,\n",
       "      'Height': 0.7696690559387207,\n",
       "      'Left': 0.12197063118219376,\n",
       "      'Top': 0.08075714111328125},\n",
       "     'Landmarks': [{'Type': 'eyeLeft',\n",
       "       'X': 0.26781588792800903,\n",
       "       'Y': 0.5584803819656372},\n",
       "      {'Type': 'eyeRight', 'X': 0.30926692485809326, 'Y': 0.26932665705680847},\n",
       "      {'Type': 'mouthLeft', 'X': 0.4050126075744629, 'Y': 0.6660219430923462},\n",
       "      {'Type': 'mouthRight',\n",
       "       'X': 0.43896055221557617,\n",
       "       'Y': 0.4232378900051117},\n",
       "      {'Type': 'nose', 'X': 0.3786683976650238, 'Y': 0.4465469419956207}],\n",
       "     'Pose': {'Roll': -70.74092102050781,\n",
       "      'Yaw': 14.068578720092773,\n",
       "      'Pitch': -8.666595458984375},\n",
       "     'Quality': {'Brightness': 78.2469253540039,\n",
       "      'Sharpness': 97.45164489746094},\n",
       "     'Confidence': 99.99954986572266},\n",
       "    'KnownGender': {'Type': 'Female'}}},\n",
       "  {'Timestamp': 499,\n",
       "   'Celebrity': {'Urls': ['www.wikidata.org/wiki/Q65054865'],\n",
       "    'Name': 'Rebekah Graf',\n",
       "    'Id': 'f52984',\n",
       "    'Confidence': 99.96561431884766,\n",
       "    'Face': {'BoundingBox': {'Width': 0.41345056891441345,\n",
       "      'Height': 0.7605847120285034,\n",
       "      'Left': 0.10333917289972305,\n",
       "      'Top': 0.09301730990409851},\n",
       "     'Landmarks': [{'Type': 'eyeLeft',\n",
       "       'X': 0.2551783323287964,\n",
       "       'Y': 0.5685256123542786},\n",
       "      {'Type': 'eyeRight', 'X': 0.29623857140541077, 'Y': 0.28048574924468994},\n",
       "      {'Type': 'mouthLeft', 'X': 0.3955215513706207, 'Y': 0.6752094030380249},\n",
       "      {'Type': 'mouthRight',\n",
       "       'X': 0.4291251301765442,\n",
       "       'Y': 0.43358099460601807},\n",
       "      {'Type': 'nose', 'X': 0.367369145154953, 'Y': 0.45530977845191956}],\n",
       "     'Pose': {'Roll': -71.39156341552734,\n",
       "      'Yaw': 14.52865219116211,\n",
       "      'Pitch': -9.148324966430664},\n",
       "     'Quality': {'Brightness': 79.93342590332031,\n",
       "      'Sharpness': 96.61495208740234},\n",
       "     'Confidence': 99.9995346069336},\n",
       "    'KnownGender': {'Type': 'Female'}}},\n",
       "  {'Timestamp': 2499,\n",
       "   'Celebrity': {'Urls': ['www.wikidata.org/wiki/Q974064',\n",
       "     'www.imdb.com/name/nm0005246'],\n",
       "    'Name': 'Esai Morales',\n",
       "    'Id': '1T2St2P',\n",
       "    'Confidence': 99.98162078857422,\n",
       "    'Face': {'BoundingBox': {'Width': 0.13764207065105438,\n",
       "      'Height': 0.4740886688232422,\n",
       "      'Left': 0.4014355540275574,\n",
       "      'Top': 0.2603295147418976},\n",
       "     'Landmarks': [{'Type': 'eyeLeft',\n",
       "       'X': 0.44162896275520325,\n",
       "       'Y': 0.4365452826023102},\n",
       "      {'Type': 'eyeRight', 'X': 0.5042065382003784, 'Y': 0.43418943881988525},\n",
       "      {'Type': 'mouthLeft', 'X': 0.4494316279888153, 'Y': 0.6026692390441895},\n",
       "      {'Type': 'mouthRight', 'X': 0.5017293095588684, 'Y': 0.6007649898529053},\n",
       "      {'Type': 'nose', 'X': 0.47647446393966675, 'Y': 0.5262105464935303}],\n",
       "     'Pose': {'Roll': 0.5141913294792175,\n",
       "      'Yaw': -0.04784523695707321,\n",
       "      'Pitch': -4.818102836608887},\n",
       "     'Quality': {'Brightness': 12.120035171508789,\n",
       "      'Sharpness': 46.02980041503906},\n",
       "     'Confidence': 99.99957275390625},\n",
       "    'KnownGender': {'Type': 'Male'}}},\n",
       "  {'Timestamp': 2999,\n",
       "   'Celebrity': {'Urls': ['www.wikidata.org/wiki/Q974064',\n",
       "     'www.imdb.com/name/nm0005246'],\n",
       "    'Name': 'Esai Morales',\n",
       "    'Id': '1T2St2P',\n",
       "    'Confidence': 99.99715423583984,\n",
       "    'Face': {'BoundingBox': {'Width': 0.13460515439510345,\n",
       "      'Height': 0.45290902256965637,\n",
       "      'Left': 0.39937660098075867,\n",
       "      'Top': 0.25029289722442627},\n",
       "     'Landmarks': [{'Type': 'eyeLeft',\n",
       "       'X': 0.4373894929885864,\n",
       "       'Y': 0.41965416073799133},\n",
       "      {'Type': 'eyeRight', 'X': 0.4966619610786438, 'Y': 0.4184744954109192},\n",
       "      {'Type': 'mouthLeft', 'X': 0.44250020384788513, 'Y': 0.5793617367744446},\n",
       "      {'Type': 'mouthRight',\n",
       "       'X': 0.49198874831199646,\n",
       "       'Y': 0.5784101486206055},\n",
       "      {'Type': 'nose', 'X': 0.46824371814727783, 'Y': 0.5083217024803162}],\n",
       "     'Pose': {'Roll': -0.5649709105491638,\n",
       "      'Yaw': 1.465055227279663,\n",
       "      'Pitch': -1.3892326354980469},\n",
       "     'Quality': {'Brightness': 25.158729553222656,\n",
       "      'Sharpness': 73.32209777832031},\n",
       "     'Confidence': 99.99929809570312},\n",
       "    'KnownGender': {'Type': 'Male'}}},\n",
       "  {'Timestamp': 3499,\n",
       "   'Celebrity': {'Urls': ['www.wikidata.org/wiki/Q974064',\n",
       "     'www.imdb.com/name/nm0005246'],\n",
       "    'Name': 'Esai Morales',\n",
       "    'Id': '1T2St2P',\n",
       "    'Confidence': 99.99528503417969,\n",
       "    'Face': {'BoundingBox': {'Width': 0.13531045615673065,\n",
       "      'Height': 0.44829222559928894,\n",
       "      'Left': 0.3653481602668762,\n",
       "      'Top': 0.2592124938964844},\n",
       "     'Landmarks': [{'Type': 'eyeLeft',\n",
       "       'X': 0.4042522609233856,\n",
       "       'Y': 0.4329170882701874},\n",
       "      {'Type': 'eyeRight', 'X': 0.4637790322303772, 'Y': 0.42726758122444153},\n",
       "      {'Type': 'mouthLeft', 'X': 0.41215991973876953, 'Y': 0.5859552621841431},\n",
       "      {'Type': 'mouthRight', 'X': 0.4619652330875397, 'Y': 0.581520140171051},\n",
       "      {'Type': 'nose', 'X': 0.43429237604141235, 'Y': 0.5204919576644897}],\n",
       "     'Pose': {'Roll': -2.974856376647949,\n",
       "      'Yaw': -0.48294517397880554,\n",
       "      'Pitch': -0.8543490171432495},\n",
       "     'Quality': {'Brightness': 23.95752716064453,\n",
       "      'Sharpness': 60.49041748046875},\n",
       "     'Confidence': 99.9994125366211},\n",
       "    'KnownGender': {'Type': 'Male'}}},\n",
       "  {'Timestamp': 3998,\n",
       "   'Celebrity': {'Urls': ['www.wikidata.org/wiki/Q234959',\n",
       "     'www.imdb.com/name/nm2017943'],\n",
       "    'Name': 'Hayley Atwell',\n",
       "    'Id': 'UF5vw3N',\n",
       "    'Confidence': 99.99329376220703,\n",
       "    'Face': {'BoundingBox': {'Width': 0.1488340049982071,\n",
       "      'Height': 0.54148268699646,\n",
       "      'Left': 0.41877222061157227,\n",
       "      'Top': 0.02444019354879856},\n",
       "     'Landmarks': [{'Type': 'eyeLeft',\n",
       "       'X': 0.4378962516784668,\n",
       "       'Y': 0.2398272454738617},\n",
       "      {'Type': 'eyeRight', 'X': 0.4882873296737671, 'Y': 0.24253244698047638},\n",
       "      {'Type': 'mouthLeft',\n",
       "       'X': 0.43348753452301025,\n",
       "       'Y': 0.43239185214042664},\n",
       "      {'Type': 'mouthRight',\n",
       "       'X': 0.4748890697956085,\n",
       "       'Y': 0.43551406264305115},\n",
       "      {'Type': 'nose', 'X': 0.42684683203697205, 'Y': 0.32522448897361755}],\n",
       "     'Pose': {'Roll': 2.612316608428955,\n",
       "      'Yaw': -42.354331970214844,\n",
       "      'Pitch': 1.5071783065795898},\n",
       "     'Quality': {'Brightness': 54.439334869384766,\n",
       "      'Sharpness': 78.64350128173828},\n",
       "     'Confidence': 99.99874877929688},\n",
       "    'KnownGender': {'Type': 'Female'}}},\n",
       "  {'Timestamp': 4498,\n",
       "   'Celebrity': {'Urls': ['www.wikidata.org/wiki/Q234959',\n",
       "     'www.imdb.com/name/nm2017943'],\n",
       "    'Name': 'Hayley Atwell',\n",
       "    'Id': 'UF5vw3N',\n",
       "    'Confidence': 99.95774841308594,\n",
       "    'Face': {'BoundingBox': {'Width': 0.1302758902311325,\n",
       "      'Height': 0.5846792459487915,\n",
       "      'Left': 0.32509106397628784,\n",
       "      'Top': 0.13317599892616272},\n",
       "     'Landmarks': [{'Type': 'eyeLeft',\n",
       "       'X': 0.3432902693748474,\n",
       "       'Y': 0.37526360154151917},\n",
       "      {'Type': 'eyeRight', 'X': 0.3949442505836487, 'Y': 0.37431231141090393},\n",
       "      {'Type': 'mouthLeft', 'X': 0.34133750200271606, 'Y': 0.5834345817565918},\n",
       "      {'Type': 'mouthRight', 'X': 0.38381725549697876, 'Y': 0.583759605884552},\n",
       "      {'Type': 'nose', 'X': 0.3348996937274933, 'Y': 0.47147759795188904}],\n",
       "     'Pose': {'Roll': 1.6267707347869873,\n",
       "      'Yaw': -40.17080307006836,\n",
       "      'Pitch': -0.49085092544555664},\n",
       "     'Quality': {'Brightness': 56.83644485473633,\n",
       "      'Sharpness': 60.49041748046875},\n",
       "     'Confidence': 99.98279571533203},\n",
       "    'KnownGender': {'Type': 'Female'}}},\n",
       "  {'Timestamp': 7997,\n",
       "   'Celebrity': {'Urls': ['www.wikidata.org/wiki/Q238464',\n",
       "     'www.imdb.com/name/nm0670408'],\n",
       "    'Name': 'Simon Pegg',\n",
       "    'Id': '4dZ7GA',\n",
       "    'Confidence': 99.90614318847656,\n",
       "    'Face': {'BoundingBox': {'Width': 0.12447948753833771,\n",
       "      'Height': 0.4292784035205841,\n",
       "      'Left': 0.31211575865745544,\n",
       "      'Top': 0.19660675525665283},\n",
       "     'Landmarks': [{'Type': 'eyeLeft',\n",
       "       'X': 0.32901477813720703,\n",
       "       'Y': 0.36298707127571106},\n",
       "      {'Type': 'eyeRight', 'X': 0.3635479807853699, 'Y': 0.3788144290447235},\n",
       "      {'Type': 'mouthLeft', 'X': 0.32750067114830017, 'Y': 0.5155588984489441},\n",
       "      {'Type': 'mouthRight',\n",
       "       'X': 0.35581454634666443,\n",
       "       'Y': 0.5299909710884094},\n",
       "      {'Type': 'nose', 'X': 0.3146410882472992, 'Y': 0.4434787333011627}],\n",
       "     'Pose': {'Roll': 3.9600632190704346,\n",
       "      'Yaw': -45.77229309082031,\n",
       "      'Pitch': -0.011018629185855389},\n",
       "     'Quality': {'Brightness': 69.0113296508789,\n",
       "      'Sharpness': 67.22731018066406},\n",
       "     'Confidence': 99.99765014648438},\n",
       "    'KnownGender': {'Type': 'Male'}}},\n",
       "  {'Timestamp': 8497,\n",
       "   'Celebrity': {'Urls': ['www.wikidata.org/wiki/Q238464',\n",
       "     'www.imdb.com/name/nm0670408'],\n",
       "    'Name': 'Simon Pegg',\n",
       "    'Id': '4dZ7GA',\n",
       "    'Confidence': 99.95401763916016,\n",
       "    'Face': {'BoundingBox': {'Width': 0.12473656237125397,\n",
       "      'Height': 0.423776239156723,\n",
       "      'Left': 0.37577155232429504,\n",
       "      'Top': 0.18904632329940796},\n",
       "     'Landmarks': [{'Type': 'eyeLeft',\n",
       "       'X': 0.39498794078826904,\n",
       "       'Y': 0.3516974151134491},\n",
       "      {'Type': 'eyeRight', 'X': 0.42992767691612244, 'Y': 0.3709539473056793},\n",
       "      {'Type': 'mouthLeft', 'X': 0.38894128799438477, 'Y': 0.5028515458106995},\n",
       "      {'Type': 'mouthRight',\n",
       "       'X': 0.41753971576690674,\n",
       "       'Y': 0.5199133157730103},\n",
       "      {'Type': 'nose', 'X': 0.3798309564590454, 'Y': 0.42831629514694214}],\n",
       "     'Pose': {'Roll': 6.198457717895508,\n",
       "      'Yaw': -43.684574127197266,\n",
       "      'Pitch': 0.49699944257736206},\n",
       "     'Quality': {'Brightness': 66.71382904052734,\n",
       "      'Sharpness': 60.49041748046875},\n",
       "     'Confidence': 99.99951171875},\n",
       "    'KnownGender': {'Type': 'Male'}}},\n",
       "  {'Timestamp': 8997,\n",
       "   'Celebrity': {'Urls': ['www.wikidata.org/wiki/Q310315',\n",
       "     'www.imdb.com/name/nm0000609'],\n",
       "    'Name': 'Ving Rhames',\n",
       "    'Id': '2oP5jo9d',\n",
       "    'Confidence': 99.98969268798828,\n",
       "    'Face': {'BoundingBox': {'Width': 0.18619270622730255,\n",
       "      'Height': 0.49975091218948364,\n",
       "      'Left': 0.5810316801071167,\n",
       "      'Top': 0.03862182796001434},\n",
       "     'Landmarks': [{'Type': 'eyeLeft',\n",
       "       'X': 0.6150327324867249,\n",
       "       'Y': 0.18758508563041687},\n",
       "      {'Type': 'eyeRight', 'X': 0.6927732229232788, 'Y': 0.189691960811615},\n",
       "      {'Type': 'mouthLeft', 'X': 0.6117479205131531, 'Y': 0.3867511749267578},\n",
       "      {'Type': 'mouthRight', 'X': 0.676514208316803, 'Y': 0.3886517584323883},\n",
       "      {'Type': 'nose', 'X': 0.6358512043952942, 'Y': 0.25783103704452515}],\n",
       "     'Pose': {'Roll': -2.0299887657165527,\n",
       "      'Yaw': -16.47661590576172,\n",
       "      'Pitch': 22.873798370361328},\n",
       "     'Quality': {'Brightness': 24.89046287536621,\n",
       "      'Sharpness': 73.32209777832031},\n",
       "     'Confidence': 99.99957275390625},\n",
       "    'KnownGender': {'Type': 'Male'}}},\n",
       "  {'Timestamp': 9497,\n",
       "   'Celebrity': {'Urls': ['www.wikidata.org/wiki/Q65054865'],\n",
       "    'Name': 'Rebekah Graf',\n",
       "    'Id': 'f52984',\n",
       "    'Confidence': 99.87767791748047,\n",
       "    'Face': {'BoundingBox': {'Width': 0.2704472839832306,\n",
       "      'Height': 0.7624890208244324,\n",
       "      'Left': 0.5638310313224792,\n",
       "      'Top': 0.05698535963892937},\n",
       "     'Landmarks': [{'Type': 'eyeLeft',\n",
       "       'X': 0.6160183548927307,\n",
       "       'Y': 0.44131404161453247},\n",
       "      {'Type': 'eyeRight', 'X': 0.6901418566703796, 'Y': 0.3277873694896698},\n",
       "      {'Type': 'mouthLeft', 'X': 0.6860939264297485, 'Y': 0.6726642847061157},\n",
       "      {'Type': 'mouthRight', 'X': 0.7483021020889282, 'Y': 0.5798066258430481},\n",
       "      {'Type': 'nose', 'X': 0.6545984148979187, 'Y': 0.5570281744003296}],\n",
       "     'Pose': {'Roll': -35.45499801635742,\n",
       "      'Yaw': -28.151517868041992,\n",
       "      'Pitch': 2.8052146434783936},\n",
       "     'Quality': {'Brightness': 50.17833709716797,\n",
       "      'Sharpness': 92.22801208496094},\n",
       "     'Confidence': 99.99990844726562},\n",
       "    'KnownGender': {'Type': 'Female'}}},\n",
       "  {'Timestamp': 9997,\n",
       "   'Celebrity': {'Urls': ['www.wikidata.org/wiki/Q4947838',\n",
       "     'www.imdb.com/name/nm0272581'],\n",
       "    'Name': 'Rebecca Ferguson',\n",
       "    'Id': '1ZW7tY0',\n",
       "    'Confidence': 80.09838104248047,\n",
       "    'Face': {'BoundingBox': {'Width': 0.11747913062572479,\n",
       "      'Height': 0.3783469498157501,\n",
       "      'Left': 0.3203961253166199,\n",
       "      'Top': 0.3506510257720947},\n",
       "     'Landmarks': [{'Type': 'eyeLeft',\n",
       "       'X': 0.33859506249427795,\n",
       "       'Y': 0.5459862947463989},\n",
       "      {'Type': 'eyeRight', 'X': 0.3538735806941986, 'Y': 0.533868670463562},\n",
       "      {'Type': 'mouthLeft', 'X': 0.3594096004962921, 'Y': 0.641358494758606},\n",
       "      {'Type': 'mouthRight',\n",
       "       'X': 0.37193113565444946,\n",
       "       'Y': 0.6329192519187927},\n",
       "      {'Type': 'nose', 'X': 0.33103546500205994, 'Y': 0.6209399104118347}],\n",
       "     'Pose': {'Roll': -28.929954528808594,\n",
       "      'Yaw': -53.42900085449219,\n",
       "      'Pitch': -0.43549126386642456},\n",
       "     'Quality': {'Brightness': 50.82755661010742,\n",
       "      'Sharpness': 78.64350128173828},\n",
       "     'Confidence': 97.8410415649414},\n",
       "    'KnownGender': {'Type': 'Female'}}},\n",
       "  {'Timestamp': 14496,\n",
       "   'Celebrity': {'Urls': ['www.wikidata.org/wiki/Q6427916'],\n",
       "    'Name': 'Nicola Zagame',\n",
       "    'Id': '089e90',\n",
       "    'Confidence': 82.17333221435547,\n",
       "    'Face': {'BoundingBox': {'Width': 0.055012624710798264,\n",
       "      'Height': 0.19004149734973907,\n",
       "      'Left': 0.1260831505060196,\n",
       "      'Top': 0.5256061553955078},\n",
       "     'Landmarks': [{'Type': 'eyeLeft',\n",
       "       'X': 0.14844198524951935,\n",
       "       'Y': 0.6100224852561951},\n",
       "      {'Type': 'eyeRight', 'X': 0.16711367666721344, 'Y': 0.6013416051864624},\n",
       "      {'Type': 'mouthLeft', 'X': 0.15289026498794556, 'Y': 0.6984184980392456},\n",
       "      {'Type': 'mouthRight',\n",
       "       'X': 0.16825582087039948,\n",
       "       'Y': 0.6908829212188721},\n",
       "      {'Type': 'nose', 'X': 0.1608799248933792, 'Y': 0.6508665680885315}],\n",
       "     'Pose': {'Roll': -3.4246633052825928,\n",
       "      'Yaw': 23.178165435791016,\n",
       "      'Pitch': 2.2182512283325195},\n",
       "     'Quality': {'Brightness': 54.10500717163086,\n",
       "      'Sharpness': 26.1773681640625},\n",
       "     'Confidence': 99.64710235595703},\n",
       "    'KnownGender': {'Type': 'Female'}}},\n",
       "  {'Timestamp': 14496,\n",
       "   'Celebrity': {'Urls': ['www.wikidata.org/wiki/Q6159535',\n",
       "     'www.imdb.com/name/nm3948952'],\n",
       "    'Name': 'Vanessa Kirby',\n",
       "    'Id': '1Xm7JF0e',\n",
       "    'Confidence': 99.99878692626953,\n",
       "    'Face': {'BoundingBox': {'Width': 0.20411904156208038,\n",
       "      'Height': 0.6546292304992676,\n",
       "      'Left': 0.36204198002815247,\n",
       "      'Top': 0.13259807229042053},\n",
       "     'Landmarks': [{'Type': 'eyeLeft',\n",
       "       'X': 0.39584237337112427,\n",
       "       'Y': 0.42427706718444824},\n",
       "      {'Type': 'eyeRight', 'X': 0.47867220640182495, 'Y': 0.38938742876052856},\n",
       "      {'Type': 'mouthLeft', 'X': 0.4244494140148163, 'Y': 0.649921178817749},\n",
       "      {'Type': 'mouthRight', 'X': 0.49363312125205994, 'Y': 0.621616542339325},\n",
       "      {'Type': 'nose', 'X': 0.4321128726005554, 'Y': 0.5508905649185181}],\n",
       "     'Pose': {'Roll': -13.653360366821289,\n",
       "      'Yaw': -16.28215217590332,\n",
       "      'Pitch': -1.5252494812011719},\n",
       "     'Quality': {'Brightness': 60.77515411376953,\n",
       "      'Sharpness': 86.86019134521484},\n",
       "     'Confidence': 99.9993896484375},\n",
       "    'KnownGender': {'Type': 'Female'}}},\n",
       "  {'Timestamp': 14996,\n",
       "   'Celebrity': {'Urls': ['www.wikidata.org/wiki/Q6427916'],\n",
       "    'Name': 'Nicola Zagame',\n",
       "    'Id': '089e90',\n",
       "    'Confidence': 89.54684448242188,\n",
       "    'Face': {'BoundingBox': {'Width': 0.05624442175030708,\n",
       "      'Height': 0.1930137574672699,\n",
       "      'Left': 0.12450174987316132,\n",
       "      'Top': 0.5207103490829468},\n",
       "     'Landmarks': [{'Type': 'eyeLeft',\n",
       "       'X': 0.14986924827098846,\n",
       "       'Y': 0.5963032245635986},\n",
       "      {'Type': 'eyeRight', 'X': 0.17813970148563385, 'Y': 0.58648681640625},\n",
       "      {'Type': 'mouthLeft', 'X': 0.15439099073410034, 'Y': 0.7097934484481812},\n",
       "      {'Type': 'mouthRight', 'X': 0.17790627479553223, 'Y': 0.701216459274292},\n",
       "      {'Type': 'nose', 'X': 0.16994526982307434, 'Y': 0.6525632739067078}],\n",
       "     'Pose': {'Roll': -8.472433090209961,\n",
       "      'Yaw': 19.906707763671875,\n",
       "      'Pitch': 2.52048659324646},\n",
       "     'Quality': {'Brightness': 51.85752487182617,\n",
       "      'Sharpness': 20.927310943603516},\n",
       "     'Confidence': 99.39398956298828},\n",
       "    'KnownGender': {'Type': 'Female'}}},\n",
       "  {'Timestamp': 14996,\n",
       "   'Celebrity': {'Urls': ['www.wikidata.org/wiki/Q6159535',\n",
       "     'www.imdb.com/name/nm3948952'],\n",
       "    'Name': 'Vanessa Kirby',\n",
       "    'Id': '1Xm7JF0e',\n",
       "    'Confidence': 99.99847412109375,\n",
       "    'Face': {'BoundingBox': {'Width': 0.20361115038394928,\n",
       "      'Height': 0.6569386124610901,\n",
       "      'Left': 0.36268725991249084,\n",
       "      'Top': 0.11840713769197464},\n",
       "     'Landmarks': [{'Type': 'eyeLeft',\n",
       "       'X': 0.40411561727523804,\n",
       "       'Y': 0.40805599093437195},\n",
       "      {'Type': 'eyeRight', 'X': 0.489596962928772, 'Y': 0.3676220178604126},\n",
       "      {'Type': 'mouthLeft', 'X': 0.4338531792163849, 'Y': 0.6346039772033691},\n",
       "      {'Type': 'mouthRight', 'X': 0.505303680896759, 'Y': 0.6014879941940308},\n",
       "      {'Type': 'nose', 'X': 0.4490675628185272, 'Y': 0.5291724801063538}],\n",
       "     'Pose': {'Roll': -15.231459617614746,\n",
       "      'Yaw': -9.701459884643555,\n",
       "      'Pitch': -0.9221588969230652},\n",
       "     'Quality': {'Brightness': 59.43732833862305,\n",
       "      'Sharpness': 89.85481262207031},\n",
       "     'Confidence': 99.99942779541016},\n",
       "    'KnownGender': {'Type': 'Female'}}},\n",
       "  {'Timestamp': 14996,\n",
       "   'Celebrity': {'Urls': ['www.wikidata.org/wiki/Q3660567'],\n",
       "    'Name': 'Carolina Márquez',\n",
       "    'Id': '4CB6wK4H',\n",
       "    'Confidence': 84.34268188476562,\n",
       "    'Face': {'BoundingBox': {'Width': 0.05323009565472603,\n",
       "      'Height': 0.185344398021698,\n",
       "      'Left': 0.7801758646965027,\n",
       "      'Top': 0.5451160669326782},\n",
       "     'Landmarks': [{'Type': 'eyeLeft',\n",
       "       'X': 0.7845115065574646,\n",
       "       'Y': 0.6242991089820862},\n",
       "      {'Type': 'eyeRight', 'X': 0.8123467564582825, 'Y': 0.6211966872215271},\n",
       "      {'Type': 'mouthLeft', 'X': 0.7908632159233093, 'Y': 0.708183765411377},\n",
       "      {'Type': 'mouthRight', 'X': 0.8143297433853149, 'Y': 0.7058255672454834},\n",
       "      {'Type': 'nose', 'X': 0.7951210141181946, 'Y': 0.6861021518707275}],\n",
       "     'Pose': {'Roll': -11.130281448364258,\n",
       "      'Yaw': -22.88688850402832,\n",
       "      'Pitch': -4.138258934020996},\n",
       "     'Quality': {'Brightness': 43.159629821777344,\n",
       "      'Sharpness': 38.89601135253906},\n",
       "     'Confidence': 98.15391540527344},\n",
       "    'KnownGender': {'Type': 'Female'}}},\n",
       "  {'Timestamp': 15495,\n",
       "   'Celebrity': {'Urls': ['www.wikidata.org/wiki/Q6427916'],\n",
       "    'Name': 'Nicola Zagame',\n",
       "    'Id': '089e90',\n",
       "    'Confidence': 85.44815826416016,\n",
       "    'Face': {'BoundingBox': {'Width': 0.05264144018292427,\n",
       "      'Height': 0.18551696836948395,\n",
       "      'Left': 0.12700419127941132,\n",
       "      'Top': 0.52115797996521},\n",
       "     'Landmarks': [{'Type': 'eyeLeft',\n",
       "       'X': 0.14929360151290894,\n",
       "       'Y': 0.5978515148162842},\n",
       "      {'Type': 'eyeRight', 'X': 0.16786178946495056, 'Y': 0.5941759943962097},\n",
       "      {'Type': 'mouthLeft', 'X': 0.14987120032310486, 'Y': 0.6892585754394531},\n",
       "      {'Type': 'mouthRight',\n",
       "       'X': 0.16515782475471497,\n",
       "       'Y': 0.6858049035072327},\n",
       "      {'Type': 'nose', 'X': 0.16068419814109802, 'Y': 0.6446167230606079}],\n",
       "     'Pose': {'Roll': -8.549562454223633,\n",
       "      'Yaw': 15.886167526245117,\n",
       "      'Pitch': 3.639674425125122},\n",
       "     'Quality': {'Brightness': 55.18065643310547,\n",
       "      'Sharpness': 20.927310943603516},\n",
       "     'Confidence': 99.6437759399414},\n",
       "    'KnownGender': {'Type': 'Female'}}},\n",
       "  {'Timestamp': 15495,\n",
       "   'Celebrity': {'Urls': ['www.wikidata.org/wiki/Q6159535',\n",
       "     'www.imdb.com/name/nm3948952'],\n",
       "    'Name': 'Vanessa Kirby',\n",
       "    'Id': '1Xm7JF0e',\n",
       "    'Confidence': 99.99871063232422,\n",
       "    'Face': {'BoundingBox': {'Width': 0.20391172170639038,\n",
       "      'Height': 0.6502494215965271,\n",
       "      'Left': 0.35100528597831726,\n",
       "      'Top': 0.11398941278457642},\n",
       "     'Landmarks': [{'Type': 'eyeLeft',\n",
       "       'X': 0.3947902321815491,\n",
       "       'Y': 0.4134211242198944},\n",
       "      {'Type': 'eyeRight', 'X': 0.4792707562446594, 'Y': 0.36262884736061096},\n",
       "      {'Type': 'mouthLeft', 'X': 0.4286581575870514, 'Y': 0.6345728635787964},\n",
       "      {'Type': 'mouthRight', 'X': 0.4992711842060089, 'Y': 0.5927730798721313},\n",
       "      {'Type': 'nose', 'X': 0.4416464567184448, 'Y': 0.5264881253242493}],\n",
       "     'Pose': {'Roll': -17.710567474365234,\n",
       "      'Yaw': -9.951165199279785,\n",
       "      'Pitch': -0.4105345606803894},\n",
       "     'Quality': {'Brightness': 61.48653030395508,\n",
       "      'Sharpness': 89.85481262207031},\n",
       "     'Confidence': 99.99947357177734},\n",
       "    'KnownGender': {'Type': 'Female'}}},\n",
       "  {'Timestamp': 15995,\n",
       "   'Celebrity': {'Urls': ['www.wikidata.org/wiki/Q739004',\n",
       "     'www.imdb.com/name/nm0001089'],\n",
       "    'Name': 'Henry Czerny',\n",
       "    'Id': '3O2kT5',\n",
       "    'Confidence': 99.87921905517578,\n",
       "    'Face': {'BoundingBox': {'Width': 0.34716683626174927,\n",
       "      'Height': 0.969520628452301,\n",
       "      'Left': 0.5293010473251343,\n",
       "      'Top': -0.03730613738298416},\n",
       "     'Landmarks': [{'Type': 'eyeLeft',\n",
       "       'X': 0.7012909650802612,\n",
       "       'Y': 0.2113267332315445},\n",
       "      {'Type': 'eyeRight', 'X': 0.8325203657150269, 'Y': 0.2513219118118286},\n",
       "      {'Type': 'mouthLeft', 'X': 0.6962395310401917, 'Y': 0.6340582370758057},\n",
       "      {'Type': 'mouthRight', 'X': 0.8062841892242432, 'Y': 0.6659409403800964},\n",
       "      {'Type': 'nose', 'X': 0.8082466125488281, 'Y': 0.45144444704055786}],\n",
       "     'Pose': {'Roll': 10.815210342407227,\n",
       "      'Yaw': 27.71255874633789,\n",
       "      'Pitch': 4.793752670288086},\n",
       "     'Quality': {'Brightness': 50.825923919677734,\n",
       "      'Sharpness': 89.85481262207031},\n",
       "     'Confidence': 99.99900817871094},\n",
       "    'KnownGender': {'Type': 'Male'}}},\n",
       "  {'Timestamp': 16495,\n",
       "   'Celebrity': {'Urls': ['www.wikidata.org/wiki/Q739004',\n",
       "     'www.imdb.com/name/nm0001089'],\n",
       "    'Name': 'Henry Czerny',\n",
       "    'Id': '3O2kT5',\n",
       "    'Confidence': 99.74092102050781,\n",
       "    'Face': {'BoundingBox': {'Width': 0.3504624366760254,\n",
       "      'Height': 0.9356785416603088,\n",
       "      'Left': 0.530614972114563,\n",
       "      'Top': -0.022046661004424095},\n",
       "     'Landmarks': [{'Type': 'eyeLeft',\n",
       "       'X': 0.7000756859779358,\n",
       "       'Y': 0.1931850016117096},\n",
       "      {'Type': 'eyeRight', 'X': 0.8359851837158203, 'Y': 0.2373577505350113},\n",
       "      {'Type': 'mouthLeft', 'X': 0.6954008936882019, 'Y': 0.6151548624038696},\n",
       "      {'Type': 'mouthRight', 'X': 0.809482991695404, 'Y': 0.6507146954536438},\n",
       "      {'Type': 'nose', 'X': 0.8056334257125854, 'Y': 0.4299520254135132}],\n",
       "     'Pose': {'Roll': 10.295144081115723,\n",
       "      'Yaw': 25.322288513183594,\n",
       "      'Pitch': 6.21719217300415},\n",
       "     'Quality': {'Brightness': 51.102386474609375,\n",
       "      'Sharpness': 86.86019134521484},\n",
       "     'Confidence': 99.99883270263672},\n",
       "    'KnownGender': {'Type': 'Male'}}},\n",
       "  {'Timestamp': 16995,\n",
       "   'Celebrity': {'Urls': ['www.wikidata.org/wiki/Q739004',\n",
       "     'www.imdb.com/name/nm0001089'],\n",
       "    'Name': 'Henry Czerny',\n",
       "    'Id': '3O2kT5',\n",
       "    'Confidence': 99.85426330566406,\n",
       "    'Face': {'BoundingBox': {'Width': 0.35574430227279663,\n",
       "      'Height': 0.9363252520561218,\n",
       "      'Left': 0.5331332087516785,\n",
       "      'Top': -0.019300423562526703},\n",
       "     'Landmarks': [{'Type': 'eyeLeft',\n",
       "       'X': 0.6989004611968994,\n",
       "       'Y': 0.19581489264965057},\n",
       "      {'Type': 'eyeRight', 'X': 0.8369381427764893, 'Y': 0.24084989726543427},\n",
       "      {'Type': 'mouthLeft', 'X': 0.6951063871383667, 'Y': 0.5989617705345154},\n",
       "      {'Type': 'mouthRight', 'X': 0.8110112547874451, 'Y': 0.6354698538780212},\n",
       "      {'Type': 'nose', 'X': 0.8028708696365356, 'Y': 0.41910597681999207}],\n",
       "     'Pose': {'Roll': 10.881001472473145,\n",
       "      'Yaw': 23.402353286743164,\n",
       "      'Pitch': 7.462429046630859},\n",
       "     'Quality': {'Brightness': 51.58955383300781,\n",
       "      'Sharpness': 89.85481262207031},\n",
       "     'Confidence': 99.99910736083984},\n",
       "    'KnownGender': {'Type': 'Male'}}},\n",
       "  {'Timestamp': 17495,\n",
       "   'Celebrity': {'Urls': ['www.wikidata.org/wiki/Q739004',\n",
       "     'www.imdb.com/name/nm0001089'],\n",
       "    'Name': 'Henry Czerny',\n",
       "    'Id': '3O2kT5',\n",
       "    'Confidence': 99.85603332519531,\n",
       "    'Face': {'BoundingBox': {'Width': 0.35405948758125305,\n",
       "      'Height': 0.9890861511230469,\n",
       "      'Left': 0.5383805632591248,\n",
       "      'Top': -0.06649429351091385},\n",
       "     'Landmarks': [{'Type': 'eyeLeft',\n",
       "       'X': 0.7051536440849304,\n",
       "       'Y': 0.21532127261161804},\n",
       "      {'Type': 'eyeRight', 'X': 0.8425307869911194, 'Y': 0.25839683413505554},\n",
       "      {'Type': 'mouthLeft', 'X': 0.697045624256134, 'Y': 0.643552839756012},\n",
       "      {'Type': 'mouthRight', 'X': 0.8121251463890076, 'Y': 0.6777606010437012},\n",
       "      {'Type': 'nose', 'X': 0.8104687333106995, 'Y': 0.4586920142173767}],\n",
       "     'Pose': {'Roll': 11.639653205871582,\n",
       "      'Yaw': 25.148435592651367,\n",
       "      'Pitch': 4.079265117645264},\n",
       "     'Quality': {'Brightness': 50.830875396728516,\n",
       "      'Sharpness': 92.22801208496094},\n",
       "     'Confidence': 99.99958038330078},\n",
       "    'KnownGender': {'Type': 'Male'}}},\n",
       "  {'Timestamp': 17995,\n",
       "   'Celebrity': {'Urls': ['www.wikidata.org/wiki/Q739004',\n",
       "     'www.imdb.com/name/nm0001089'],\n",
       "    'Name': 'Henry Czerny',\n",
       "    'Id': '3O2kT5',\n",
       "    'Confidence': 99.8234634399414,\n",
       "    'Face': {'BoundingBox': {'Width': 0.35849621891975403,\n",
       "      'Height': 0.9996525645256042,\n",
       "      'Left': 0.5400744080543518,\n",
       "      'Top': -0.05707656964659691},\n",
       "     'Landmarks': [{'Type': 'eyeLeft',\n",
       "       'X': 0.7070361971855164,\n",
       "       'Y': 0.2375822812318802},\n",
       "      {'Type': 'eyeRight', 'X': 0.8430816531181335, 'Y': 0.2751356065273285},\n",
       "      {'Type': 'mouthLeft', 'X': 0.7018423676490784, 'Y': 0.669421374797821},\n",
       "      {'Type': 'mouthRight', 'X': 0.8158712983131409, 'Y': 0.6990557312965393},\n",
       "      {'Type': 'nose', 'X': 0.8124749064445496, 'Y': 0.4920141100883484}],\n",
       "     'Pose': {'Roll': 8.97108268737793,\n",
       "      'Yaw': 27.1351318359375,\n",
       "      'Pitch': -0.5180696845054626},\n",
       "     'Quality': {'Brightness': 51.26998519897461,\n",
       "      'Sharpness': 89.85481262207031},\n",
       "     'Confidence': 99.99917602539062},\n",
       "    'KnownGender': {'Type': 'Male'}}},\n",
       "  {'Timestamp': 18495,\n",
       "   'Celebrity': {'Urls': ['www.wikidata.org/wiki/Q739004',\n",
       "     'www.imdb.com/name/nm0001089'],\n",
       "    'Name': 'Henry Czerny',\n",
       "    'Id': '3O2kT5',\n",
       "    'Confidence': 99.77871704101562,\n",
       "    'Face': {'BoundingBox': {'Width': 0.36053529381752014,\n",
       "      'Height': 0.9992172122001648,\n",
       "      'Left': 0.5354352593421936,\n",
       "      'Top': -0.05641300231218338},\n",
       "     'Landmarks': [{'Type': 'eyeLeft',\n",
       "       'X': 0.7069500088691711,\n",
       "       'Y': 0.23995591700077057},\n",
       "      {'Type': 'eyeRight', 'X': 0.8421857357025146, 'Y': 0.27880632877349854},\n",
       "      {'Type': 'mouthLeft', 'X': 0.6996721029281616, 'Y': 0.670661985874176},\n",
       "      {'Type': 'mouthRight', 'X': 0.8130754828453064, 'Y': 0.7013959288597107},\n",
       "      {'Type': 'nose', 'X': 0.8112614154815674, 'Y': 0.49766770005226135}],\n",
       "     'Pose': {'Roll': 8.74940013885498,\n",
       "      'Yaw': 27.31446647644043,\n",
       "      'Pitch': -1.722516417503357},\n",
       "     'Quality': {'Brightness': 51.0942268371582,\n",
       "      'Sharpness': 89.85481262207031},\n",
       "     'Confidence': 99.9993896484375},\n",
       "    'KnownGender': {'Type': 'Male'}}},\n",
       "  {'Timestamp': 18560,\n",
       "   'Celebrity': {'Urls': ['www.wikidata.org/wiki/Q37079',\n",
       "     'www.imdb.com/name/nm0000129'],\n",
       "    'Name': 'Tom Cruise',\n",
       "    'Id': '2zs2cs8k',\n",
       "    'Confidence': 99.92533111572266,\n",
       "    'Face': {'BoundingBox': {'Width': 0.33946773409843445,\n",
       "      'Height': 0.9898995757102966,\n",
       "      'Left': 0.47788938879966736,\n",
       "      'Top': -0.06293212622404099},\n",
       "     'Landmarks': [{'Type': 'eyeLeft',\n",
       "       'X': 0.5175921320915222,\n",
       "       'Y': 0.22243408858776093},\n",
       "      {'Type': 'eyeRight', 'X': 0.6713157892227173, 'Y': 0.201850026845932},\n",
       "      {'Type': 'mouthLeft', 'X': 0.5328271985054016, 'Y': 0.6468738317489624},\n",
       "      {'Type': 'mouthRight', 'X': 0.6617828011512756, 'Y': 0.6311659812927246},\n",
       "      {'Type': 'nose', 'X': 0.555230438709259, 'Y': 0.41772279143333435}],\n",
       "     'Pose': {'Roll': -4.360672473907471,\n",
       "      'Yaw': -15.09607219696045,\n",
       "      'Pitch': 4.309290409088135},\n",
       "     'Quality': {'Brightness': 72.42448425292969,\n",
       "      'Sharpness': 73.32209777832031},\n",
       "     'Confidence': 99.99835205078125},\n",
       "    'KnownGender': {'Type': 'Male'}}},\n",
       "  {'Timestamp': 18994,\n",
       "   'Celebrity': {'Urls': ['www.wikidata.org/wiki/Q37079',\n",
       "     'www.imdb.com/name/nm0000129'],\n",
       "    'Name': 'Tom Cruise',\n",
       "    'Id': '2zs2cs8k',\n",
       "    'Confidence': 99.9288101196289,\n",
       "    'Face': {'BoundingBox': {'Width': 0.32512032985687256,\n",
       "      'Height': 0.9999984502792358,\n",
       "      'Left': 0.4960663914680481,\n",
       "      'Top': -0.07338894158601761},\n",
       "     'Landmarks': [{'Type': 'eyeLeft',\n",
       "       'X': 0.5330444574356079,\n",
       "       'Y': 0.21931520104408264},\n",
       "      {'Type': 'eyeRight', 'X': 0.6895057559013367, 'Y': 0.2021111249923706},\n",
       "      {'Type': 'mouthLeft', 'X': 0.54683518409729, 'Y': 0.6405630707740784},\n",
       "      {'Type': 'mouthRight', 'X': 0.6779998540878296, 'Y': 0.6274470686912537},\n",
       "      {'Type': 'nose', 'X': 0.5756757259368896, 'Y': 0.4085671603679657}],\n",
       "     'Pose': {'Roll': -3.1459972858428955,\n",
       "      'Yaw': -12.832082748413086,\n",
       "      'Pitch': 3.562690496444702},\n",
       "     'Quality': {'Brightness': 72.53589630126953,\n",
       "      'Sharpness': 67.22731018066406},\n",
       "     'Confidence': 99.99629211425781},\n",
       "    'KnownGender': {'Type': 'Male'}}},\n",
       "  {'Timestamp': 19060,\n",
       "   'Celebrity': {'Urls': ['www.wikidata.org/wiki/Q37079',\n",
       "     'www.imdb.com/name/nm0000129'],\n",
       "    'Name': 'Tom Cruise',\n",
       "    'Id': '2zs2cs8k',\n",
       "    'Confidence': 99.94464874267578,\n",
       "    'Face': {'BoundingBox': {'Width': 0.3247242867946625,\n",
       "      'Height': 1.0138088464736938,\n",
       "      'Left': 0.4972096383571625,\n",
       "      'Top': -0.08070263266563416},\n",
       "     'Landmarks': [{'Type': 'eyeLeft',\n",
       "       'X': 0.53653484582901,\n",
       "       'Y': 0.22082848846912384},\n",
       "      {'Type': 'eyeRight', 'X': 0.6929203867912292, 'Y': 0.2061198204755783},\n",
       "      {'Type': 'mouthLeft', 'X': 0.5494000911712646, 'Y': 0.6408970355987549},\n",
       "      {'Type': 'mouthRight', 'X': 0.6804206967353821, 'Y': 0.6299136877059937},\n",
       "      {'Type': 'nose', 'X': 0.578501284122467, 'Y': 0.40940526127815247}],\n",
       "     'Pose': {'Roll': -3.0509753227233887,\n",
       "      'Yaw': -12.580856323242188,\n",
       "      'Pitch': 3.740915298461914},\n",
       "     'Quality': {'Brightness': 72.74059295654297,\n",
       "      'Sharpness': 67.22731018066406},\n",
       "     'Confidence': 99.99580383300781},\n",
       "    'KnownGender': {'Type': 'Male'}}},\n",
       "  {'Timestamp': 19494,\n",
       "   'Celebrity': {'Urls': ['www.wikidata.org/wiki/Q37079',\n",
       "     'www.imdb.com/name/nm0000129'],\n",
       "    'Name': 'Tom Cruise',\n",
       "    'Id': '2zs2cs8k',\n",
       "    'Confidence': 99.91043090820312,\n",
       "    'Face': {'BoundingBox': {'Width': 0.33572471141815186,\n",
       "      'Height': 0.9737017750740051,\n",
       "      'Left': 0.4883114993572235,\n",
       "      'Top': -0.05796573683619499},\n",
       "     'Landmarks': [{'Type': 'eyeLeft',\n",
       "       'X': 0.5309364199638367,\n",
       "       'Y': 0.2152298092842102},\n",
       "      {'Type': 'eyeRight', 'X': 0.6849411725997925, 'Y': 0.20377583801746368},\n",
       "      {'Type': 'mouthLeft', 'X': 0.5429004430770874, 'Y': 0.6393373012542725},\n",
       "      {'Type': 'mouthRight', 'X': 0.6721848845481873, 'Y': 0.6312169432640076},\n",
       "      {'Type': 'nose', 'X': 0.5689733624458313, 'Y': 0.4185742437839508}],\n",
       "     'Pose': {'Roll': -2.894986629486084,\n",
       "      'Yaw': -13.898845672607422,\n",
       "      'Pitch': 2.9927849769592285},\n",
       "     'Quality': {'Brightness': 71.82929992675781,\n",
       "      'Sharpness': 67.22731018066406},\n",
       "     'Confidence': 99.9979248046875},\n",
       "    'KnownGender': {'Type': 'Male'}}},\n",
       "  {'Timestamp': 19559,\n",
       "   'Celebrity': {'Urls': ['www.wikidata.org/wiki/Q37079',\n",
       "     'www.imdb.com/name/nm0000129'],\n",
       "    'Name': 'Tom Cruise',\n",
       "    'Id': '2zs2cs8k',\n",
       "    'Confidence': 99.91085052490234,\n",
       "    'Face': {'BoundingBox': {'Width': 0.32657498121261597,\n",
       "      'Height': 1.0063812732696533,\n",
       "      'Left': 0.4918574392795563,\n",
       "      'Top': -0.06986366212368011},\n",
       "     'Landmarks': [{'Type': 'eyeLeft',\n",
       "       'X': 0.5274292230606079,\n",
       "       'Y': 0.22067368030548096},\n",
       "      {'Type': 'eyeRight', 'X': 0.6814243793487549, 'Y': 0.2052861750125885},\n",
       "      {'Type': 'mouthLeft', 'X': 0.5400084257125854, 'Y': 0.6435102224349976},\n",
       "      {'Type': 'mouthRight', 'X': 0.6691426634788513, 'Y': 0.6321373581886292},\n",
       "      {'Type': 'nose', 'X': 0.5638712644577026, 'Y': 0.4171435832977295}],\n",
       "     'Pose': {'Roll': -3.1469638347625732,\n",
       "      'Yaw': -13.809279441833496,\n",
       "      'Pitch': 2.7459189891815186},\n",
       "     'Quality': {'Brightness': 72.1098861694336,\n",
       "      'Sharpness': 67.22731018066406},\n",
       "     'Confidence': 99.99747467041016},\n",
       "    'KnownGender': {'Type': 'Male'}}},\n",
       "  {'Timestamp': 19994,\n",
       "   'Celebrity': {'Urls': ['www.wikidata.org/wiki/Q37079',\n",
       "     'www.imdb.com/name/nm0000129'],\n",
       "    'Name': 'Tom Cruise',\n",
       "    'Id': '2zs2cs8k',\n",
       "    'Confidence': 99.90379333496094,\n",
       "    'Face': {'BoundingBox': {'Width': 0.3388940989971161,\n",
       "      'Height': 0.9779123663902283,\n",
       "      'Left': 0.4903639853000641,\n",
       "      'Top': -0.06398506462574005},\n",
       "     'Landmarks': [{'Type': 'eyeLeft',\n",
       "       'X': 0.5358154773712158,\n",
       "       'Y': 0.21150052547454834},\n",
       "      {'Type': 'eyeRight', 'X': 0.6933842897415161, 'Y': 0.1806519478559494},\n",
       "      {'Type': 'mouthLeft', 'X': 0.5565369129180908, 'Y': 0.6314646005630493},\n",
       "      {'Type': 'mouthRight', 'X': 0.6887585520744324, 'Y': 0.606702983379364},\n",
       "      {'Type': 'nose', 'X': 0.5885647535324097, 'Y': 0.3922078013420105}],\n",
       "     'Pose': {'Roll': -4.969690799713135,\n",
       "      'Yaw': -10.333779335021973,\n",
       "      'Pitch': 3.4794700145721436},\n",
       "     'Quality': {'Brightness': 72.20317840576172,\n",
       "      'Sharpness': 60.49041748046875},\n",
       "     'Confidence': 99.99813842773438},\n",
       "    'KnownGender': {'Type': 'Male'}}},\n",
       "  {'Timestamp': 20059,\n",
       "   'Celebrity': {'Urls': ['www.wikidata.org/wiki/Q37079',\n",
       "     'www.imdb.com/name/nm0000129'],\n",
       "    'Name': 'Tom Cruise',\n",
       "    'Id': '2zs2cs8k',\n",
       "    'Confidence': 99.91243743896484,\n",
       "    'Face': {'BoundingBox': {'Width': 0.3412202298641205,\n",
       "      'Height': 0.9544424414634705,\n",
       "      'Left': 0.49003055691719055,\n",
       "      'Top': -0.05393917113542557},\n",
       "     'Landmarks': [{'Type': 'eyeLeft',\n",
       "       'X': 0.5481775999069214,\n",
       "       'Y': 0.2144194394350052},\n",
       "      {'Type': 'eyeRight', 'X': 0.70689457654953, 'Y': 0.1719893217086792},\n",
       "      {'Type': 'mouthLeft', 'X': 0.5755457282066345, 'Y': 0.6336493492126465},\n",
       "      {'Type': 'mouthRight', 'X': 0.7087873220443726, 'Y': 0.5990383625030518},\n",
       "      {'Type': 'nose', 'X': 0.6115065217018127, 'Y': 0.3863450586795807}],\n",
       "     'Pose': {'Roll': -6.8364763259887695,\n",
       "      'Yaw': -6.582160472869873,\n",
       "      'Pitch': 4.84122896194458},\n",
       "     'Quality': {'Brightness': 72.24127960205078,\n",
       "      'Sharpness': 60.49041748046875},\n",
       "     'Confidence': 99.99836730957031},\n",
       "    'KnownGender': {'Type': 'Male'}}},\n",
       "  {'Timestamp': 20559,\n",
       "   'Celebrity': {'Urls': ['www.wikidata.org/wiki/Q37079',\n",
       "     'www.imdb.com/name/nm0000129'],\n",
       "    'Name': 'Tom Cruise',\n",
       "    'Id': '2zs2cs8k',\n",
       "    'Confidence': 99.94037628173828,\n",
       "    'Face': {'BoundingBox': {'Width': 0.35844510793685913,\n",
       "      'Height': 0.9512803554534912,\n",
       "      'Left': 0.4891189634799957,\n",
       "      'Top': -0.04511825740337372},\n",
       "     'Landmarks': [{'Type': 'eyeLeft',\n",
       "       'X': 0.5968448519706726,\n",
       "       'Y': 0.2174781858921051},\n",
       "      {'Type': 'eyeRight', 'X': 0.7528477311134338, 'Y': 0.14260834455490112},\n",
       "      {'Type': 'mouthLeft', 'X': 0.6524487137794495, 'Y': 0.6343456506729126},\n",
       "      {'Type': 'mouthRight', 'X': 0.7834828495979309, 'Y': 0.571631133556366},\n",
       "      {'Type': 'nose', 'X': 0.709553599357605, 'Y': 0.36648666858673096}],\n",
       "     'Pose': {'Roll': -10.425426483154297,\n",
       "      'Yaw': 5.814220905303955,\n",
       "      'Pitch': 5.917939186096191},\n",
       "     'Quality': {'Brightness': 72.90762329101562,\n",
       "      'Sharpness': 67.22731018066406},\n",
       "     'Confidence': 99.99949645996094},\n",
       "    'KnownGender': {'Type': 'Male'}}},\n",
       "  {'Timestamp': 21059,\n",
       "   'Celebrity': {'Urls': ['www.wikidata.org/wiki/Q37079',\n",
       "     'www.imdb.com/name/nm0000129'],\n",
       "    'Name': 'Tom Cruise',\n",
       "    'Id': '2zs2cs8k',\n",
       "    'Confidence': 99.96418762207031,\n",
       "    'Face': {'BoundingBox': {'Width': 0.3544858396053314,\n",
       "      'Height': 0.9707183241844177,\n",
       "      'Left': 0.49336472153663635,\n",
       "      'Top': -0.05275871232151985},\n",
       "     'Landmarks': [{'Type': 'eyeLeft',\n",
       "       'X': 0.599575936794281,\n",
       "       'Y': 0.21350862085819244},\n",
       "      {'Type': 'eyeRight', 'X': 0.7525588274002075, 'Y': 0.13552890717983246},\n",
       "      {'Type': 'mouthLeft', 'X': 0.6564798951148987, 'Y': 0.6291528940200806},\n",
       "      {'Type': 'mouthRight', 'X': 0.7849982380867004, 'Y': 0.5637377500534058},\n",
       "      {'Type': 'nose', 'X': 0.7141472697257996, 'Y': 0.36386898159980774}],\n",
       "     'Pose': {'Roll': -10.872875213623047,\n",
       "      'Yaw': 6.492629051208496,\n",
       "      'Pitch': 5.370883464813232},\n",
       "     'Quality': {'Brightness': 73.06794738769531,\n",
       "      'Sharpness': 67.22731018066406},\n",
       "     'Confidence': 99.99944305419922},\n",
       "    'KnownGender': {'Type': 'Male'}}},\n",
       "  {'Timestamp': 21559,\n",
       "   'Celebrity': {'Urls': ['www.wikidata.org/wiki/Q37079',\n",
       "     'www.imdb.com/name/nm0000129'],\n",
       "    'Name': 'Tom Cruise',\n",
       "    'Id': '2zs2cs8k',\n",
       "    'Confidence': 99.9353256225586,\n",
       "    'Face': {'BoundingBox': {'Width': 0.3560647666454315,\n",
       "      'Height': 0.9576574563980103,\n",
       "      'Left': 0.48046770691871643,\n",
       "      'Top': -0.05213256925344467},\n",
       "     'Landmarks': [{'Type': 'eyeLeft',\n",
       "       'X': 0.5590423941612244,\n",
       "       'Y': 0.23608094453811646},\n",
       "      {'Type': 'eyeRight', 'X': 0.7204347252845764, 'Y': 0.17954112589359283},\n",
       "      {'Type': 'mouthLeft', 'X': 0.5979882478713989, 'Y': 0.6611282229423523},\n",
       "      {'Type': 'mouthRight', 'X': 0.7335180640220642, 'Y': 0.6143695116043091},\n",
       "      {'Type': 'nose', 'X': 0.6420408487319946, 'Y': 0.4129205048084259}],\n",
       "     'Pose': {'Roll': -8.749063491821289,\n",
       "      'Yaw': -3.0069499015808105,\n",
       "      'Pitch': 3.068509101867676},\n",
       "     'Quality': {'Brightness': 71.83171844482422,\n",
       "      'Sharpness': 73.32209777832031},\n",
       "     'Confidence': 99.99911499023438},\n",
       "    'KnownGender': {'Type': 'Male'}}},\n",
       "  {'Timestamp': 22059,\n",
       "   'Celebrity': {'Urls': ['www.wikidata.org/wiki/Q37079',\n",
       "     'www.imdb.com/name/nm0000129'],\n",
       "    'Name': 'Tom Cruise',\n",
       "    'Id': '2zs2cs8k',\n",
       "    'Confidence': 99.9029312133789,\n",
       "    'Face': {'BoundingBox': {'Width': 0.34954503178596497,\n",
       "      'Height': 0.9969627261161804,\n",
       "      'Left': 0.4661492705345154,\n",
       "      'Top': -0.06666397303342819},\n",
       "     'Landmarks': [{'Type': 'eyeLeft',\n",
       "       'X': 0.5290526151657104,\n",
       "       'Y': 0.2558283507823944},\n",
       "      {'Type': 'eyeRight', 'X': 0.6885043382644653, 'Y': 0.22193531692028046},\n",
       "      {'Type': 'mouthLeft', 'X': 0.5568287968635559, 'Y': 0.6849358081817627},\n",
       "      {'Type': 'mouthRight', 'X': 0.6905602216720581, 'Y': 0.6576827168464661},\n",
       "      {'Type': 'nose', 'X': 0.5898106694221497, 'Y': 0.4608974754810333}],\n",
       "     'Pose': {'Roll': -5.308346748352051,\n",
       "      'Yaw': -8.691508293151855,\n",
       "      'Pitch': -2.56009840965271},\n",
       "     'Quality': {'Brightness': 71.4937744140625,\n",
       "      'Sharpness': 73.32209777832031},\n",
       "     'Confidence': 99.99959564208984},\n",
       "    'KnownGender': {'Type': 'Male'}}},\n",
       "  {'Timestamp': 22559,\n",
       "   'Celebrity': {'Urls': ['www.wikidata.org/wiki/Q37079',\n",
       "     'www.imdb.com/name/nm0000129'],\n",
       "    'Name': 'Tom Cruise',\n",
       "    'Id': '2zs2cs8k',\n",
       "    'Confidence': 99.86197662353516,\n",
       "    'Face': {'BoundingBox': {'Width': 0.3471607267856598,\n",
       "      'Height': 1.032690167427063,\n",
       "      'Left': 0.47652408480644226,\n",
       "      'Top': -0.07078132778406143},\n",
       "     'Landmarks': [{'Type': 'eyeLeft',\n",
       "       'X': 0.5278869867324829,\n",
       "       'Y': 0.24429698288440704},\n",
       "      {'Type': 'eyeRight', 'X': 0.6849464178085327, 'Y': 0.23375965654850006},\n",
       "      {'Type': 'mouthLeft', 'X': 0.5446962714195251, 'Y': 0.6757643818855286},\n",
       "      {'Type': 'mouthRight', 'X': 0.676396906375885, 'Y': 0.6682220697402954},\n",
       "      {'Type': 'nose', 'X': 0.5757968425750732, 'Y': 0.46319207549095154}],\n",
       "     'Pose': {'Roll': -2.717560291290283,\n",
       "      'Yaw': -12.694262504577637,\n",
       "      'Pitch': -2.987239360809326},\n",
       "     'Quality': {'Brightness': 70.86248779296875,\n",
       "      'Sharpness': 73.32209777832031},\n",
       "     'Confidence': 99.9985122680664},\n",
       "    'KnownGender': {'Type': 'Male'}}},\n",
       "  {'Timestamp': 26058,\n",
       "   'Celebrity': {'Urls': ['www.wikidata.org/wiki/Q65054865'],\n",
       "    'Name': 'Rebekah Graf',\n",
       "    'Id': 'f52984',\n",
       "    'Confidence': 99.08057403564453,\n",
       "    'Face': {'BoundingBox': {'Width': 0.19993700087070465,\n",
       "      'Height': 0.6713466644287109,\n",
       "      'Left': 0.3556848466396332,\n",
       "      'Top': 0.08644752204418182},\n",
       "     'Landmarks': [{'Type': 'eyeLeft',\n",
       "       'X': 0.49119940400123596,\n",
       "       'Y': 0.3747637867927551},\n",
       "      {'Type': 'eyeRight', 'X': 0.5061403512954712, 'Y': 0.381908118724823},\n",
       "      {'Type': 'mouthLeft', 'X': 0.4519554078578949, 'Y': 0.6041847467422485},\n",
       "      {'Type': 'mouthRight', 'X': 0.4637642800807953, 'Y': 0.6067832708358765},\n",
       "      {'Type': 'nose', 'X': 0.5271233320236206, 'Y': 0.5433033108711243}],\n",
       "     'Pose': {'Roll': -32.49933624267578,\n",
       "      'Yaw': 78.8034439086914,\n",
       "      'Pitch': -60.819480895996094},\n",
       "     'Quality': {'Brightness': 20.263721466064453,\n",
       "      'Sharpness': 73.32209777832031},\n",
       "     'Confidence': 99.99968719482422},\n",
       "    'KnownGender': {'Type': 'Female'}}},\n",
       "  {'Timestamp': 26558,\n",
       "   'Celebrity': {'Urls': ['www.wikidata.org/wiki/Q65054865'],\n",
       "    'Name': 'Rebekah Graf',\n",
       "    'Id': 'f52984',\n",
       "    'Confidence': 99.458740234375,\n",
       "    'Face': {'BoundingBox': {'Width': 0.2024795562028885,\n",
       "      'Height': 0.6714076399803162,\n",
       "      'Left': 0.3591304123401642,\n",
       "      'Top': 0.09992927312850952},\n",
       "     'Landmarks': [{'Type': 'eyeLeft',\n",
       "       'X': 0.49620333313941956,\n",
       "       'Y': 0.3869032561779022},\n",
       "      {'Type': 'eyeRight', 'X': 0.5104847550392151, 'Y': 0.3938332498073578},\n",
       "      {'Type': 'mouthLeft', 'X': 0.45874497294425964, 'Y': 0.6180722117424011},\n",
       "      {'Type': 'mouthRight',\n",
       "       'X': 0.46994370222091675,\n",
       "       'Y': 0.6204506158828735},\n",
       "      {'Type': 'nose', 'X': 0.5338470935821533, 'Y': 0.5535427927970886}],\n",
       "     'Pose': {'Roll': -42.0262336730957,\n",
       "      'Yaw': 77.67407989501953,\n",
       "      'Pitch': -70.39268493652344},\n",
       "     'Quality': {'Brightness': 19.91964340209961,\n",
       "      'Sharpness': 73.32209777832031},\n",
       "     'Confidence': 99.99966430664062},\n",
       "    'KnownGender': {'Type': 'Female'}}},\n",
       "  {'Timestamp': 28557,\n",
       "   'Celebrity': {'Urls': ['www.wikidata.org/wiki/Q739004',\n",
       "     'www.imdb.com/name/nm0001089'],\n",
       "    'Name': 'Henry Czerny',\n",
       "    'Id': '3O2kT5',\n",
       "    'Confidence': 99.87796783447266,\n",
       "    'Face': {'BoundingBox': {'Width': 0.1327487975358963,\n",
       "      'Height': 0.4594978988170624,\n",
       "      'Left': 0.6906019449234009,\n",
       "      'Top': 0.24124497175216675},\n",
       "     'Landmarks': [{'Type': 'eyeLeft',\n",
       "       'X': 0.7129038572311401,\n",
       "       'Y': 0.41662275791168213},\n",
       "      {'Type': 'eyeRight', 'X': 0.7689558267593384, 'Y': 0.42522650957107544},\n",
       "      {'Type': 'mouthLeft', 'X': 0.7114434838294983, 'Y': 0.5857803821563721},\n",
       "      {'Type': 'mouthRight', 'X': 0.7579695582389832, 'Y': 0.5932776927947998},\n",
       "      {'Type': 'nose', 'X': 0.7244111895561218, 'Y': 0.5090681314468384}],\n",
       "     'Pose': {'Roll': 1.8212100267410278,\n",
       "      'Yaw': -17.265869140625,\n",
       "      'Pitch': 0.022935163229703903},\n",
       "     'Quality': {'Brightness': 71.53035736083984,\n",
       "      'Sharpness': 53.330047607421875},\n",
       "     'Confidence': 99.99923706054688},\n",
       "    'KnownGender': {'Type': 'Male'}}},\n",
       "  {'Timestamp': 29057,\n",
       "   'Celebrity': {'Urls': ['www.wikidata.org/wiki/Q37079',\n",
       "     'www.imdb.com/name/nm0000129'],\n",
       "    'Name': 'Tom Cruise',\n",
       "    'Id': '2zs2cs8k',\n",
       "    'Confidence': 99.97403717041016,\n",
       "    'Face': {'BoundingBox': {'Width': 0.18691076338291168,\n",
       "      'Height': 0.6272114515304565,\n",
       "      'Left': 0.2996329069137573,\n",
       "      'Top': 0.075408935546875},\n",
       "     'Landmarks': [{'Type': 'eyeLeft',\n",
       "       'X': 0.3443310856819153,\n",
       "       'Y': 0.290317565202713},\n",
       "      {'Type': 'eyeRight', 'X': 0.4231029152870178, 'Y': 0.32346111536026},\n",
       "      {'Type': 'mouthLeft', 'X': 0.3331744074821472, 'Y': 0.5228946208953857},\n",
       "      {'Type': 'mouthRight', 'X': 0.3986298739910126, 'Y': 0.5509210824966431},\n",
       "      {'Type': 'nose', 'X': 0.362282395362854, 'Y': 0.4223794639110565}],\n",
       "     'Pose': {'Roll': 8.177201271057129,\n",
       "      'Yaw': -11.804333686828613,\n",
       "      'Pitch': 3.168753147125244},\n",
       "     'Quality': {'Brightness': 67.62236022949219,\n",
       "      'Sharpness': 53.330047607421875},\n",
       "     'Confidence': 99.99952697753906},\n",
       "    'KnownGender': {'Type': 'Male'}}},\n",
       "  {'Timestamp': 31056,\n",
       "   'Celebrity': {'Urls': ['www.wikidata.org/wiki/Q37079',\n",
       "     'www.imdb.com/name/nm0000129'],\n",
       "    'Name': 'Tom Cruise',\n",
       "    'Id': '2zs2cs8k',\n",
       "    'Confidence': 98.3826904296875,\n",
       "    'Face': {'BoundingBox': {'Width': 0.14581960439682007,\n",
       "      'Height': 0.4843686819076538,\n",
       "      'Left': 0.6882734894752502,\n",
       "      'Top': 0.29526588320732117},\n",
       "     'Landmarks': [{'Type': 'eyeLeft',\n",
       "       'X': 0.7215819954872131,\n",
       "       'Y': 0.4834860563278198},\n",
       "      {'Type': 'eyeRight', 'X': 0.7868220806121826, 'Y': 0.4633869528770447},\n",
       "      {'Type': 'mouthLeft', 'X': 0.736315131187439, 'Y': 0.6435565948486328},\n",
       "      {'Type': 'mouthRight', 'X': 0.7910537123680115, 'Y': 0.6269277930259705},\n",
       "      {'Type': 'nose', 'X': 0.7589635848999023, 'Y': 0.5765995383262634}],\n",
       "     'Pose': {'Roll': -6.5597639083862305,\n",
       "      'Yaw': -3.714008331298828,\n",
       "      'Pitch': -5.5296220779418945},\n",
       "     'Quality': {'Brightness': 81.14227294921875,\n",
       "      'Sharpness': 60.49041748046875},\n",
       "     'Confidence': 99.99991607666016},\n",
       "    'KnownGender': {'Type': 'Male'}}}],\n",
       " 'JobId': 'ce737e921120816d616c5a12c3b406b9687a62570025b387c25ee4f16678b706',\n",
       " 'Video': {'S3Object': {'Bucket': 'sagemaker-us-east-1-265313908802',\n",
       "   'Name': 'media/mi6Trailer.mp4'}},\n",
       " 'ResponseMetadata': {'RequestId': '1f328754-3864-4ce4-ac35-a013c8348035',\n",
       "  'HTTPStatusCode': 200,\n",
       "  'HTTPHeaders': {'x-amzn-requestid': '1f328754-3864-4ce4-ac35-a013c8348035',\n",
       "   'content-type': 'application/x-amz-json-1.1',\n",
       "   'content-length': '36686',\n",
       "   'date': 'Fri, 16 May 2025 15:20:12 GMT'},\n",
       "  'RetryAttempts': 0}}"
      ]
     },
     "metadata": {},
     "output_type": "display_data"
    }
   ],
   "source": [
    "display(getRecognitionCelebJob)"
   ]
  },
  {
   "cell_type": "markdown",
   "metadata": {
    "id": "dRh6O-tz31ue"
   },
   "source": [
    "#### 📋 Extract and Summarize Celebrity Appearances  \n",
    "We parse the detection results and format them in a readable structure showing the celebrity name and time range they appeared in.\n"
   ]
  },
  {
   "cell_type": "code",
   "execution_count": 13,
   "metadata": {
    "id": "6rsXPOp231ue",
    "outputId": "e984bee0-b597-4746-b7fc-7c4115fb737d"
   },
   "outputs": [
    {
     "name": "stdout",
     "output_type": "stream",
     "text": [
      "List of Celebrities Detected: \n",
      "\n",
      "Name: Rebekah Graf\n",
      "Name: Esai Morales\n",
      "Name: Hayley Atwell\n",
      "Name: Simon Pegg\n",
      "Name: Ving Rhames\n",
      "Name: Vanessa Kirby\n",
      "Name: Henry Czerny\n",
      "Name: Tom Cruise\n",
      "\n",
      "List Details:\n",
      "Celebrity found at time 0 ms: Rebekah Graf (Confidence: 99.88)\n",
      "Celebrity found at time 499 ms: Rebekah Graf (Confidence: 99.97)\n",
      "Celebrity found at time 2499 ms: Esai Morales (Confidence: 99.98)\n",
      "Celebrity found at time 2999 ms: Esai Morales (Confidence: 100.0)\n",
      "Celebrity found at time 3499 ms: Esai Morales (Confidence: 100.0)\n",
      "Celebrity found at time 3998 ms: Hayley Atwell (Confidence: 99.99)\n",
      "Celebrity found at time 4498 ms: Hayley Atwell (Confidence: 99.96)\n",
      "Celebrity found at time 7997 ms: Simon Pegg (Confidence: 99.91)\n",
      "Celebrity found at time 8497 ms: Simon Pegg (Confidence: 99.95)\n",
      "Celebrity found at time 8997 ms: Ving Rhames (Confidence: 99.99)\n",
      "Celebrity found at time 9497 ms: Rebekah Graf (Confidence: 99.88)\n",
      "Celebrity found at time 14496 ms: Vanessa Kirby (Confidence: 100.0)\n",
      "Celebrity found at time 14996 ms: Vanessa Kirby (Confidence: 100.0)\n",
      "Celebrity found at time 15495 ms: Vanessa Kirby (Confidence: 100.0)\n",
      "Celebrity found at time 15995 ms: Henry Czerny (Confidence: 99.88)\n",
      "Celebrity found at time 16495 ms: Henry Czerny (Confidence: 99.74)\n",
      "Celebrity found at time 16995 ms: Henry Czerny (Confidence: 99.85)\n",
      "Celebrity found at time 17495 ms: Henry Czerny (Confidence: 99.86)\n",
      "Celebrity found at time 17995 ms: Henry Czerny (Confidence: 99.82)\n",
      "Celebrity found at time 18495 ms: Henry Czerny (Confidence: 99.78)\n",
      "Celebrity found at time 18560 ms: Tom Cruise (Confidence: 99.93)\n",
      "Celebrity found at time 18994 ms: Tom Cruise (Confidence: 99.93)\n",
      "Celebrity found at time 19060 ms: Tom Cruise (Confidence: 99.94)\n",
      "Celebrity found at time 19494 ms: Tom Cruise (Confidence: 99.91)\n",
      "Celebrity found at time 19559 ms: Tom Cruise (Confidence: 99.91)\n",
      "Celebrity found at time 19994 ms: Tom Cruise (Confidence: 99.9)\n",
      "Celebrity found at time 20059 ms: Tom Cruise (Confidence: 99.91)\n",
      "Celebrity found at time 20559 ms: Tom Cruise (Confidence: 99.94)\n",
      "Celebrity found at time 21059 ms: Tom Cruise (Confidence: 99.96)\n",
      "Celebrity found at time 21559 ms: Tom Cruise (Confidence: 99.94)\n",
      "Celebrity found at time 22059 ms: Tom Cruise (Confidence: 99.9)\n",
      "Celebrity found at time 22559 ms: Tom Cruise (Confidence: 99.86)\n",
      "Celebrity found at time 26058 ms: Rebekah Graf (Confidence: 99.08)\n",
      "Celebrity found at time 26558 ms: Rebekah Graf (Confidence: 99.46)\n",
      "Celebrity found at time 28557 ms: Henry Czerny (Confidence: 99.88)\n",
      "Celebrity found at time 29057 ms: Tom Cruise (Confidence: 99.97)\n",
      "Celebrity found at time 31056 ms: Tom Cruise (Confidence: 98.38)\n",
      "\n"
     ]
    }
   ],
   "source": [
    "celebs = {}\n",
    "listHeader = \"List of Celebrities Detected: \\n\"\n",
    "videoDetails =\"\"\n",
    "celebsString = \"\"\n",
    "\n",
    "# All detected celebrities per frame\n",
    "for celebrity in getRecognitionCelebJob[\"Celebrities\"]:\n",
    "    if \"Celebrity\" in celebrity:\n",
    "        confidence = celebrity[\"Celebrity\"][\"Confidence\"]\n",
    "        if confidence > 95: #Confidence threshold\n",
    "            timeStamp = celebrity[\"Timestamp\"]\n",
    "            celebName = celebrity[\"Celebrity\"][\"Name\"]\n",
    "            videoDetails = videoDetails + \"Celebrity found at time {} ms: {} (Confidence: {})\\n\".format(timeStamp, celebName, round(confidence, 2))\n",
    "            if not celebName in celebs:\n",
    "                celebs[celebName] = celebName\n",
    "\n",
    "\n",
    "# Keep only unique faces found in the clip\n",
    "for celeb in celebs:\n",
    "    celebsString = celebsString + \"Name: {}\\n\".format(celeb)\n",
    "\n",
    "# Print the results\n",
    "print(listHeader)\n",
    "print(celebsString)\n",
    "print (\"List Details:\")\n",
    "print(videoDetails)\n"
   ]
  },
  {
   "cell_type": "markdown",
   "metadata": {
    "id": "Qkf3ODkq31ue"
   },
   "source": [
    "### 🧍 Let's Display a Local User Image \n",
    "This image will be used to test the celebrity recognition API on a locally available image of me.\n",
    "Then we run Rekognition on my image to detect if any known celebrities are identified.\n",
    "\n"
   ]
  },
  {
   "cell_type": "code",
   "execution_count": 14,
   "metadata": {
    "id": "X3zhFvGx31uf",
    "outputId": "74a6f6a9-bea7-44dd-faf4-776b42d00ecc"
   },
   "outputs": [
    {
     "data": {
      "text/html": [
       "<img src=\"" width=\"350\" height=\"150\"/>"
      ],
      "text/plain": [
       "<IPython.core.display.Image object>"
      ]
     },
     "metadata": {},
     "output_type": "display_data"
    }
   ],
   "source": [
    "meCelebrityPicture = \"media/myPicture.png\" #myPicture\n",
    "display(IImage(url=s3.generate_presigned_url(\"get_object\", Params={\"Bucket\": bucket, \"Key\": meCelebrityPicture}),width=350, height=150))"
   ]
  },
  {
   "cell_type": "code",
   "execution_count": 15,
   "metadata": {
    "id": "DCCVxRTf31uf",
    "outputId": "fcb60ee8-a73e-4c8c-c267-6fc235852567"
   },
   "outputs": [
    {
     "data": {
      "text/plain": [
       "{'CelebrityFaces': [{'Urls': ['www.wikidata.org/wiki/Q4666105'],\n",
       "   'Name': 'Abdullah bin Nasser bin Khalifa Al Thani',\n",
       "   'Id': 'Dp1iV6A',\n",
       "   'Face': {'BoundingBox': {'Width': 0.1814693659543991,\n",
       "     'Height': 0.3975597321987152,\n",
       "     'Left': 0.5763143301010132,\n",
       "     'Top': 0.3676845133304596},\n",
       "    'Confidence': 99.99982452392578,\n",
       "    'Landmarks': [{'Type': 'mouthLeft',\n",
       "      'X': 0.6376269459724426,\n",
       "      'Y': 0.6680607795715332},\n",
       "     {'Type': 'eyeRight', 'X': 0.6893383264541626, 'Y': 0.49584636092185974},\n",
       "     {'Type': 'mouthRight', 'X': 0.700444221496582, 'Y': 0.6449804306030273},\n",
       "     {'Type': 'nose', 'X': 0.6524962186813354, 'Y': 0.5925363302230835},\n",
       "     {'Type': 'eyeLeft', 'X': 0.6142799258232117, 'Y': 0.5238797068595886}],\n",
       "    'Pose': {'Roll': -12.705315589904785,\n",
       "     'Yaw': -8.424924850463867,\n",
       "     'Pitch': 0.5312657356262207},\n",
       "    'Quality': {'Brightness': 67.25019073486328,\n",
       "     'Sharpness': 98.08562469482422},\n",
       "    'Emotions': [{'Type': 'CALM', 'Confidence': 100.0},\n",
       "     {'Type': 'CONFUSED', 'Confidence': 0.014394521713256836},\n",
       "     {'Type': 'SURPRISED', 'Confidence': 0.010035932064056396},\n",
       "     {'Type': 'HAPPY', 'Confidence': 0.006031990051269531},\n",
       "     {'Type': 'SAD', 'Confidence': 0.0026702880859375},\n",
       "     {'Type': 'ANGRY', 'Confidence': 0.0016987323760986328},\n",
       "     {'Type': 'DISGUSTED', 'Confidence': 0.00022649765014648438},\n",
       "     {'Type': 'FEAR', 'Confidence': 0.00017583370208740234}],\n",
       "    'Smile': {'Value': False, 'Confidence': 99.41227722167969}},\n",
       "   'MatchConfidence': 85.90313720703125,\n",
       "   'KnownGender': {'Type': 'Male'}}],\n",
       " 'UnrecognizedFaces': [],\n",
       " 'ResponseMetadata': {'RequestId': '1dd3d53f-83ad-4ed0-9766-ee1b5f52cf23',\n",
       "  'HTTPStatusCode': 200,\n",
       "  'HTTPHeaders': {'x-amzn-requestid': '1dd3d53f-83ad-4ed0-9766-ee1b5f52cf23',\n",
       "   'content-type': 'application/x-amz-json-1.1',\n",
       "   'content-length': '1352',\n",
       "   'date': 'Fri, 16 May 2025 15:30:25 GMT'},\n",
       "  'RetryAttempts': 0}}"
      ]
     },
     "metadata": {},
     "output_type": "display_data"
    }
   ],
   "source": [
    "# Call Amazon Rekognition to recognize my picture\n",
    "recognizedCelebsResponse = rekognition.recognize_celebrities(\n",
    "    Image={\n",
    "        \"S3Object\": {\n",
    "            \"Bucket\": bucket,\n",
    "            \"Name\": meCelebrityPicture,\n",
    "        }\n",
    "    }\n",
    ")\n",
    "display(recognizedCelebsResponse)"
   ]
  },
  {
   "cell_type": "markdown",
   "metadata": {
    "id": "pR6bok3T31ug"
   },
   "source": [
    "#### 🚫 Draw Bounding Boxes on Unrecognized Faces  \n",
    "Highlight faces found in the image that weren’t matched with any known celebrity."
   ]
  },
  {
   "cell_type": "code",
   "execution_count": 17,
   "metadata": {
    "id": "jHEenmyl31uh",
    "outputId": "0c1b34f6-f4cc-493c-b6b4-d118526b60fd"
   },
   "outputs": [
    {
     "data": {
      "text/html": [
       "<img src=\"" width=\"350\" height=\"150\"/>"
      ],
      "text/plain": [
       "<IPython.core.display.Image object>"
      ]
     },
     "metadata": {},
     "output_type": "display_data"
    }
   ],
   "source": [
    "facesBoundingBoxes = [] #\n",
    "facesList = recognizedCelebsResponse[\"UnrecognizedFaces\"]\n",
    "if facesList:\n",
    "    for face in facesList:\n",
    "        facesBoundingBoxes.append((\"Unrecognized Persons\", face[\"BoundingBox\"]))\n",
    "        drwBoundingBoxes(meCelebrityPicture, facesBoundingBoxes)\n",
    "else:\n",
    "    display(IImage(url=s3.generate_presigned_url(\"get_object\", Params={\"Bucket\": bucket, \"Key\": meCelebrityPicture}),width=350, height=150))"
   ]
  },
  {
   "cell_type": "markdown",
   "metadata": {
    "id": "xjHK7TgN31uh"
   },
   "source": [
    "### 🚨🚨🚨 End of Part 1 🚨🚨🚨\n",
    "### 🚨🚨🚨 WARNING: Don't Forget to Release Resources 🚨🚨🚨\n",
    "\n"
   ]
  },
  {
   "cell_type": "markdown",
   "metadata": {
    "id": "z3W49xBRXnsE"
   },
   "source": [
    "#  Part 2: Content Moderation\n",
    "\n",
    "\n"
   ]
  },
  {
   "cell_type": "markdown",
   "metadata": {
    "id": "DtF018rqX4NG"
   },
   "source": [
    "### 🖼️ Display Image for Content Moderation  \n",
    "We display another image from the S3 bucket, this time for content moderation tasks (i.e., detecting unsafe or explicit content).\n"
   ]
  },
  {
   "cell_type": "code",
   "execution_count": 16,
   "metadata": {
    "id": "mEsOlGdPX0hT",
    "outputId": "dd2bc29d-28f0-43c1-d921-efcc93d88431"
   },
   "outputs": [
    {
     "data": {
      "text/html": [
       "<img src=\"" width=\"700\" height=\"500\"/>"
      ],
      "text/plain": [
       "<IPython.core.display.Image object>"
      ]
     },
     "metadata": {},
     "output_type": "display_data"
    }
   ],
   "source": [
    "imageFileName = \"media/mi6arms.jpg\"\n",
    "display(IImage(url=s3.generate_presigned_url(\"get_object\", Params={\"Bucket\": bucket, \"Key\": imageFileName}), width=700, height=500))"
   ]
  },
  {
   "cell_type": "markdown",
   "metadata": {
    "id": "-GDSRrXgX-Fg"
   },
   "source": [
    "### 🚨 Detect Moderation Labels (Image)  \n",
    "Call Rekognition's moderation API `detect_moderation_labels` to identify unsafe content (nudity, violence, etc.) in the selected image.\n",
    "\n",
    "#### To Print Moderation Results:  \n",
    "We iterate through moderation labels to display detected content categories and their confidence scores.\n",
    "\n"
   ]
  },
  {
   "cell_type": "code",
   "execution_count": 17,
   "metadata": {
    "id": "ub-Jg0IsYAUW",
    "outputId": "f9055b85-1a9b-40e7-e045-becd4b4d72ad"
   },
   "outputs": [
    {
     "data": {
      "text/plain": [
       "{'ModerationLabels': [{'Confidence': 99.49430084228516,\n",
       "   'Name': 'Weapons',\n",
       "   'ParentName': 'Violence',\n",
       "   'TaxonomyLevel': 2},\n",
       "  {'Confidence': 99.49430084228516,\n",
       "   'Name': 'Violence',\n",
       "   'ParentName': '',\n",
       "   'TaxonomyLevel': 1},\n",
       "  {'Confidence': 77.40859985351562,\n",
       "   'Name': 'Weapon Violence',\n",
       "   'ParentName': 'Graphic Violence',\n",
       "   'TaxonomyLevel': 3},\n",
       "  {'Confidence': 77.40859985351562,\n",
       "   'Name': 'Graphic Violence',\n",
       "   'ParentName': 'Violence',\n",
       "   'TaxonomyLevel': 2}],\n",
       " 'ModerationModelVersion': '7.0',\n",
       " 'ContentTypes': [],\n",
       " 'ResponseMetadata': {'RequestId': '91c94675-53c0-4733-aafd-7bf6d6013c2b',\n",
       "  'HTTPStatusCode': 200,\n",
       "  'HTTPHeaders': {'x-amzn-requestid': '91c94675-53c0-4733-aafd-7bf6d6013c2b',\n",
       "   'content-type': 'application/x-amz-json-1.1',\n",
       "   'content-length': '457',\n",
       "   'date': 'Fri, 16 May 2025 14:32:20 GMT'},\n",
       "  'RetryAttempts': 0}}"
      ]
     },
     "metadata": {},
     "output_type": "display_data"
    }
   ],
   "source": [
    "detectedLabelsResponse = rekognition.detect_moderation_labels(\n",
    "    Image={\n",
    "        \"S3Object\": {\n",
    "            \"Bucket\": bucket,\n",
    "            \"Name\": imageFileName,\n",
    "        }\n",
    "    }\n",
    ")\n",
    "display(detectedLabelsResponse)"
   ]
  },
  {
   "cell_type": "code",
   "execution_count": 19,
   "metadata": {
    "id": "YqhjjvbTYVrv",
    "outputId": "9e598bf3-a4ff-447f-f16a-ae13956f8986"
   },
   "outputs": [
    {
     "name": "stdout",
     "output_type": "stream",
     "text": [
      "- Label Detected: Weapons (Confidence: 99.49430084228516)\n",
      "  - Parent Label: Violence\n",
      "- Label Detected: Violence (Confidence: 99.49430084228516)\n",
      "  - Parent Label: \n",
      "- Label Detected: Weapon Violence (Confidence: 77.40859985351562)\n",
      "  - Parent Label: Graphic Violence\n",
      "- Label Detected: Graphic Violence (Confidence: 77.40859985351562)\n",
      "  - Parent Label: Violence\n"
     ]
    }
   ],
   "source": [
    "\n",
    "for detectedLabel in detectedLabelsResponse[\"ModerationLabels\"]:\n",
    "    print(\"- Label Detected: {} (Confidence: {})\".format(detectedLabel[\"Name\"], detectedLabel[\"Confidence\"]))\n",
    "    print(\"  - Parent Label: {}\".format(detectedLabel[\"ParentName\"]))"
   ]
  },
  {
   "cell_type": "markdown",
   "metadata": {
    "id": "-cfRGK7PYX7J"
   },
   "source": [
    "# Let's use Amazon Rekognition for Content Moderation in Video 📹\n",
    "\n",
    "#### First We Display Video 🎥 Contents for Moderation\n",
    "Display a trailer or video clip from S3 that will be used for content moderation analysis in the following steps."
   ]
  },
  {
   "cell_type": "code",
   "execution_count": 20,
   "metadata": {
    "id": "BoImhxo4Ylbm",
    "outputId": "d497a54a-6416-4cab-b7d2-d0ad0f3511df"
   },
   "outputs": [
    {
     "data": {
      "text/html": [
       "<video controls='controls' autoplay width='640' height='360' name='Video' src=''></video>"
      ],
      "text/plain": [
       "<IPython.core.display.HTML object>"
      ]
     },
     "metadata": {},
     "output_type": "display_data"
    }
   ],
   "source": [
    "videoFileName = \"media/mi6Trailer.mp4\"\n",
    "\n",
    "videoS3URL = s3.generate_presigned_url(\"get_object\", Params={\"Bucket\": bucket, \"Key\": videoFileName})\n",
    "videoHTML = \"<video controls='controls' autoplay width='640' height='360' name='Video' src='{0}'></video>\".format(videoS3URL)\n",
    "display(HTML(videoHTML))"
   ]
  },
  {
   "cell_type": "markdown",
   "metadata": {
    "id": "EhoaC5jfYoFT"
   },
   "source": [
    "#### Start Moderation Job (Video)  \n",
    "Send the selected video for moderation via Rekognition's video API `start_content_moderation` and retrieve the job ID for later polling.\n",
    "\n"
   ]
  },
  {
   "cell_type": "code",
   "execution_count": 21,
   "metadata": {
    "id": "9EF_M-DyYrIp",
    "outputId": "45619ae7-e5a8-448b-ad9d-4bf0e375ba0a"
   },
   "outputs": [
    {
     "name": "stdout",
     "output_type": "stream",
     "text": [
      "AWS Rekognition Job Id: 62a5dda1aefdd8ea5319ba9fd0fcc6b6226cc729db46a9ff48f6c497ac87339e\n"
     ]
    }
   ],
   "source": [
    "# Start content moderation job\n",
    "modVideoLabelDetectionJob = rekognition.start_content_moderation(\n",
    "    Video={\n",
    "        \"S3Object\": {\n",
    "            \"Bucket\": bucket,\n",
    "            \"Name\": videoFileName,\n",
    "        }\n",
    "    },\n",
    "    MinConfidence=50.0\n",
    ")\n",
    "\n",
    "modVideoJobId = modVideoLabelDetectionJob[\"JobId\"]\n",
    "print(\"AWS Rekognition Job Id: {0}\".format(modVideoJobId))\n"
   ]
  },
  {
   "cell_type": "markdown",
   "metadata": {
    "id": "m15ZaLWmYyDs"
   },
   "source": [
    "### ⏱️ Poll Moderation Job Status  \n",
    "Wait and check periodically until the video moderation job is completed.\n"
   ]
  },
  {
   "cell_type": "code",
   "execution_count": 22,
   "metadata": {
    "id": "D4NIUnofYulm",
    "outputId": "d211d0b3-2207-4250-8fcb-cbb4c72537ca"
   },
   "outputs": [
    {
     "name": "stdout",
     "output_type": "stream",
     "text": [
      "****************************"
     ]
    },
    {
     "ename": "KeyboardInterrupt",
     "evalue": "",
     "output_type": "error",
     "traceback": [
      "\u001b[0;31m---------------------------------------------------------------------------\u001b[0m",
      "\u001b[0;31mKeyboardInterrupt\u001b[0m                         Traceback (most recent call last)",
      "File \u001b[0;32m<timed exec>:4\u001b[0m\n",
      "\u001b[0;31mKeyboardInterrupt\u001b[0m: "
     ]
    }
   ],
   "source": [
    "%%time\n",
    "\n",
    "getModLabelId = rekognition.get_content_moderation(JobId=modVideoJobId, SortBy=\"TIMESTAMP\")\n",
    "\n",
    "while getModLabelId[\"JobStatus\"] == \"IN_PROGRESS\":\n",
    "    time.sleep(5)\n",
    "    print(\"*\", end=\"\")\n",
    "    getModLabelId = rekognition.get_content_moderation(JobId=modVideoJobId, SortBy=\"TIMESTAMP\")\n",
    "print(\"Detecting Moderation Labels in Video: \"+ getModLabelId[\"JobStatus\"])"
   ]
  },
  {
   "cell_type": "markdown",
   "metadata": {
    "id": "gh4yiJc-Y2rI"
   },
   "source": [
    "### 📤 Display Moderation Results  \n",
    "Print out the full moderation results from the video for inspection.\n"
   ]
  },
  {
   "cell_type": "code",
   "execution_count": 23,
   "metadata": {
    "id": "NjQ1BnPfY5gD",
    "outputId": "cd6e82e0-83e6-459d-f210-59655a1c8ea0"
   },
   "outputs": [
    {
     "data": {
      "text/plain": [
       "{'JobStatus': 'IN_PROGRESS',\n",
       " 'ModerationLabels': [],\n",
       " 'ModerationModelVersion': '7.0',\n",
       " 'JobId': '62a5dda1aefdd8ea5319ba9fd0fcc6b6226cc729db46a9ff48f6c497ac87339e',\n",
       " 'Video': {'S3Object': {'Bucket': 'sagemaker-us-east-1-265313908802',\n",
       "   'Name': 'media/mi6Trailer.mp4'}},\n",
       " 'GetRequestMetadata': {'SortBy': 'TIMESTAMP', 'AggregateBy': 'TIMESTAMPS'},\n",
       " 'ResponseMetadata': {'RequestId': 'c5645674-0842-45fc-b49c-cae5f4699d1f',\n",
       "  'HTTPStatusCode': 200,\n",
       "  'HTTPHeaders': {'x-amzn-requestid': 'c5645674-0842-45fc-b49c-cae5f4699d1f',\n",
       "   'content-type': 'application/x-amz-json-1.1',\n",
       "   'content-length': '323',\n",
       "   'date': 'Fri, 16 May 2025 14:36:52 GMT'},\n",
       "  'RetryAttempts': 0}}"
      ]
     },
     "metadata": {},
     "output_type": "display_data"
    }
   ],
   "source": [
    "display(getModLabelId)"
   ]
  },
  {
   "cell_type": "markdown",
   "metadata": {
    "id": "iDe557SYZFEK"
   },
   "source": [
    "### 📑 Summarize Unsafe Labels from Video  \n",
    "Extract moderation labels (e.g., nudity, drugs, violence) with timestamps to understand where unsafe content appears in the video.\n"
   ]
  },
  {
   "cell_type": "code",
   "execution_count": 24,
   "metadata": {
    "id": "XbFhHCsBZHMA",
    "outputId": "aa9f2bc2-d7e1-411c-a9b1-d2e59feacd30"
   },
   "outputs": [
    {
     "name": "stdout",
     "output_type": "stream",
     "text": [
      "List of Moderation Labels Detected:\n",
      "\n",
      "\n",
      "Count of Labels Detected:\n",
      "\n",
      "\n"
     ]
    }
   ],
   "source": [
    "labelsObjectDict = {}\n",
    "videoDetails =\"\"\n",
    "labelsString = \"\"\n",
    "\n",
    "for modLabel in getModLabelId[\"ModerationLabels\"]: #change\n",
    "    timeStamp = modLabel[\"Timestamp\"] #change\n",
    "    confidence = modLabel[\"ModerationLabel\"][\"Confidence\"]\n",
    "    labelName = modLabel[\"ModerationLabel\"][\"Name\"]\n",
    "    videoDetails = videoDetails + \"Moderation Label Detected at time {} ms: {} (Confidence: {})\\n\".format(timeStamp, labelName, round(confidence, 2))\n",
    "    if labelName in labelsObjectDict:\n",
    "        labelFound = labelsObjectDict[labelName]\n",
    "        labelsObjectDict[labelName] = {\"Name\": labelName, \"Count\": 1 + labelFound[\"Count\"]}\n",
    "    else:\n",
    "        labelsObjectDict[labelName] = {\"Name\": labelName, \"Count\": 1}\n",
    "\n",
    "# Similar to unique faces in detecting celebrities, we need unique moderation objects\n",
    "for label in labelsObjectDict: #change\n",
    "    labelsString = labelsString + \"Name: {}, Count: {}\\n\".format(label, labelsObjectDict[label][\"Count\"])\n",
    "\n",
    "print(\"List of Moderation Labels Detected:\\n\")\n",
    "print(videoDetails)\n",
    "print(\"Count of Labels Detected:\\n\")\n",
    "print(labelsString)"
   ]
  },
  {
   "cell_type": "markdown",
   "metadata": {
    "id": "G_xggLJ7XxO_"
   },
   "source": [
    "### 🚨🚨🚨  End of Part 2 🚨🚨🚨\n",
    "### 🚨🚨🚨 WARNING: Don't Forget to Release Resources 🚨🚨🚨\n",
    "\n",
    "\n"
   ]
  },
  {
   "cell_type": "markdown",
   "metadata": {
    "id": "LLjRQ4rDZbX4"
   },
   "source": [
    "# Part 3 :  Text detection\n",
    "\n",
    "\n",
    "\n"
   ]
  },
  {
   "cell_type": "markdown",
   "metadata": {
    "id": "2ST2u-zO22JS"
   },
   "source": [
    "### 🖼️ Display Poster Image for Text Detection  \n",
    "Display an image containing textual content, such as posters or flyers, to be used in text detection tasks.\n"
   ]
  },
  {
   "cell_type": "code",
   "execution_count": 25,
   "metadata": {
    "id": "v3jrf7M53Xa5",
    "outputId": "29dbdb3d-edb3-4898-dd4c-9b46b79564e2"
   },
   "outputs": [
    {
     "data": {
      "text/html": [
       "<img src=\"" width=\"350\" height=\"250\"/>"
      ],
      "text/plain": [
       "<IPython.core.display.Image object>"
      ]
     },
     "metadata": {},
     "output_type": "display_data"
    }
   ],
   "source": [
    "imageFileName = \"media/mi6poster.jpg\"\n",
    "display(IImage(url=s3.generate_presigned_url(\"get_object\", Params={\"Bucket\": bucket, \"Key\": imageFileName}), width=350, height=250))\n"
   ]
  },
  {
   "cell_type": "markdown",
   "metadata": {
    "id": "du4UlY6ekwcN"
   },
   "source": [
    "### 🔍 Detect Text in Image  \n",
    "Use Rekognition API `detect_text` to detect printed or handwritten text in the image. The JSON response includes word positions and types.\n"
   ]
  },
  {
   "cell_type": "code",
   "execution_count": 26,
   "metadata": {
    "id": "ZJEhg-Es41qe",
    "outputId": "7db0f435-8c7f-4ff9-8a85-26e764b47d9b"
   },
   "outputs": [
    {
     "data": {
      "text/plain": [
       "{'TextDetections': [{'DetectedText': 'TOM CRUISE',\n",
       "   'Type': 'LINE',\n",
       "   'Id': 0,\n",
       "   'Confidence': 97.8184814453125,\n",
       "   'Geometry': {'BoundingBox': {'Width': 0.255859375,\n",
       "     'Height': 0.0338226743042469,\n",
       "     'Left': 0.365234375,\n",
       "     'Top': 0.029269622638821602},\n",
       "    'Polygon': [{'X': 0.365234375, 'Y': 0.029269622638821602},\n",
       "     {'X': 0.62109375, 'Y': 0.029269622638821602},\n",
       "     {'X': 0.62109375, 'Y': 0.06309229880571365},\n",
       "     {'X': 0.365234375, 'Y': 0.06309229880571365}]}},\n",
       "  {'DetectedText': 'MISSION: IMPOSSIBLE',\n",
       "   'Type': 'LINE',\n",
       "   'Id': 1,\n",
       "   'Confidence': 100.0,\n",
       "   'Geometry': {'BoundingBox': {'Width': 0.783203125,\n",
       "     'Height': 0.065043605864048,\n",
       "     'Left': 0.1064453125,\n",
       "     'Top': 0.0715479627251625},\n",
       "    'Polygon': [{'X': 0.1064453125, 'Y': 0.0715479627251625},\n",
       "     {'X': 0.8896484375, 'Y': 0.0715479627251625},\n",
       "     {'X': 0.8896484375, 'Y': 0.1365915685892105},\n",
       "     {'X': 0.1064453125, 'Y': 0.1365915685892105}]}},\n",
       "  {'DetectedText': 'FALLOUT',\n",
       "   'Type': 'LINE',\n",
       "   'Id': 2,\n",
       "   'Confidence': 99.77532958984375,\n",
       "   'Geometry': {'BoundingBox': {'Width': 0.50390625,\n",
       "     'Height': 0.055937498807907104,\n",
       "     'Left': 0.2392578125,\n",
       "     'Top': 0.14374636113643646},\n",
       "    'Polygon': [{'X': 0.2392578125, 'Y': 0.14374636113643646},\n",
       "     {'X': 0.7431640625, 'Y': 0.14374636113643646},\n",
       "     {'X': 0.7431640625, 'Y': 0.19968385994434357},\n",
       "     {'X': 0.2392578125, 'Y': 0.19968385994434357}]}},\n",
       "  {'DetectedText': 'IN THEATRES',\n",
       "   'Type': 'LINE',\n",
       "   'Id': 3,\n",
       "   'Confidence': 99.86790466308594,\n",
       "   'Geometry': {'BoundingBox': {'Width': 0.1845703125,\n",
       "     'Height': 0.0175617728382349,\n",
       "     'Left': 0.7978515625,\n",
       "     'Top': 0.5671802163124084},\n",
       "    'Polygon': [{'X': 0.7978515625, 'Y': 0.5671802163124084},\n",
       "     {'X': 0.982421875, 'Y': 0.5671802163124084},\n",
       "     {'X': 0.982421875, 'Y': 0.58474200963974},\n",
       "     {'X': 0.7978515625, 'Y': 0.58474200963974}]}},\n",
       "  {'DetectedText': 'JULY 27',\n",
       "   'Type': 'LINE',\n",
       "   'Id': 4,\n",
       "   'Confidence': 99.99818420410156,\n",
       "   'Geometry': {'BoundingBox': {'Width': 0.1884765625,\n",
       "     'Height': 0.047481831163167953,\n",
       "     'Left': 0.7890625,\n",
       "     'Top': 0.5964498519897461},\n",
       "    'Polygon': [{'X': 0.7890625, 'Y': 0.5964498519897461},\n",
       "     {'X': 0.9775390625, 'Y': 0.5964498519897461},\n",
       "     {'X': 0.9775390625, 'Y': 0.6439316868782043},\n",
       "     {'X': 0.7890625, 'Y': 0.6439316868782043}]}},\n",
       "  {'DetectedText': 'TOM',\n",
       "   'Type': 'WORD',\n",
       "   'Id': 5,\n",
       "   'ParentId': 0,\n",
       "   'Confidence': 95.636962890625,\n",
       "   'Geometry': {'BoundingBox': {'Width': 0.083984375,\n",
       "     'Height': 0.0338226743042469,\n",
       "     'Left': 0.365234375,\n",
       "     'Top': 0.029269622638821602},\n",
       "    'Polygon': [{'X': 0.365234375, 'Y': 0.029269622638821602},\n",
       "     {'X': 0.44921875, 'Y': 0.029269622638821602},\n",
       "     {'X': 0.44921875, 'Y': 0.06309229880571365},\n",
       "     {'X': 0.365234375, 'Y': 0.06309229880571365}]}},\n",
       "  {'DetectedText': 'CRUISE',\n",
       "   'Type': 'WORD',\n",
       "   'Id': 6,\n",
       "   'ParentId': 0,\n",
       "   'Confidence': 100.0,\n",
       "   'Geometry': {'BoundingBox': {'Width': 0.15234375,\n",
       "     'Height': 0.032521802932024,\n",
       "     'Left': 0.46875,\n",
       "     'Top': 0.029920058324933052},\n",
       "    'Polygon': [{'X': 0.46875, 'Y': 0.029920058324933052},\n",
       "     {'X': 0.62109375, 'Y': 0.029920058324933052},\n",
       "     {'X': 0.62109375, 'Y': 0.062441859394311905},\n",
       "     {'X': 0.46875, 'Y': 0.062441859394311905}]}},\n",
       "  {'DetectedText': 'MISSION:',\n",
       "   'Type': 'WORD',\n",
       "   'Id': 7,\n",
       "   'ParentId': 1,\n",
       "   'Confidence': 100.0,\n",
       "   'Geometry': {'BoundingBox': {'Width': 0.322265625,\n",
       "     'Height': 0.065043605864048,\n",
       "     'Left': 0.1064453125,\n",
       "     'Top': 0.0715479627251625},\n",
       "    'Polygon': [{'X': 0.1064453125, 'Y': 0.0715479627251625},\n",
       "     {'X': 0.4287109375, 'Y': 0.0715479627251625},\n",
       "     {'X': 0.4287109375, 'Y': 0.1365915685892105},\n",
       "     {'X': 0.1064453125, 'Y': 0.1365915685892105}]}},\n",
       "  {'DetectedText': 'IMPOSSIBLE',\n",
       "   'Type': 'WORD',\n",
       "   'Id': 8,\n",
       "   'ParentId': 1,\n",
       "   'Confidence': 100.0,\n",
       "   'Geometry': {'BoundingBox': {'Width': 0.4296875,\n",
       "     'Height': 0.065043605864048,\n",
       "     'Left': 0.4599609375,\n",
       "     'Top': 0.0715479627251625},\n",
       "    'Polygon': [{'X': 0.4599609375, 'Y': 0.0715479627251625},\n",
       "     {'X': 0.8896484375, 'Y': 0.0715479627251625},\n",
       "     {'X': 0.8896484375, 'Y': 0.1365915685892105},\n",
       "     {'X': 0.4599609375, 'Y': 0.1365915685892105}]}},\n",
       "  {'DetectedText': 'FALLOUT',\n",
       "   'Type': 'WORD',\n",
       "   'Id': 9,\n",
       "   'ParentId': 2,\n",
       "   'Confidence': 99.77532958984375,\n",
       "   'Geometry': {'BoundingBox': {'Width': 0.50390625,\n",
       "     'Height': 0.055937498807907104,\n",
       "     'Left': 0.2392578125,\n",
       "     'Top': 0.14374636113643646},\n",
       "    'Polygon': [{'X': 0.2392578125, 'Y': 0.14374636113643646},\n",
       "     {'X': 0.7431640625, 'Y': 0.14374636113643646},\n",
       "     {'X': 0.7431640625, 'Y': 0.19968385994434357},\n",
       "     {'X': 0.2392578125, 'Y': 0.19968385994434357}]}},\n",
       "  {'DetectedText': 'IN',\n",
       "   'Type': 'WORD',\n",
       "   'Id': 10,\n",
       "   'ParentId': 3,\n",
       "   'Confidence': 99.80431365966797,\n",
       "   'Geometry': {'BoundingBox': {'Width': 0.0263671875,\n",
       "     'Height': 0.0175617728382349,\n",
       "     'Left': 0.7978515625,\n",
       "     'Top': 0.5671802163124084},\n",
       "    'Polygon': [{'X': 0.7978515625, 'Y': 0.5671802163124084},\n",
       "     {'X': 0.82421875, 'Y': 0.5671802163124084},\n",
       "     {'X': 0.82421875, 'Y': 0.58474200963974},\n",
       "     {'X': 0.7978515625, 'Y': 0.58474200963974}]}},\n",
       "  {'DetectedText': 'THEATRES',\n",
       "   'Type': 'WORD',\n",
       "   'Id': 11,\n",
       "   'ParentId': 3,\n",
       "   'Confidence': 99.9314956665039,\n",
       "   'Geometry': {'BoundingBox': {'Width': 0.1455078125,\n",
       "     'Height': 0.0175617728382349,\n",
       "     'Left': 0.8369140625,\n",
       "     'Top': 0.5671802163124084},\n",
       "    'Polygon': [{'X': 0.8369140625, 'Y': 0.5671802163124084},\n",
       "     {'X': 0.982421875, 'Y': 0.5671802163124084},\n",
       "     {'X': 0.982421875, 'Y': 0.58474200963974},\n",
       "     {'X': 0.8369140625, 'Y': 0.58474200963974}]}},\n",
       "  {'DetectedText': 'JULY',\n",
       "   'Type': 'WORD',\n",
       "   'Id': 12,\n",
       "   'ParentId': 4,\n",
       "   'Confidence': 100.0,\n",
       "   'Geometry': {'BoundingBox': {'Width': 0.1142578125,\n",
       "     'Height': 0.047481831163167953,\n",
       "     'Left': 0.7890625,\n",
       "     'Top': 0.5964498519897461},\n",
       "    'Polygon': [{'X': 0.7890625, 'Y': 0.5964498519897461},\n",
       "     {'X': 0.9033203125, 'Y': 0.5964498519897461},\n",
       "     {'X': 0.9033203125, 'Y': 0.6439316868782043},\n",
       "     {'X': 0.7890625, 'Y': 0.6439316868782043}]}},\n",
       "  {'DetectedText': '27',\n",
       "   'Type': 'WORD',\n",
       "   'Id': 13,\n",
       "   'ParentId': 4,\n",
       "   'Confidence': 99.99636840820312,\n",
       "   'Geometry': {'BoundingBox': {'Width': 0.0654296875,\n",
       "     'Height': 0.047481831163167953,\n",
       "     'Left': 0.912109375,\n",
       "     'Top': 0.5964498519897461},\n",
       "    'Polygon': [{'X': 0.912109375, 'Y': 0.5964498519897461},\n",
       "     {'X': 0.9775390625, 'Y': 0.5964498519897461},\n",
       "     {'X': 0.9775390625, 'Y': 0.6439316868782043},\n",
       "     {'X': 0.912109375, 'Y': 0.6439316868782043}]}}],\n",
       " 'TextModelVersion': '3.0',\n",
       " 'ResponseMetadata': {'RequestId': 'ef7a146d-7ac1-4cb4-8211-0ca476b34e88',\n",
       "  'HTTPStatusCode': 200,\n",
       "  'HTTPHeaders': {'x-amzn-requestid': 'ef7a146d-7ac1-4cb4-8211-0ca476b34e88',\n",
       "   'content-type': 'application/x-amz-json-1.1',\n",
       "   'content-length': '5411',\n",
       "   'date': 'Fri, 16 May 2025 14:36:55 GMT'},\n",
       "  'RetryAttempts': 0}}"
      ]
     },
     "metadata": {},
     "output_type": "display_data"
    }
   ],
   "source": [
    "detectedTxtResponse = rekognition.detect_text(\n",
    "    Image={\n",
    "        \"S3Object\": {\n",
    "            \"Bucket\": bucket,\n",
    "            \"Name\": imageFileName,\n",
    "        }\n",
    "    },\n",
    "    Filters={\"WordFilter\": {\"MinConfidence\": 90}}, #change to 80\n",
    ")\n",
    "#Review JSON reponse from AMazon Rekognition\n",
    "# Can you point out detected text, confidence score, and additional information.\n",
    "display(detectedTxtResponse)"
   ]
  },
  {
   "cell_type": "markdown",
   "metadata": {
    "id": "LFyqB5XZ4Qvb"
   },
   "source": [
    "### 📦 Draw Bounding Boxes on Detected Text  \n",
    "Use bounding boxes to visualize the detected words or lines directly on the image using the helper function `drwBoundingBoxes`.\n"
   ]
  },
  {
   "cell_type": "code",
   "execution_count": 27,
   "metadata": {
    "id": "-Ypsl_9Q4NJA",
    "outputId": "c281c164-fc89-4863-c2c2-3ef0b650a0a3"
   },
   "outputs": [
    {
     "data": {
      "image/jpeg": "",
      "image/png": "",
      "text/plain": [
       "<PIL.JpegImagePlugin.JpegImageFile image mode=RGB size=716x1075>"
      ]
     },
     "metadata": {},
     "output_type": "display_data"
    }
   ],
   "source": [
    "textBoxes = [] #change boxes\n",
    "txtsDetected = detectedTxtResponse[\"TextDetections\"]\n",
    "for txtDetected in txtsDetected:\n",
    "    textBoxes.append((txtDetected[\"Type\"], txtDetected[\"Geometry\"][\"BoundingBox\"]))\n",
    "drwBoundingBoxes(imageFileName, textBoxes)"
   ]
  },
  {
   "cell_type": "markdown",
   "metadata": {
    "id": "abOdSkd4lLCQ"
   },
   "source": [
    "### 📝 Highlight Specific Keywords  \n",
    "We search the detected text for specific keywords (e.g., \"Tom Cruise\") and print matching segments for content filtering or search applications.\n",
    "Your Turn: Write code to darw bounding boxes only on wanted words\n",
    "\n"
   ]
  },
  {
   "cell_type": "code",
   "execution_count": 28,
   "metadata": {
    "id": "BU5s9qD23yEr",
    "outputId": "71a54c92-4b16-4662-b871-d2d75fa73d8e"
   },
   "outputs": [
    {
     "name": "stdout",
     "output_type": "stream",
     "text": [
      "Target word found: TOM CRUISE\n",
      "Target word found: FALLOUT\n",
      "Target word found: TOM\n",
      "Target word found: FALLOUT\n"
     ]
    }
   ],
   "source": [
    "import string\n",
    "\n",
    "targetWordsList = [\"tom\", \"tom cruise\", \"fallout\"]\n",
    "\n",
    "for txtDetected in detectedTxtResponse[\"TextDetections\"]:\n",
    "    txt = txtDetected[\"DetectedText\"].translate(str.maketrans(\"\", \"\", string.punctuation))\n",
    "    if (txtDetected[\"Type\"] == \"WORD\" or txtDetected[\"Type\"] == \"LINE\")  and txt.lower() in targetWordsList:\n",
    "        print(\"Target word found: {}\".format(txtDetected[\"DetectedText\"]))"
   ]
  },
  {
   "cell_type": "markdown",
   "metadata": {
    "id": "37WkP_rc4bjo"
   },
   "source": [
    "### 📄 Re-run Text Detection with Filters\n",
    "Re-execute the Rekognition text detection API to verify and re-extract information from the image in certain rgions or with certain confidence ....\n"
   ]
  },
  {
   "cell_type": "code",
   "execution_count": 29,
   "metadata": {
    "id": "7Brz9qML4int",
    "outputId": "5e754672-da22-49d6-fa3f-a04d5f9dd108"
   },
   "outputs": [
    {
     "data": {
      "text/plain": [
       "{'TextDetections': [{'DetectedText': 'MISSION: IMPOSSIBLE',\n",
       "   'Type': 'LINE',\n",
       "   'Id': 0,\n",
       "   'Confidence': 100.0,\n",
       "   'Geometry': {'BoundingBox': {'Width': 0.783203125,\n",
       "     'Height': 0.065043605864048,\n",
       "     'Left': 0.1064453125,\n",
       "     'Top': 0.0715479627251625},\n",
       "    'Polygon': [{'X': 0.1064453125, 'Y': 0.0715479627251625},\n",
       "     {'X': 0.8896484375, 'Y': 0.0715479627251625},\n",
       "     {'X': 0.8896484375, 'Y': 0.1365915685892105},\n",
       "     {'X': 0.1064453125, 'Y': 0.1365915685892105}]}},\n",
       "  {'DetectedText': 'FALLOUT',\n",
       "   'Type': 'LINE',\n",
       "   'Id': 1,\n",
       "   'Confidence': 99.77532958984375,\n",
       "   'Geometry': {'BoundingBox': {'Width': 0.50390625,\n",
       "     'Height': 0.055937498807907104,\n",
       "     'Left': 0.2392578125,\n",
       "     'Top': 0.14374636113643646},\n",
       "    'Polygon': [{'X': 0.2392578125, 'Y': 0.14374636113643646},\n",
       "     {'X': 0.7431640625, 'Y': 0.14374636113643646},\n",
       "     {'X': 0.7431640625, 'Y': 0.19968385994434357},\n",
       "     {'X': 0.2392578125, 'Y': 0.19968385994434357}]}},\n",
       "  {'DetectedText': 'MISSION:',\n",
       "   'Type': 'WORD',\n",
       "   'Id': 2,\n",
       "   'ParentId': 0,\n",
       "   'Confidence': 100.0,\n",
       "   'Geometry': {'BoundingBox': {'Width': 0.322265625,\n",
       "     'Height': 0.065043605864048,\n",
       "     'Left': 0.1064453125,\n",
       "     'Top': 0.0715479627251625},\n",
       "    'Polygon': [{'X': 0.1064453125, 'Y': 0.0715479627251625},\n",
       "     {'X': 0.4287109375, 'Y': 0.0715479627251625},\n",
       "     {'X': 0.4287109375, 'Y': 0.1365915685892105},\n",
       "     {'X': 0.1064453125, 'Y': 0.1365915685892105}]}},\n",
       "  {'DetectedText': 'IMPOSSIBLE',\n",
       "   'Type': 'WORD',\n",
       "   'Id': 3,\n",
       "   'ParentId': 0,\n",
       "   'Confidence': 100.0,\n",
       "   'Geometry': {'BoundingBox': {'Width': 0.4296875,\n",
       "     'Height': 0.065043605864048,\n",
       "     'Left': 0.4599609375,\n",
       "     'Top': 0.0715479627251625},\n",
       "    'Polygon': [{'X': 0.4599609375, 'Y': 0.0715479627251625},\n",
       "     {'X': 0.8896484375, 'Y': 0.0715479627251625},\n",
       "     {'X': 0.8896484375, 'Y': 0.1365915685892105},\n",
       "     {'X': 0.4599609375, 'Y': 0.1365915685892105}]}},\n",
       "  {'DetectedText': 'FALLOUT',\n",
       "   'Type': 'WORD',\n",
       "   'Id': 4,\n",
       "   'ParentId': 1,\n",
       "   'Confidence': 99.77532958984375,\n",
       "   'Geometry': {'BoundingBox': {'Width': 0.50390625,\n",
       "     'Height': 0.055937498807907104,\n",
       "     'Left': 0.2392578125,\n",
       "     'Top': 0.14374636113643646},\n",
       "    'Polygon': [{'X': 0.2392578125, 'Y': 0.14374636113643646},\n",
       "     {'X': 0.7431640625, 'Y': 0.14374636113643646},\n",
       "     {'X': 0.7431640625, 'Y': 0.19968385994434357},\n",
       "     {'X': 0.2392578125, 'Y': 0.19968385994434357}]}}],\n",
       " 'TextModelVersion': '3.0',\n",
       " 'ResponseMetadata': {'RequestId': 'f944e6a5-d5f8-486d-8e30-e00d0c3b8ef6',\n",
       "  'HTTPStatusCode': 200,\n",
       "  'HTTPHeaders': {'x-amzn-requestid': 'f944e6a5-d5f8-486d-8e30-e00d0c3b8ef6',\n",
       "   'content-type': 'application/x-amz-json-1.1',\n",
       "   'content-length': '1976',\n",
       "   'date': 'Fri, 16 May 2025 14:36:56 GMT'},\n",
       "  'RetryAttempts': 0}}"
      ]
     },
     "metadata": {},
     "output_type": "display_data"
    }
   ],
   "source": [
    "# Call Amazon Rekognition to detect text in the image\n",
    "# https://docs.aws.amazon.com/rekognition/latest/dg/API_DetectText.html\n",
    "\n",
    "imageFileName = \"media/mi6poster.jpg\"\n",
    "\n",
    "detectedTxtResponse = rekognition.detect_text(\n",
    "    Image={\n",
    "        \"S3Object\": {\n",
    "            \"Bucket\": bucket,\n",
    "            \"Name\": imageFileName,\n",
    "        }\n",
    "    },\n",
    "    Filters={\n",
    "        \"WordFilter\": {\"MinConfidence\": 90, \"MinBoundingBoxHeight\": 0.05, \"MinBoundingBoxWidth\": 0.02},\n",
    "        #\"RegionsOfInterest\": [\n",
    "        #    {\"BoundingBox\": {\"Width\": 0.1, \"Height\": 0.05, \"Left\": 0.01, \"Top\": 0.01}},\n",
    "        #],\n",
    "    },\n",
    ")\n",
    "# Review JSON Response from Rekognition Text API (Text Detection)\n",
    "# Can you spot detected text, confidence score, and any additional information in the JSON response below\n",
    "display(detectedTxtResponse)\n"
   ]
  },
  {
   "cell_type": "markdown",
   "metadata": {
    "id": "Xhtfga-JlvDY"
   },
   "source": [
    "### 🖨️ Print Detected Words and Lines  \n",
    "List out each detected word and line with their types (WORD or LINE), useful for textual analysis or indexing.\n"
   ]
  },
  {
   "cell_type": "code",
   "execution_count": 30,
   "metadata": {
    "id": "Hzptt9Kr41qk",
    "outputId": "0db83dee-cf7b-44f2-f615-ad85e9239a0f"
   },
   "outputs": [
    {
     "name": "stdout",
     "output_type": "stream",
     "text": [
      "Line: MISSION: IMPOSSIBLE\n",
      "Line: FALLOUT\n",
      "Word: MISSION:\n",
      "Word: IMPOSSIBLE\n",
      "Word: FALLOUT\n"
     ]
    }
   ],
   "source": [
    "\n",
    "for textDetection in detectedTxtResponse[\"TextDetections\"]:\n",
    "    text = textDetection[\"DetectedText\"]\n",
    "    if textDetection[\"Type\"] == \"WORD\":\n",
    "        print(\"Word: {}\".format(textDetection[\"DetectedText\"]))\n",
    "    if textDetection[\"Type\"] == \"LINE\":\n",
    "        print(\"Line: {}\".format(textDetection[\"DetectedText\"]))\n"
   ]
  },
  {
   "cell_type": "markdown",
   "metadata": {
    "id": "aYcdU0vf4wnn"
   },
   "source": [
    "## 🎬 Can we do the same with Videos: Star Wars Introduction\n",
    "We generate and display a presigned URL for a video to be used for text detection within video content.\n"
   ]
  },
  {
   "cell_type": "code",
   "execution_count": 31,
   "metadata": {
    "id": "eZBIYP-C5Hnd",
    "outputId": "da4f9742-ca85-47d1-e5e4-3ec45444f144"
   },
   "outputs": [
    {
     "data": {
      "text/html": [
       "<video controls='controls' autoplay width='640' height='360' name='Video' src=''></video>"
      ],
      "text/plain": [
       "<IPython.core.display.HTML object>"
      ]
     },
     "metadata": {},
     "output_type": "display_data"
    }
   ],
   "source": [
    "videoFileName = \"media/starWarsIntro.mp4\"\n",
    "#Again strDetails and StrOverall\n",
    "\n",
    "videoS3URL = s3.generate_presigned_url(\"get_object\", Params={\"Bucket\": bucket, \"Key\": videoFileName})\n",
    "\n",
    "videoHTML = \"<video controls='controls' autoplay width='640' height='360' name='Video' src='{0}'></video>\".format(videoS3URL)\n",
    "\n",
    "display(HTML(videoHTML))"
   ]
  },
  {
   "cell_type": "markdown",
   "metadata": {
    "id": "Sg-yhsyO5O1K"
   },
   "source": [
    "### 🏁 Start Text Detection Job (Video)  \n",
    "Submit a video to Rekognition’s text detection API `start_text_detection` and start the async job for extracting text from frames and then get the job id\n"
   ]
  },
  {
   "cell_type": "code",
   "execution_count": 32,
   "metadata": {
    "id": "vIcX31QO5N6W",
    "outputId": "8ac11f7c-ec31-4170-9173-00e875494542"
   },
   "outputs": [
    {
     "name": "stdout",
     "output_type": "stream",
     "text": [
      "Amazon Rekognition Job Id: c1ebf831422392a4b10872cbebc95ce8c05c86c501a9e79a018a943cc25c6ba3\n"
     ]
    }
   ],
   "source": [
    "startVideoTxtDetectionJob = rekognition.start_text_detection(\n",
    "    Video={\n",
    "        \"S3Object\": {\n",
    "            \"Bucket\": bucket,\n",
    "            \"Name\": videoFileName,\n",
    "        }\n",
    "    },\n",
    ")\n",
    "videoTextDetectionJobId = startVideoTxtDetectionJob[\"JobId\"]\n",
    "print(\"Amazon Rekognition Job Id: {0}\".format(videoTextDetectionJobId)) #change Job Id inside and use print check all previous"
   ]
  },
  {
   "cell_type": "markdown",
   "metadata": {
    "id": "_jMtO_le5STX"
   },
   "source": [
    "### ⏱️ Poll Text Detection Job  \n",
    "Keep checking the job status until Rekognition returns the full text detection results.\n"
   ]
  },
  {
   "cell_type": "code",
   "execution_count": null,
   "metadata": {
    "id": "T9r27SyY5TDL",
    "outputId": "581a6116-3eda-4e86-cf50-84d249daa7f4"
   },
   "outputs": [
    {
     "name": "stdout",
     "output_type": "stream",
     "text": [
      "***********"
     ]
    }
   ],
   "source": [
    "\n",
    "getVideoTxtDetectionJob = rekognition.get_text_detection(JobId=videoTextDetectionJobId)\n",
    "\n",
    "while getVideoTxtDetectionJob[\"JobStatus\"] == \"IN_PROGRESS\":\n",
    "    time.sleep(5)\n",
    "    print(\"*\", end=\"\")\n",
    "\n",
    "    getVideoTxtDetectionJob = rekognition.get_text_detection(JobId=videoTextDetectionJobId)\n",
    "\n",
    "print(\"Amazon Rekognition Job Status: \"+getVideoTxtDetectionJob[\"JobStatus\"]) #add decorated print for the job ID"
   ]
  },
  {
   "cell_type": "markdown",
   "metadata": {
    "id": "a8P14OfS5f2w"
   },
   "source": [
    "### 📤 Display Text Detection Results  \n",
    "Print the raw output of detected text segments from the processed video.\n"
   ]
  },
  {
   "cell_type": "code",
   "execution_count": null,
   "metadata": {
    "id": "r7LAr9GB5h1B",
    "outputId": "507a517e-93b7-48cc-ee93-24fc8e83d091"
   },
   "outputs": [],
   "source": [
    "display(getTxtDetectionJob)"
   ]
  },
  {
   "cell_type": "markdown",
   "metadata": {
    "id": "gHxOxUoB5kSQ"
   },
   "source": [
    "### 🚩 Filter Words in Video  \n",
    "We can now search for specific terms or keywords from the detected text in the video and highlight those of interest.\n"
   ]
  },
  {
   "cell_type": "code",
   "execution_count": null,
   "metadata": {
    "id": "YvDxOW6H5mmR",
    "outputId": "6121241e-516e-44b4-d871-7a782fcc0c2e"
   },
   "outputs": [],
   "source": [
    "targetText = [\"POWER\", \"DESTROY\", \"SPIES\", \"PLANS\", \"EVIL\", \"REBEL\"] #add Lord vader\n",
    "txtDict = {}\n",
    "detectedTextInVideo= \"\"\n",
    "detectedTextStats =\"\"\n",
    "\n",
    "\n",
    "for textDetection in getVideoTxtDetectionJob[\"TextDetections\"]:\n",
    "    if textDetection[\"TextDetection\"][\"Type\"] == \"WORD\":\n",
    "        timeStamp = textDetection[\"Timestamp\"]\n",
    "        confidence = textDetection[\"TextDetection\"][\"Confidence\"]\n",
    "        detectedText = textDetection[\"TextDetection\"][\"DetectedText\"]\n",
    "\n",
    "        if detectedText in targetText:\n",
    "            print(\"Found target text at time: {} ms: Category{} (Confidence: {})\".format(timeStamp, detectedText, round(confidence, 2)))\n",
    "            detectedTextInVideo = detectedTextInVideo + \"Target Text Found at time {} ms: {} (Confidence: {})<br>\".format(ts, detectedText, round(confidence, 2))\n",
    "        if detectedText in txtDict:#You can add a condition to count only traget text ONLY\n",
    "            txtFound = txtDict[detectedText]\n",
    "            txtDict[detectedText] = {\"Text\": detectedText, \"Count\": 1 + txtFound[\"Count\"]}\n",
    "        else:\n",
    "            txtDict[detectedText] = {\"Text\": detectedText, \"Count\": 1}\n",
    "\n",
    "for txt in txtDict:\n",
    "    detectedTextStats = detectedTextStats + \"Name: {}, Count: {}\\n\".format(txt, txtDict[txt][\"Count\"])\n",
    "\n",
    "print(\"List of detected target text: \\n\")\n",
    "print(detectedTextInVideo)\n",
    "print(\"\\n\\nDetected Text Statistics:\\n\")\n",
    "print(detectedTextStats)\n",
    "\n",
    "\n"
   ]
  },
  {
   "cell_type": "markdown",
   "metadata": {
    "id": "wL3hyM3XXnY3"
   },
   "source": [
    "# 🚨🚨🚨 End of Part 3 🚨🚨🚨\n",
    "\n",
    "\n"
   ]
  },
  {
   "cell_type": "code",
   "execution_count": null,
   "metadata": {
    "id": "QtoNluhV31ui"
   },
   "outputs": [],
   "source": [
    "%%html\n",
    "\n",
    "<p><b>Shutting down your kernel for this notebook to release resources.</b></p>\n",
    "<button class=\"sm-command-button\" data-commandlinker-command=\"kernelmenu:shutdown\" style=\"display:none;\">Shutdown Kernel</button>\n",
    "\n",
    "<script>\n",
    "try {\n",
    "    els = document.getElementsByClassName(\"sm-command-button\");\n",
    "    els[0].click();\n",
    "}\n",
    "catch(err) {\n",
    "    // NoOp\n",
    "}\n",
    "</script>"
   ]
  },
  {
   "cell_type": "code",
   "execution_count": null,
   "metadata": {
    "id": "qP1Ae3CO31uj"
   },
   "outputs": [],
   "source": [
    "%%javascript\n",
    "\n",
    "try {\n",
    "    Jupyter.notebook.save_checkpoint();\n",
    "    Jupyter.notebook.session.delete();\n",
    "}\n",
    "catch(err) {\n",
    "    // NoOp\n",
    "}"
   ]
  },
  {
   "cell_type": "markdown",
   "metadata": {
    "id": "Ydjik2sBWRpG"
   },
   "source": [
    "\n",
    "# Read more from Amazon\n",
    "- https://docs.aws.amazon.com/rekognition/latest/dg/celebrities.html\n",
    "- https://docs.aws.amazon.com/rekognition/latest/dg/API_RecognizeCelebrities.html\n",
    "- https://docs.aws.amazon.com/rekognition/latest/dg/API_StartCelebrityRecognition.html\n",
    "- https://docs.aws.amazon.com/rekognition/latest/dg/API_GetCelebrityRecognition.html\n",
    "- https://docs.aws.amazon.com/rekognition/latest/dg/API_DetectText.html\n",
    "- https://docs.aws.amazon.com/rekognition/latest/dg/API_StartTextDetection.html\n",
    "- https://docs.aws.amazon.com/rekognition/latest/dg/API_GetTextDetection.html\n",
    "- https://docs.aws.amazon.com/rekognition/latest/dg/text-detecting-video-procedure.html.\n"
   ]
  },
  {
   "cell_type": "code",
   "execution_count": null,
   "metadata": {
    "id": "ua7iRGenWSI6"
   },
   "outputs": [],
   "source": []
  },
  {
   "cell_type": "code",
   "execution_count": null,
   "metadata": {
    "id": "SzXlqofvXGhi"
   },
   "outputs": [],
   "source": []
  }
 ],
 "metadata": {
  "colab": {
   "provenance": []
  },
  "instance_type": "ml.t3.medium",
  "kernelspec": {
   "display_name": "Python 3 (ipykernel)",
   "language": "python",
   "name": "python3"
  },
  "language_info": {
   "codemirror_mode": {
    "name": "ipython",
    "version": 3
   },
   "file_extension": ".py",
   "mimetype": "text/x-python",
   "name": "python",
   "nbconvert_exporter": "python",
   "pygments_lexer": "ipython3",
   "version": "3.11.11"
  }
 },
 "nbformat": 4,
 "nbformat_minor": 4
}
